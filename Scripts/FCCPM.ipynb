{
  "cells": [
    {
      "cell_type": "code",
      "execution_count": null,
      "metadata": {
        "colab": {
          "base_uri": "https://localhost:8080/"
        },
        "id": "B7UHMAYAudcS",
        "outputId": "d952331f-a601-40de-d5db-4df867cb113a"
      },
      "outputs": [
        {
          "name": "stdout",
          "output_type": "stream",
          "text": [
            "[138 410]\n"
          ]
        }
      ],
      "source": [
        "#Date: 30/10/2019\n",
        "#Authors: Jivesh Ramduny & Clare Kelly\n",
        "#Location: Imaging Mind Architecture Lab, Trinity College Dublin\n",
        "\n",
        "import os\n",
        "import glob\n",
        "import numpy as np\n",
        "import pandas as pd\n",
        "import seaborn as sns\n",
        "import matplotlib.pyplot as plt\n",
        "\n",
        "#input directory for the 268 ROIs timeseries derived from Shen parcellation\n",
        "#rs_datapath = '/content/drive/MyDrive/ABIDEMIST444TS/*_ABIDE_444Parcels_rest.txt'\n",
        "rs_datapath = '/content/drive/MyDrive/HBNSchFSIQ/*_HBN_500Parcels_rest_run_1.txt'\n",
        "rsfilename_list = np.sort(glob.glob(rs_datapath))\n",
        "\n",
        "#initialise an empty list to store all subjects timeseries for Sessions 1\n",
        "rs_non_zero_roi = []\n",
        "rsfMRI_timeseries = []\n",
        "rsfMRI_timeseries_2d = []\n",
        "rsfMRI_timeseries_corr = []\n",
        "rsfMRI_nonzero_timeseries = []\n",
        "\n",
        "#iterate through the ROIs timeseries of each subject for Session 1\n",
        "for rsfilename in rsfilename_list:\n",
        "\n",
        "    rs_corr_shen = np.transpose(np.loadtxt(rsfilename))\n",
        "    #print(rs_corr_shen.shape)\n",
        "    #append the ROI timeseries for each subject to a list\n",
        "    rsfMRI_timeseries.append(rs_corr_shen)\n",
        "    #find the subject-wise indices whose ROI timeseries have a value of 0\n",
        "    rs_non_zero = np.where(np.any(rs_corr_shen == 0, axis = 1))\n",
        "    #append the subject-wise indices to a list\n",
        "    rs_non_zero_roi = np.concatenate((rs_non_zero_roi, rs_non_zero), axis = None)\n",
        "\n",
        "#find all the unique indices whose ROI timeseries contain a value of 0\n",
        "find_unique_indices = np.unique(rs_non_zero_roi)\n",
        "find_unique_indices_int = find_unique_indices.astype(int)\n",
        "print(find_unique_indices_int)\n",
        "\n",
        "for rsfilename in range(len(rsfilename_list)):\n",
        "\n",
        "    rsname = rsfilename + 1\n",
        "    #access the subject-wise ROI timeseries of each individual for Session 1\n",
        "    rsfMRI_timeseries_2d = rsfMRI_timeseries[rsfilename]\n",
        "\n",
        "    #remove all the rows whose ROI timseries contain a value of 0 based on the list of unique indices for Session 1\n",
        "    rsfMRI_nonzero_timeseries = np.delete(rsfMRI_timeseries_2d, find_unique_indices_int, axis = 0)\n",
        "\n",
        "    #compute Pearson’s correlation coefficient for Session 1\n",
        "    #rsfMRI_corr = np.corrcoef(rsfMRI_nonzero_timeseries)\n",
        "    #print(rsfMRI_corr.shape)\n",
        "    ##pd.DataFrame(rsfMRI_corr).to_csv(f\"/content/drive/MyDrive/connectivity_matrices_MIST_ABIDE/00{rsname}.csv\", header = None, index = None)\n"
      ]
    },
    {
      "cell_type": "code",
      "execution_count": null,
      "metadata": {
        "colab": {
          "base_uri": "https://localhost:8080/"
        },
        "id": "sHtHxY1ivVrd",
        "outputId": "7745ac61-5dc0-4973-8202-1fde9f6b14bd"
      },
      "outputs": [
        {
          "data": {
            "text/plain": [
              "array([138, 410])"
            ]
          },
          "execution_count": 44,
          "metadata": {},
          "output_type": "execute_result"
        }
      ],
      "source": [
        "zero_ROIS = find_unique_indices_int.copy()\n",
        "zero_ROIS\n"
      ]
    },
    {
      "cell_type": "code",
      "execution_count": null,
      "metadata": {
        "id": "u_eh0fFwuKD8"
      },
      "outputs": [],
      "source": [
        "#Date: 30/10/2019\n",
        "#Authors: Jivesh Ramduny & Clare Kelly\n",
        "#Location: Imaging Mind Architecture Lab, Trinity College Dublin\n",
        "\n",
        "import os\n",
        "import glob\n",
        "import numpy as np\n",
        "import pandas as pd\n",
        "import seaborn as sns\n",
        "import matplotlib.pyplot as plt\n",
        "\n",
        "#input directory for the 268 ROIs timeseries derived from Shen parcellation\n",
        "rs_datapath = '/content/drive/MyDrive/FCABIDE/TS/ABIDETS500_N407/*_ABIDE_TDC_500Parcels_2mm_rest_run.txt'\n",
        "rsfilename_list = np.sort(glob.glob(rs_datapath))\n",
        "\n",
        "#initialise an empty list to store all subjects timeseries for Sessions 1\n",
        "rs_non_zero_roi = []\n",
        "rsfMRI_timeseries = []\n",
        "rsfMRI_timeseries_2d = []\n",
        "rsfMRI_timeseries_corr = []\n",
        "rsfMRI_nonzero_timeseries = []\n",
        "rsfMRI_corr_test = []\n",
        "#iterate through the ROIs timeseries of each subject for Session 1\n",
        "for rsfilename in rsfilename_list:\n",
        "\n",
        "    rs_corr_shen = np.transpose(np.loadtxt(rsfilename))\n",
        "    rs_corr_shen = np.delete(rs_corr_shen, zero_ROIS, axis = 0)\n",
        "    print(rs_corr_shen.shape)\n",
        "    #append the ROI timeseries for each subject to a list\n",
        "    rsfMRI_timeseries.append(rs_corr_shen)\n",
        "    #find the subject-wise indices whose ROI timeseries have a value of 0\n",
        "    rs_non_zero = np.where(np.any(rs_corr_shen == 0, axis = 1))\n",
        "    #append the subject-wise indices to a list\n",
        "    rs_non_zero_roi = np.concatenate((rs_non_zero_roi, rs_non_zero), axis = None)\n",
        "\n",
        "for rsfilename in range(len(rsfilename_list)):\n",
        "\n",
        "    rsname = rsfilename + 1\n",
        "    #access the subject-wise ROI timeseries of each individual for Session 1\n",
        "    rsfMRI_timeseries_2d = rsfMRI_timeseries[rsfilename]\n",
        "\n",
        "    #compute Pearson’s correlation coefficient for Session 1\n",
        "    rsfMRI_corr = np.corrcoef(rsfMRI_timeseries_2d)\n",
        "    print(rsfMRI_corr.shape)\n",
        "    rsfMRI_corr[np.isnan(rsfMRI_corr)] = 0\n",
        "    pd.DataFrame(rsfMRI_corr).to_csv(f\"/content/drive/MyDrive/FCABIDE/connectivity_matrices/connectivity_matrices_GENABIDE_TDC_Schaefer500/00{rsname}.csv\", header = None, index = None)\n",
        "    rsfMRI_corr_test.append(rsfMRI_corr)\n"
      ]
    },
    {
      "cell_type": "code",
      "execution_count": null,
      "metadata": {
        "colab": {
          "base_uri": "https://localhost:8080/"
        },
        "id": "fszbw3im59u6",
        "outputId": "ed36d56e-c9a5-4b59-a6e6-b46d7da5abf2"
      },
      "outputs": [
        {
          "data": {
            "text/plain": [
              "array([[ 1.        ,  0.59011696,  0.4636471 , ..., -0.25795736,\n",
              "         0.0556278 , -0.22712791],\n",
              "       [ 0.59011696,  1.        ,  0.40636626, ..., -0.18302093,\n",
              "         0.2398131 , -0.06357384],\n",
              "       [ 0.4636471 ,  0.40636626,  1.        , ...,  0.01287761,\n",
              "         0.1182946 , -0.01375346],\n",
              "       ...,\n",
              "       [-0.25795736, -0.18302093,  0.01287761, ...,  1.        ,\n",
              "         0.36700248,  0.64786053],\n",
              "       [ 0.0556278 ,  0.2398131 ,  0.1182946 , ...,  0.36700248,\n",
              "         1.        ,  0.19935355],\n",
              "       [-0.22712791, -0.06357384, -0.01375346, ...,  0.64786053,\n",
              "         0.19935355,  1.        ]])"
            ]
          },
          "execution_count": 46,
          "metadata": {},
          "output_type": "execute_result"
        }
      ],
      "source": [
        "rsfMRI_corr_test = np.array(rsfMRI_corr_test)\n",
        "rsfMRI_corr_test[0]"
      ]
    },
    {
      "cell_type": "code",
      "execution_count": null,
      "metadata": {
        "colab": {
          "base_uri": "https://localhost:8080/"
        },
        "id": "OK4-E27f8DFL",
        "outputId": "3104d956-4a02-42c7-e4d6-6138e708d7c8"
      },
      "outputs": [
        {
          "name": "stdout",
          "output_type": "stream",
          "text": [
            "(306, 225, 375)\n",
            "(306, 225, 375)\n"
          ]
        }
      ],
      "source": [
        "#Date: 30/10/2019\n",
        "#Authors: Jivesh Ramduny & Clare Kelly\n",
        "#Location: Imaging Mind Architecture Lab, Trinity College Dublin\n",
        "\n",
        "import os\n",
        "import glob\n",
        "import numpy as np\n",
        "import pandas as pd\n",
        "import seaborn as sns\n",
        "import matplotlib.pyplot as plt\n",
        "\n",
        "#input directory for the 268 ROIs timeseries derived from Shen parcellation\n",
        "rs_datapath = '/content/drive/MyDrive/HBNTS306/*_HBN_268Parcels_rest_run_1.txt'\n",
        "mv_datapath = '/content/drive/MyDrive/HBNTS306/*_HBN_268Parcels_rest_run_2.txt'\n",
        "\n",
        "rsfilename_list = np.sort(glob.glob(rs_datapath))\n",
        "mvfilename_list = np.sort(glob.glob(mv_datapath))\n",
        "\n",
        "#initialise an empty list to store all subjects timeseries for Sessions 1\n",
        "rs_non_zero_roi = []\n",
        "rsfMRI_timeseries = []\n",
        "rsfMRI_timeseries_2d = []\n",
        "rsfMRI_timeseries_corr = []\n",
        "rsfMRI_nonzero_timeseries = []\n",
        "\n",
        "#initialise an empty list to store all subjects timeseries for Sessions 2\n",
        "mv_non_zero_roi = []\n",
        "mvfMRI_timeseries = []\n",
        "mvfMRI_timeseries_2d = []\n",
        "mvfMRI_timeseries_corr = []\n",
        "\n",
        "#iterate through the ROIs timeseries of each subject for Session 1\n",
        "for rsfilename in rsfilename_list:\n",
        "\n",
        "    rs_corr_shen = np.transpose(np.loadtxt(rsfilename))\n",
        "    #append the ROI timeseries for each subject to a list\n",
        "    rsfMRI_timeseries.append(rs_corr_shen)\n",
        "    #find the subject-wise indices whose ROI timeseries have a value of 0\n",
        "    rs_non_zero = np.where(np.any(rs_corr_shen == 0, axis = 1))\n",
        "    #append the subject-wise indices to a list\n",
        "    rs_non_zero_roi = np.concatenate((rs_non_zero_roi, rs_non_zero), axis = None)\n",
        "\n",
        "#convert the appended list of all the subjects' timeseries to an array\n",
        "rsfMRI_timeseries_to_array = np.asarray(rsfMRI_timeseries)\n",
        "\n",
        "#iterate through the ROIs timeseries of each subject for Session 2\n",
        "for mvfilename in mvfilename_list:\n",
        "\n",
        "    mv_corr_shen = np.transpose(np.loadtxt(mvfilename))\n",
        "    #append the ROI timeseries for each subject to a list\n",
        "    mvfMRI_timeseries.append(mv_corr_shen)\n",
        "    #find the subject-wise indices whose ROI timeseries have a value of 0\n",
        "    mv_non_zero = np.where(np.any(mv_corr_shen == 0, axis = 1))\n",
        "    #append the subject-wise indices to a list\n",
        "    mv_non_zero_roi = np.concatenate((mv_non_zero_roi, mv_non_zero), axis = None)\n",
        "\n",
        "#convert the appended list of all the subjects' timeseries to an array\n",
        "mvfMRI_timeseries_to_array = np.asarray(mvfMRI_timeseries)\n",
        "\n",
        "#append all subject-wise indices whose ROI timeseries contain a value of 0 for Session 1 & 2\n",
        "all_indices_s1_s2 = np.concatenate((rs_non_zero_roi, mv_non_zero_roi), axis = None)\n",
        "#find all the unique indices whose ROI timeseries contain a value of 0\n",
        "find_unique_indices = np.unique(all_indices_s1_s2)\n",
        "find_unique_indices_int = find_unique_indices.astype(int)\n",
        "\n",
        "#remove all the rows whose ROI timseries contain a value of 0 based on the list of unique indices for Session 1\n",
        "rsfMRI_nonzero_timeseries = np.delete(rsfMRI_timeseries_to_array, find_unique_indices_int, axis = 1)\n",
        "#sanity check to verify the content and size of the resulting nonzero ROI timeseries\n",
        "print(rsfMRI_nonzero_timeseries.shape)\n",
        "\n",
        "#remove all the rows whose ROI timseries contain a value of 0 based on the list of unique indices for Session 2\n",
        "mvfMRI_nonzero_timeseries = np.delete(mvfMRI_timeseries_to_array, find_unique_indices_int, axis = 1)\n",
        "#sanity check to verify the content and size of the resulting nonzero ROI timeseries\n",
        "print(mvfMRI_nonzero_timeseries.shape)\n"
      ]
    },
    {
      "cell_type": "markdown",
      "metadata": {
        "id": "GChQTnPLpVnZ"
      },
      "source": [
        "##### Scrubbing"
      ]
    },
    {
      "cell_type": "code",
      "execution_count": null,
      "metadata": {
        "id": "cFQUfd702e4H"
      },
      "outputs": [],
      "source": [
        "import os\n",
        "import glob\n",
        "import numpy as np\n",
        "import pandas as pd\n",
        "\n",
        "confound_dir_run01 = np.sort(glob.glob('/content/drive/MyDrive/HBNMOTION479/*_task-rest_run-1_bold_mcf.nii.gz_rel.rms'))\n",
        "confound_dir_run02 = np.sort(glob.glob('/content/drive/MyDrive/HBNMOTION479/*_task-rest_run-2_bold_mcf.nii.gz_rel.rms'))\n",
        "\n",
        "for file in confound_dir_run02:\n",
        "\n",
        "  sub = os.path.basename(file).split('_')[0]\n",
        "  confound_df = np.loadtxt(file)\n",
        "  all_confound_vols = np.insert(confound_df, 0, 0)\n",
        "  np.savetxt('/content/drive/MyDrive/motion_params_HBN479FSIQ/'f'{sub}_task-rest_run-2_bold_mcf.nii.gz_rel.rms', all_confound_vols)\n"
      ]
    },
    {
      "cell_type": "code",
      "execution_count": null,
      "metadata": {
        "id": "ZWBYT07Uq1yj"
      },
      "outputs": [],
      "source": [
        "rs_motion_param_datapath = '/content/drive/MyDrive/motion_params_HBN516CBCL/*_task-rest_run-1_bold_mcf.nii.gz_rel.rms'\n",
        "mv_motion_param_datapath = '/content/drive/MyDrive/motion_params_HBN516CBCL/*_task-rest_run-2_bold_mcf.nii.gz_rel.rms'\n",
        "\n",
        "rsfilename_motion_param_list = np.sort(glob.glob(rs_motion_param_datapath))\n",
        "mvfilename_motion_param_list = np.sort(glob.glob(mv_motion_param_datapath))\n",
        "\n",
        "rssubj_exclusion = []\n",
        "mvsubj_exclusion = []\n",
        "best_timepoints_size_s1 = []\n",
        "best_timepoints_size_s2 = []\n",
        "all_unique_contaminated_indices = []\n",
        "rsall_unique_contaminated_indices = []\n",
        "mvall_unique_contaminated_indices = []\n",
        "\n",
        "#select head motion threshold to identify contaminated timepoints\n",
        "threshold = 0.20\n",
        "\n",
        "#select a minimum amount of timepoints to be retained after identifying contaminated timepoints\n",
        "mintimepoint = 20\n"
      ]
    },
    {
      "cell_type": "code",
      "execution_count": null,
      "metadata": {
        "id": "4ztQB8X1coOv"
      },
      "outputs": [],
      "source": [
        "rs_motion_param_datapath = '/content/drive/MyDrive/ABIDE_motion_params_fd/*_fd_motion_params.txt'\n",
        "rsfilename_motion_param_list = np.sort(glob.glob(rs_motion_param_datapath))\n",
        "\n",
        "rssubj_exclusion = []\n",
        "mvsubj_exclusion = []\n",
        "best_timepoints_size_s1 = []\n",
        "best_timepoints_size_s2 = []\n",
        "all_unique_contaminated_indices = []\n",
        "rsall_unique_contaminated_indices = []\n",
        "mvall_unique_contaminated_indices = []\n",
        "\n",
        "#select head motion threshold to identify contaminated timepoints\n",
        "threshold = 0.20\n",
        "\n",
        "#select a minimum amount of timepoints to be retained after identifying contaminated timepoints\n",
        "mintimepoint = 1"
      ]
    },
    {
      "cell_type": "code",
      "execution_count": null,
      "metadata": {
        "colab": {
          "base_uri": "https://localhost:8080/"
        },
        "id": "QTQnWaAspVQi",
        "outputId": "dbea8c5d-a32d-4d10-aaab-7a12aea326ea"
      },
      "outputs": [
        {
          "name": "stdout",
          "output_type": "stream",
          "text": [
            "6\n"
          ]
        }
      ],
      "source": [
        "for rsfilename in range(rsfMRI_nonzero_timeseries.shape[0]):\n",
        "\n",
        "    #load each subject's head motion parameter files for Session 1\n",
        "    rmsFDs1 = np.loadtxt(rsfilename_motion_param_list[rsfilename])\n",
        "    #find the indices of the contaminated timepoints with rmsFD > threshold\n",
        "    rmsFDs1_thresh = np.asarray(np.where(rmsFDs1 > threshold))\n",
        "\n",
        "    #find the indices of the preceding timepoints to be srubbed from the timeseries\n",
        "    left_indices = rmsFDs1_thresh - 1\n",
        "    #remove the indices less than 0 as indices should always start from zero\n",
        "    left_nonzero_indices = left_indices[left_indices >= 0]\n",
        "    #find the indices of the first succeeding timepoints to be scrubbed from the timeseries\n",
        "    right_first_indices = rmsFDs1_thresh + 1\n",
        "    #remove the indices of the first succeeding timepoints if they exceed the size of the timepoints\n",
        "    right_first_in_range_indices = right_first_indices[right_first_indices < rmsFDs1.shape]\n",
        "    #find the indices of the second succeeding timepoints to be scrubbed from the timeseries\n",
        "    right_second_indices = rmsFDs1_thresh + 2\n",
        "    #remove the indices of the second succeeding timepoints if they exceed the size of the timepoints\n",
        "    right_second_in_range_indices = right_second_indices[right_second_indices < rmsFDs1.shape]\n",
        "\n",
        "    #concatenate all the contaminated indices including the scrubbed indices into an array\n",
        "    all_contaminated_indices = np.concatenate((rmsFDs1_thresh, left_nonzero_indices, right_first_in_range_indices, right_second_in_range_indices), axis = None)\n",
        "    #find all the unique contaminated indices including the scrubbed indices\n",
        "    unique_contaminated_indices = np.unique(all_contaminated_indices).astype(int)\n",
        "    #append all subjects' unique contaminated indices including the scrubbed indices into an array\n",
        "    all_unique_contaminated_indices.append(unique_contaminated_indices)\n",
        "\n",
        "    #find the remaining amount of timepoints left after identifying the contaminated timepoints\n",
        "    best_timepoints_size = rsfMRI_nonzero_timeseries.shape[2] - np.asarray(unique_contaminated_indices.shape)\n",
        "    #store all subjects' remaining amount of timepoints left in an array\n",
        "    best_timepoints_size_s1.append(best_timepoints_size)\n",
        "\n",
        "    #identify the subjects who has less remaining amount of timepoints than the minimum amount of timepoints required\n",
        "    if (best_timepoints_size < mintimepoint):\n",
        "        rssubj_exclusion.append(rsfilename)\n",
        "\n",
        "print(np.array(rssubj_exclusion).shape[0])\n"
      ]
    },
    {
      "cell_type": "code",
      "execution_count": null,
      "metadata": {
        "colab": {
          "base_uri": "https://localhost:8080/"
        },
        "id": "I3SQePTKrHM1",
        "outputId": "428df898-154f-42c4-b8a0-80214baeddc8"
      },
      "outputs": [
        {
          "name": "stdout",
          "output_type": "stream",
          "text": [
            "20\n"
          ]
        }
      ],
      "source": [
        "for mvfilename in range(mvfMRI_nonzero_timeseries.shape[0]):\n",
        "\n",
        "    #load each subject's head motion parameter files for Session 2\n",
        "    rmsFDs2 = np.loadtxt(mvfilename_motion_param_list[mvfilename])\n",
        "    #find the indices of the contaminated timepoints with rmsFD > threshold\n",
        "    rmsFDs2_thresh = np.asarray(np.where(rmsFDs2 > threshold))\n",
        "\n",
        "    #find the indices of the preceding timepoints to be srubbed from the timeseries\n",
        "    mvleft_indices = rmsFDs2_thresh - 1\n",
        "    #remove the indices less than 0 as indices should always start from zero\n",
        "    mvleft_nonzero_indices = mvleft_indices[mvleft_indices >= 0]\n",
        "    #find the indices of the first succeeding timepoints to be scrubbed from the timeseries\n",
        "    mvright_first_indices = rmsFDs2_thresh + 1\n",
        "    #remove the indices of the first succeeding timepoints if they exceed the size of the timepoints\n",
        "    mvright_first_in_range_indices = mvright_first_indices[mvright_first_indices < rmsFDs2.shape]\n",
        "    #find the indices of the second succeeding timepoints to be scrubbed from the timeseries\n",
        "    mvright_second_indices = rmsFDs2_thresh + 2\n",
        "    #remove the indices of the second succeeding timepoints if they exceed the size of the timepoints\n",
        "    mvright_second_in_range_indices = mvright_second_indices[mvright_second_indices < rmsFDs2.shape]\n",
        "\n",
        "    #concatenate all the contaminated indices including the scrubbed indices into an array\n",
        "    mvall_contaminated_indices = np.concatenate((rmsFDs2_thresh, mvleft_nonzero_indices, mvright_first_in_range_indices, mvright_second_in_range_indices), axis = None)\n",
        "    #find all the unique contaminated indices including the scrubbed indices\n",
        "    mvunique_contaminated_indices = np.unique(mvall_contaminated_indices).astype(int)\n",
        "    #append all subjects' unique contaminated indices including the scrubbed indices into an array\n",
        "    mvall_unique_contaminated_indices.append(mvunique_contaminated_indices)\n",
        "\n",
        "    #find the remaining amount of timepoints left after identifying the contaminated timepoints\n",
        "    best_mvtimepoints_size = mvfMRI_nonzero_timeseries.shape[2] - np.asarray(mvunique_contaminated_indices.shape)\n",
        "    #store all subjects' remaining amount of timepoints left in an array\n",
        "    best_timepoints_size_s2.append(best_mvtimepoints_size)\n",
        "\n",
        "    #identify the subjects who has less remaining amount of timepoints than the minimum amount of timepoints required\n",
        "    if (best_mvtimepoints_size < mintimepoint):\n",
        "        mvsubj_exclusion.append(mvfilename)\n",
        "\n",
        "print(np.array(mvsubj_exclusion).shape[0])\n"
      ]
    },
    {
      "cell_type": "code",
      "execution_count": null,
      "metadata": {
        "colab": {
          "base_uri": "https://localhost:8080/"
        },
        "id": "bFNaRfgzr3a-",
        "outputId": "b5780c62-a913-4d9f-8813-f238854118b1"
      },
      "outputs": [
        {
          "name": "stdout",
          "output_type": "stream",
          "text": [
            "493\n",
            "493\n",
            "(493, 198, 375)\n",
            "(493, 198, 375)\n",
            "493\n",
            "493\n"
          ]
        },
        {
          "name": "stderr",
          "output_type": "stream",
          "text": [
            "/usr/local/lib/python3.8/dist-packages/numpy/lib/function_base.py:4454: VisibleDeprecationWarning: Creating an ndarray from ragged nested sequences (which is a list-or-tuple of lists-or-tuples-or ndarrays with different lengths or shapes) is deprecated. If you meant to do this, you must specify 'dtype=object' when creating the ndarray.\n",
            "  arr = asarray(arr)\n"
          ]
        }
      ],
      "source": [
        "#concatenate all subjects to be excluded from Session 1 & Session 2\n",
        "all_subj_exclusion = np.concatenate((rssubj_exclusion, mvsubj_exclusion), axis = None)\n",
        "#find the unique subjects to be excluded from Session 1 & Session 2\n",
        "unique_subj_exclusion = np.unique(all_subj_exclusion).astype(int)\n",
        "\n",
        "#remove the size of the best timepoints for the subjects to be excluded for Session 1 & Session 2\n",
        "best_timepoints_s1 = np.delete(best_timepoints_size_s1, unique_subj_exclusion)\n",
        "best_timepoints_s2 = np.delete(best_timepoints_size_s2, unique_subj_exclusion)\n",
        "print(best_timepoints_s1.shape[0]); print(best_timepoints_s2.shape[0])\n",
        "\n",
        "#remove the subjects to be excluded from the original 3D array for Session 1 & Session 2\n",
        "rsfMRI_nonzero_best_timeseries = np.delete(rsfMRI_nonzero_timeseries, unique_subj_exclusion, axis = 0)\n",
        "mvfMRI_nonzero_best_timeseries = np.delete(mvfMRI_nonzero_timeseries, unique_subj_exclusion, axis = 0)\n",
        "print(rsfMRI_nonzero_best_timeseries.shape); print(mvfMRI_nonzero_best_timeseries.shape)\n",
        "\n",
        "#remove all the unique contaminated indices of the subjects to be excluded for Session 1 & Session 2\n",
        "rsbest_unique_contaminated_indices = np.delete(all_unique_contaminated_indices, unique_subj_exclusion)\n",
        "mvbest_unique_contaminated_indices = np.delete(mvall_unique_contaminated_indices, unique_subj_exclusion)\n",
        "print(rsbest_unique_contaminated_indices.shape[0]); print(mvbest_unique_contaminated_indices.shape[0])\n"
      ]
    },
    {
      "cell_type": "code",
      "execution_count": null,
      "metadata": {
        "id": "3AKdzokXNLxV"
      },
      "outputs": [],
      "source": [
        "for subREST1 in range(rsfMRI_nonzero_best_timeseries.shape[0]):\n",
        "\n",
        "  rsname = subREST1 + 1\n",
        "  scrubbed_rsfMRI_timeseries = np.delete(rsfMRI_nonzero_best_timeseries, rsbest_unique_contaminated_indices[subREST1], axis = 2)\n",
        "  print(scrubbed_rsfMRI_timeseries.shape)\n",
        "  scrubbed_REST1_FC_matrix = np.corrcoef(scrubbed_rsfMRI_timeseries[subREST1, :, :])\n",
        "  pd.DataFrame(scrubbed_REST1_FC_matrix).to_csv(f\"/content/drive/MyDrive/HBNScrubbedFCFSIQ/REST1/00{rsname}.csv\", header = None, index = None)\n"
      ]
    },
    {
      "cell_type": "code",
      "execution_count": null,
      "metadata": {
        "id": "EKP2-dTjP6YB"
      },
      "outputs": [],
      "source": [
        "for subREST2 in range(mvfMRI_nonzero_best_timeseries.shape[0]):\n",
        "\n",
        "  mvname = subREST2 + 1\n",
        "  scrubbed_mvfMRI_timeseries = np.delete(mvfMRI_nonzero_best_timeseries, mvbest_unique_contaminated_indices[subREST2], axis = 2)\n",
        "  print(scrubbed_mvfMRI_timeseries.shape)\n",
        "  scrubbed_REST2_FC_matrix = np.corrcoef(scrubbed_mvfMRI_timeseries[subREST2, :, :])\n",
        "  pd.DataFrame(scrubbed_REST2_FC_matrix).to_csv(f\"/content/drive/MyDrive/HBNScrubbedFCFSIQ/REST2/00{mvname}.csv\", header = None, index = None)\n"
      ]
    },
    {
      "cell_type": "markdown",
      "metadata": {
        "id": "TSNgB_s1B4mr"
      },
      "source": [
        "##### Fingerprint"
      ]
    },
    {
      "cell_type": "code",
      "execution_count": null,
      "metadata": {
        "colab": {
          "base_uri": "https://localhost:8080/"
        },
        "id": "rOey7PDlB7RD",
        "outputId": "16cc8de3-4e96-470e-c588-998445505933"
      },
      "outputs": [
        {
          "name": "stdout",
          "output_type": "stream",
          "text": [
            "[0.75373134]\n"
          ]
        }
      ],
      "source": [
        "#input directory for the FC matrices derived from Shen parcellation\n",
        "rs_datapath = '/content/drive/MyDrive/HBNScrubbedFCFSIQ/REST1/00*.csv'\n",
        "mv_datapath = '/content/drive/MyDrive/HBNScrubbedFCFSIQ/REST2/00*.csv'\n",
        "\n",
        "rsfilename_list = np.sort(glob.glob(rs_datapath))\n",
        "mvfilename_list = np.sort(glob.glob(mv_datapath))\n",
        "\n",
        "rsfMRI_timeseries_corr = []\n",
        "mvfMRI_timeseries_corr = []\n",
        "\n",
        "for rsfilename in rsfilename_list:\n",
        "\n",
        "  rsfMRI_corr = np.array(pd.read_csv(rsfilename, header = None))\n",
        "  #truncate correlation matrix to select upper triangular matrix for Session 1\n",
        "  rsfMRI_corr_shen = rsfMRI_corr.shape[0]\n",
        "  arange_rsfMRI_corr, diag = np.triu_indices(rsfMRI_corr_shen, 1)\n",
        "  trunc_rsfMRI_corr_shen = rsfMRI_corr[arange_rsfMRI_corr, diag]\n",
        "\n",
        "  #append the truncated correlation matrix of all subjects to the list\n",
        "  rsfMRI_timeseries_corr.append(trunc_rsfMRI_corr_shen)\n",
        "\n",
        "for mvfilename in mvfilename_list:\n",
        "\n",
        "  mvfMRI_corr = np.array(pd.read_csv(mvfilename, header = None))\n",
        "  #truncate correlation matrix to select upper triangular matrix for Session 2\n",
        "  mvfMRI_corr_shen = mvfMRI_corr.shape[0]\n",
        "  arange_mvfMRI_corr, diag = np.triu_indices(mvfMRI_corr_shen, 1)\n",
        "  trunc_mvfMRI_corr_shen = mvfMRI_corr[arange_mvfMRI_corr, diag]\n",
        "\n",
        "  #append the truncated correlation matrix of all subjects to the list\n",
        "  mvfMRI_timeseries_corr.append(trunc_mvfMRI_corr_shen)\n",
        "\n",
        "#convert the list to an array for Session 1 & 2\n",
        "trunc_rsfMRI_corr_to_array = np.asarray(rsfMRI_timeseries_corr)\n",
        "trunc_mvfMRI_corr_to_array = np.asarray(mvfMRI_timeseries_corr)\n",
        "\n",
        "#transpose the array to ease further computation for Session 1 & 2\n",
        "trans_rsfMRI_corr = np.transpose(trunc_rsfMRI_corr_to_array)\n",
        "trans_mvfMRI_corr = np.transpose(trunc_mvfMRI_corr_to_array)\n",
        "\n",
        "#compute columnwise pearson's correlation matrix between Session 1 and Session 2\n",
        "trans_rsfMRI_corr = (trans_rsfMRI_corr - trans_rsfMRI_corr.mean(axis = 0)) / trans_rsfMRI_corr.std(axis = 0)\n",
        "trans_mvfMRI_corr = (trans_mvfMRI_corr - trans_mvfMRI_corr.mean(axis = 0)) / trans_mvfMRI_corr.std(axis = 0)\n",
        "rs_mv_corr = np.dot(trans_rsfMRI_corr.T, trans_mvfMRI_corr) / trans_rsfMRI_corr.shape[0]\n",
        "\n",
        "#extract the diagonal values of the final correlation matrix\n",
        "diag = np.diag(rs_mv_corr)\n",
        "\n",
        "#extract the maximum value in each row of the final correlation matrix\n",
        "max_corr = np.amax(rs_mv_corr, axis = 1)\n",
        "\n",
        "#ID is based on a binary system where each diagonal value is compared with the\n",
        "#maximum value of that row in the final correlation matrix. We expect that the\n",
        "#diagnoal value is greater than or equal to the maximum value of each row to\n",
        "#allow successful identification\n",
        "diag_to_array = np.array(diag)\n",
        "max_corr_to_array = np.array(max_corr)\n",
        "BID = np.greater_equal(diag_to_array, max_corr_to_array)\n",
        "\n",
        "#success rate is defined as the total number of positive identifications divided\n",
        "#by the total number of subjects\n",
        "success_rate_BID = np.sum(BID)/(BID.shape)\n",
        "print(success_rate_BID)\n"
      ]
    },
    {
      "cell_type": "markdown",
      "metadata": {
        "id": "8jLjOguJWonh"
      },
      "source": [
        "##### REST1 FC Matrices"
      ]
    },
    {
      "cell_type": "code",
      "execution_count": null,
      "metadata": {
        "colab": {
          "base_uri": "https://localhost:8080/"
        },
        "id": "LuOw7HmBWuYT",
        "outputId": "1fb3aab3-5f75-4575-acb8-0a15b96adb0e"
      },
      "outputs": [
        {
          "name": "stdout",
          "output_type": "stream",
          "text": [
            "[ 88 201]\n",
            "(306, 266, 375)\n"
          ]
        }
      ],
      "source": [
        "#Date: 30/10/2019\n",
        "#Authors: Jivesh Ramduny & Clare Kelly\n",
        "#Location: Imaging Mind Architecture Lab, Trinity College Dublin\n",
        "\n",
        "import os\n",
        "import glob\n",
        "import numpy as np\n",
        "import pandas as pd\n",
        "import seaborn as sns\n",
        "import matplotlib.pyplot as plt\n",
        "\n",
        "#input directory for the 268 ROIs timeseries derived from Shen parcellation\n",
        "rs_datapath = '/content/drive/MyDrive/HBNTS306/*_HBN_268Parcels_rest_run_1.txt'\n",
        "mv_datapath = '/content/drive/MyDrive/HBNTS306/*_HBN_268Parcels_rest_run_2.txt'\n",
        "rsfilename_list = np.sort(glob.glob(rs_datapath))\n",
        "mvfilename_list = np.sort(glob.glob(mv_datapath))\n",
        "\n",
        "#initialise an empty list to store all subjects timeseries for Sessions 1\n",
        "rs_non_zero_roi = []\n",
        "rsfMRI_timeseries = []\n",
        "rsfMRI_timeseries_2d = []\n",
        "rsfMRI_timeseries_corr = []\n",
        "rsfMRI_nonzero_timeseries = []\n",
        "\n",
        "#initialise an empty list to store all subjects timeseries for Sessions 2\n",
        "mv_non_zero_roi = []\n",
        "mvfMRI_timeseries = []\n",
        "mvfMRI_timeseries_2d = []\n",
        "mvfMRI_timeseries_corr = []\n",
        "\n",
        "#iterate through the ROIs timeseries of each subject for Session 1\n",
        "for rsfilename in rsfilename_list:\n",
        "\n",
        "    rs_corr_shen = np.transpose(np.loadtxt(rsfilename))\n",
        "    #append the ROI timeseries for each subject to a list\n",
        "    rsfMRI_timeseries.append(rs_corr_shen)\n",
        "    #find the subject-wise indices whose ROI timeseries have a value of 0\n",
        "    rs_non_zero = np.where(np.any(rs_corr_shen == 0, axis = 1))\n",
        "    #append the subject-wise indices to a list\n",
        "    rs_non_zero_roi = np.concatenate((rs_non_zero_roi, rs_non_zero), axis = None)\n",
        "\n",
        "#convert the appended list of all the subjects' timeseries to an array\n",
        "rsfMRI_timeseries_to_array = np.asarray(rsfMRI_timeseries)\n",
        "\n",
        "#find all the unique indices whose ROI timeseries contain a value of 0\n",
        "find_unique_indices = np.unique(rs_non_zero_roi)\n",
        "find_unique_indices_int = find_unique_indices.astype(int)\n",
        "print(find_unique_indices_int)\n",
        "\n",
        "#remove all the rows whose ROI timseries contain a value of 0 based on the list of unique indices for Session 1\n",
        "rsfMRI_nonzero_timeseries = np.delete(rsfMRI_timeseries_to_array, find_unique_indices_int, axis = 1)\n",
        "#sanity check to verify the content and size of the resulting nonzero ROI timeseries\n",
        "print(rsfMRI_nonzero_timeseries.shape)\n"
      ]
    },
    {
      "cell_type": "code",
      "execution_count": null,
      "metadata": {
        "colab": {
          "base_uri": "https://localhost:8080/"
        },
        "id": "QTbtOj30dWYL",
        "outputId": "7a08c713-283c-4ace-d9af-9473b2cf9a1b"
      },
      "outputs": [
        {
          "data": {
            "text/plain": [
              "array([ 88, 201])"
            ]
          },
          "execution_count": 82,
          "metadata": {},
          "output_type": "execute_result"
        }
      ],
      "source": [
        "zero_ROIS = find_unique_indices_int.copy()\n",
        "zero_ROIS"
      ]
    },
    {
      "cell_type": "code",
      "execution_count": null,
      "metadata": {
        "id": "8rHZrz1XXTm-"
      },
      "outputs": [],
      "source": [
        "rs_motion_param_datapath = '/content/drive/MyDrive/motion_params_HBNFD/*_task-rest_run-1_bold_mcf.nii.gz_rel.rms'\n",
        "mv_motion_param_datapath = '/content/drive/MyDrive/motion_params_HBNFD/*_task-rest_run-2_bold_mcf.nii.gz_rel.rms'\n",
        "\n",
        "rsfilename_motion_param_list = np.sort(glob.glob(rs_motion_param_datapath))\n",
        "mvfilename_motion_param_list = np.sort(glob.glob(mv_motion_param_datapath))\n",
        "\n",
        "rssubj_exclusion = []\n",
        "mvsubj_exclusion = []\n",
        "best_timepoints_size_s1 = []\n",
        "best_timepoints_size_s2 = []\n",
        "all_unique_contaminated_indices = []\n",
        "rsall_unique_contaminated_indices = []\n",
        "mvall_unique_contaminated_indices = []\n",
        "\n",
        "#select head motion threshold to identify contaminated timepoints\n",
        "threshold = 0.20\n",
        "\n",
        "#select a minimum amount of timepoints to be retained after identifying contaminated timepoints\n",
        "mintimepoint = 20\n"
      ]
    },
    {
      "cell_type": "code",
      "execution_count": null,
      "metadata": {
        "colab": {
          "base_uri": "https://localhost:8080/"
        },
        "id": "PLLlbYnHXZVI",
        "outputId": "1d23e563-c92d-452e-ed95-4b6fcff1ee3b"
      },
      "outputs": [
        {
          "name": "stdout",
          "output_type": "stream",
          "text": [
            "0\n"
          ]
        }
      ],
      "source": [
        "for rsfilename in range(rsfMRI_nonzero_timeseries.shape[0]):\n",
        "\n",
        "    #load each subject's head motion parameter files for Session 1\n",
        "    rmsFDs1 = np.loadtxt(rsfilename_motion_param_list[rsfilename])\n",
        "    #find the indices of the contaminated timepoints with rmsFD > threshold\n",
        "    rmsFDs1_thresh = np.asarray(np.where(rmsFDs1 > threshold))\n",
        "\n",
        "    #find the indices of the preceding timepoints to be srubbed from the timeseries\n",
        "    left_indices = rmsFDs1_thresh - 1\n",
        "    #remove the indices less than 0 as indices should always start from zero\n",
        "    left_nonzero_indices = left_indices[left_indices >= 0]\n",
        "    #find the indices of the first succeeding timepoints to be scrubbed from the timeseries\n",
        "    right_first_indices = rmsFDs1_thresh + 1\n",
        "    #remove the indices of the first succeeding timepoints if they exceed the size of the timepoints\n",
        "    right_first_in_range_indices = right_first_indices[right_first_indices < rmsFDs1.shape]\n",
        "    #find the indices of the second succeeding timepoints to be scrubbed from the timeseries\n",
        "    right_second_indices = rmsFDs1_thresh + 2\n",
        "    #remove the indices of the second succeeding timepoints if they exceed the size of the timepoints\n",
        "    right_second_in_range_indices = right_second_indices[right_second_indices < rmsFDs1.shape]\n",
        "\n",
        "    #concatenate all the contaminated indices including the scrubbed indices into an array\n",
        "    all_contaminated_indices = np.concatenate((rmsFDs1_thresh, left_nonzero_indices, right_first_in_range_indices, right_second_in_range_indices), axis = None)\n",
        "    #find all the unique contaminated indices including the scrubbed indices\n",
        "    unique_contaminated_indices = np.unique(all_contaminated_indices).astype(int)\n",
        "    #append all subjects' unique contaminated indices including the scrubbed indices into an array\n",
        "    all_unique_contaminated_indices.append(unique_contaminated_indices)\n",
        "\n",
        "    #find the remaining amount of timepoints left after identifying the contaminated timepoints\n",
        "    best_timepoints_size = rsfMRI_nonzero_timeseries.shape[2] - np.asarray(unique_contaminated_indices.shape)\n",
        "    #store all subjects' remaining amount of timepoints left in an array\n",
        "    best_timepoints_size_s1.append(best_timepoints_size)\n",
        "\n",
        "    #identify the subjects who has less remaining amount of timepoints than the minimum amount of timepoints required\n",
        "    if (best_timepoints_size < mintimepoint):\n",
        "        rssubj_exclusion.append(rsfilename)\n",
        "\n",
        "print(np.array(rssubj_exclusion).shape[0])\n"
      ]
    },
    {
      "cell_type": "code",
      "execution_count": null,
      "metadata": {
        "colab": {
          "base_uri": "https://localhost:8080/"
        },
        "id": "P7G-X06oXnIx",
        "outputId": "7448a321-89ee-4e3d-d0f1-623a38cefbf9"
      },
      "outputs": [
        {
          "name": "stdout",
          "output_type": "stream",
          "text": [
            "306\n",
            "(306, 266, 375)\n",
            "306\n"
          ]
        },
        {
          "name": "stderr",
          "output_type": "stream",
          "text": [
            "/usr/local/lib/python3.10/dist-packages/numpy/lib/function_base.py:5030: VisibleDeprecationWarning: Creating an ndarray from ragged nested sequences (which is a list-or-tuple of lists-or-tuples-or ndarrays with different lengths or shapes) is deprecated. If you meant to do this, you must specify 'dtype=object' when creating the ndarray.\n",
            "  arr = asarray(arr)\n"
          ]
        }
      ],
      "source": [
        "#find the unique subjects to be excluded from Session 1\n",
        "unique_subj_exclusion = np.unique(rssubj_exclusion).astype(int)\n",
        "\n",
        "#remove the size of the best timepoints for the subjects to be excluded for Session 1\n",
        "best_timepoints_s1 = np.delete(best_timepoints_size_s1, unique_subj_exclusion)\n",
        "print(best_timepoints_s1.shape[0])\n",
        "\n",
        "#remove the subjects to be excluded from the original 3D array for Session 1\n",
        "rsfMRI_nonzero_best_timeseries = np.delete(rsfMRI_nonzero_timeseries, unique_subj_exclusion, axis = 0)\n",
        "print(rsfMRI_nonzero_best_timeseries.shape)\n",
        "\n",
        "#remove all the unique contaminated indices of the subjects to be excluded for Session 1\n",
        "rsbest_unique_contaminated_indices = np.delete(all_unique_contaminated_indices, unique_subj_exclusion)\n",
        "print(rsbest_unique_contaminated_indices.shape[0])\n"
      ]
    },
    {
      "cell_type": "code",
      "execution_count": null,
      "metadata": {
        "colab": {
          "base_uri": "https://localhost:8080/"
        },
        "id": "rRilSp1UXq-3",
        "outputId": "dec04591-b83f-4b2e-cd25-349237e3ac7c"
      },
      "outputs": [
        {
          "name": "stdout",
          "output_type": "stream",
          "text": [
            "(268, 266, 287)\n",
            "(268, 266, 355)\n",
            "(268, 266, 375)\n",
            "(268, 266, 336)\n",
            "(268, 266, 362)\n",
            "(268, 266, 253)\n",
            "(268, 266, 326)\n",
            "(268, 266, 286)\n",
            "(268, 266, 296)\n",
            "(268, 266, 82)\n",
            "(268, 266, 115)\n",
            "(268, 266, 368)\n",
            "(268, 266, 263)\n",
            "(268, 266, 371)\n",
            "(268, 266, 276)\n",
            "(268, 266, 332)\n",
            "(268, 266, 225)\n",
            "(268, 266, 144)\n",
            "(268, 266, 295)\n",
            "(268, 266, 215)\n",
            "(268, 266, 367)\n",
            "(268, 266, 348)\n",
            "(268, 266, 338)\n",
            "(268, 266, 360)\n",
            "(268, 266, 313)\n",
            "(268, 266, 309)\n",
            "(268, 266, 356)\n",
            "(268, 266, 341)\n",
            "(268, 266, 355)\n",
            "(268, 266, 324)\n",
            "(268, 266, 352)\n",
            "(268, 266, 330)\n",
            "(268, 266, 311)\n",
            "(268, 266, 246)\n",
            "(268, 266, 307)\n",
            "(268, 266, 342)\n",
            "(268, 266, 364)\n",
            "(268, 266, 375)\n",
            "(268, 266, 362)\n",
            "(268, 266, 366)\n",
            "(268, 266, 306)\n",
            "(268, 266, 311)\n",
            "(268, 266, 289)\n",
            "(268, 266, 375)\n",
            "(268, 266, 267)\n",
            "(268, 266, 375)\n",
            "(268, 266, 375)\n",
            "(268, 266, 314)\n",
            "(268, 266, 367)\n",
            "(268, 266, 321)\n",
            "(268, 266, 371)\n",
            "(268, 266, 363)\n",
            "(268, 266, 167)\n",
            "(268, 266, 343)\n",
            "(268, 266, 301)\n",
            "(268, 266, 375)\n",
            "(268, 266, 343)\n",
            "(268, 266, 375)\n",
            "(268, 266, 360)\n",
            "(268, 266, 342)\n",
            "(268, 266, 342)\n",
            "(268, 266, 353)\n",
            "(268, 266, 354)\n",
            "(268, 266, 358)\n",
            "(268, 266, 375)\n",
            "(268, 266, 315)\n",
            "(268, 266, 239)\n",
            "(268, 266, 113)\n",
            "(268, 266, 375)\n",
            "(268, 266, 340)\n",
            "(268, 266, 295)\n",
            "(268, 266, 318)\n",
            "(268, 266, 339)\n",
            "(268, 266, 371)\n",
            "(268, 266, 349)\n",
            "(268, 266, 362)\n",
            "(268, 266, 307)\n",
            "(268, 266, 347)\n",
            "(268, 266, 375)\n",
            "(268, 266, 238)\n",
            "(268, 266, 375)\n",
            "(268, 266, 361)\n",
            "(268, 266, 346)\n",
            "(268, 266, 348)\n",
            "(268, 266, 356)\n",
            "(268, 266, 172)\n",
            "(268, 266, 362)\n",
            "(268, 266, 339)\n",
            "(268, 266, 375)\n",
            "(268, 266, 283)\n",
            "(268, 266, 311)\n",
            "(268, 266, 300)\n",
            "(268, 266, 315)\n",
            "(268, 266, 371)\n",
            "(268, 266, 363)\n",
            "(268, 266, 353)\n",
            "(268, 266, 375)\n",
            "(268, 266, 301)\n",
            "(268, 266, 375)\n",
            "(268, 266, 345)\n",
            "(268, 266, 321)\n",
            "(268, 266, 346)\n",
            "(268, 266, 342)\n",
            "(268, 266, 366)\n",
            "(268, 266, 333)\n",
            "(268, 266, 348)\n",
            "(268, 266, 323)\n",
            "(268, 266, 371)\n",
            "(268, 266, 371)\n",
            "(268, 266, 366)\n",
            "(268, 266, 226)\n",
            "(268, 266, 363)\n",
            "(268, 266, 371)\n",
            "(268, 266, 371)\n",
            "(268, 266, 292)\n",
            "(268, 266, 375)\n",
            "(268, 266, 271)\n",
            "(268, 266, 326)\n",
            "(268, 266, 312)\n",
            "(268, 266, 365)\n",
            "(268, 266, 332)\n",
            "(268, 266, 375)\n",
            "(268, 266, 299)\n",
            "(268, 266, 292)\n",
            "(268, 266, 337)\n",
            "(268, 266, 236)\n",
            "(268, 266, 371)\n",
            "(268, 266, 341)\n",
            "(268, 266, 329)\n",
            "(268, 266, 353)\n",
            "(268, 266, 170)\n",
            "(268, 266, 375)\n",
            "(268, 266, 307)\n",
            "(268, 266, 375)\n",
            "(268, 266, 367)\n",
            "(268, 266, 332)\n",
            "(268, 266, 249)\n",
            "(268, 266, 353)\n",
            "(268, 266, 365)\n",
            "(268, 266, 371)\n",
            "(268, 266, 375)\n",
            "(268, 266, 234)\n",
            "(268, 266, 375)\n",
            "(268, 266, 366)\n",
            "(268, 266, 226)\n",
            "(268, 266, 375)\n",
            "(268, 266, 365)\n",
            "(268, 266, 332)\n",
            "(268, 266, 358)\n",
            "(268, 266, 201)\n",
            "(268, 266, 350)\n",
            "(268, 266, 317)\n",
            "(268, 266, 375)\n",
            "(268, 266, 375)\n",
            "(268, 266, 220)\n",
            "(268, 266, 375)\n",
            "(268, 266, 346)\n",
            "(268, 266, 375)\n",
            "(268, 266, 351)\n",
            "(268, 266, 343)\n",
            "(268, 266, 356)\n",
            "(268, 266, 351)\n",
            "(268, 266, 349)\n",
            "(268, 266, 324)\n",
            "(268, 266, 375)\n",
            "(268, 266, 319)\n",
            "(268, 266, 334)\n",
            "(268, 266, 353)\n",
            "(268, 266, 304)\n",
            "(268, 266, 371)\n",
            "(268, 266, 341)\n",
            "(268, 266, 346)\n",
            "(268, 266, 308)\n",
            "(268, 266, 330)\n",
            "(268, 266, 375)\n",
            "(268, 266, 297)\n",
            "(268, 266, 331)\n",
            "(268, 266, 375)\n",
            "(268, 266, 167)\n",
            "(268, 266, 288)\n",
            "(268, 266, 358)\n",
            "(268, 266, 358)\n",
            "(268, 266, 286)\n",
            "(268, 266, 335)\n",
            "(268, 266, 339)\n",
            "(268, 266, 366)\n",
            "(268, 266, 371)\n",
            "(268, 266, 323)\n",
            "(268, 266, 323)\n",
            "(268, 266, 375)\n",
            "(268, 266, 375)\n",
            "(268, 266, 353)\n",
            "(268, 266, 375)\n",
            "(268, 266, 188)\n",
            "(268, 266, 375)\n",
            "(268, 266, 367)\n",
            "(268, 266, 200)\n",
            "(268, 266, 348)\n",
            "(268, 266, 252)\n",
            "(268, 266, 287)\n",
            "(268, 266, 339)\n",
            "(268, 266, 371)\n",
            "(268, 266, 329)\n",
            "(268, 266, 375)\n",
            "(268, 266, 339)\n",
            "(268, 266, 371)\n",
            "(268, 266, 348)\n",
            "(268, 266, 328)\n",
            "(268, 266, 339)\n",
            "(268, 266, 375)\n",
            "(268, 266, 367)\n",
            "(268, 266, 331)\n",
            "(268, 266, 359)\n",
            "(268, 266, 273)\n",
            "(268, 266, 334)\n",
            "(268, 266, 305)\n",
            "(268, 266, 289)\n",
            "(268, 266, 305)\n",
            "(268, 266, 243)\n",
            "(268, 266, 336)\n",
            "(268, 266, 375)\n",
            "(268, 266, 259)\n",
            "(268, 266, 369)\n",
            "(268, 266, 375)\n",
            "(268, 266, 255)\n",
            "(268, 266, 365)\n",
            "(268, 266, 365)\n",
            "(268, 266, 351)\n",
            "(268, 266, 365)\n",
            "(268, 266, 356)\n",
            "(268, 266, 364)\n",
            "(268, 266, 375)\n",
            "(268, 266, 371)\n",
            "(268, 266, 314)\n",
            "(268, 266, 345)\n",
            "(268, 266, 375)\n",
            "(268, 266, 354)\n",
            "(268, 266, 348)\n",
            "(268, 266, 310)\n",
            "(268, 266, 116)\n",
            "(268, 266, 367)\n",
            "(268, 266, 328)\n",
            "(268, 266, 291)\n",
            "(268, 266, 371)\n",
            "(268, 266, 314)\n",
            "(268, 266, 262)\n",
            "(268, 266, 375)\n",
            "(268, 266, 367)\n",
            "(268, 266, 154)\n",
            "(268, 266, 339)\n",
            "(268, 266, 268)\n",
            "(268, 266, 357)\n",
            "(268, 266, 369)\n",
            "(268, 266, 339)\n",
            "(268, 266, 356)\n",
            "(268, 266, 307)\n",
            "(268, 266, 291)\n",
            "(268, 266, 346)\n",
            "(268, 266, 365)\n",
            "(268, 266, 287)\n",
            "(268, 266, 375)\n",
            "(268, 266, 360)\n",
            "(268, 266, 350)\n",
            "(268, 266, 370)\n",
            "(268, 266, 355)\n",
            "(268, 266, 363)\n",
            "(268, 266, 310)\n",
            "(268, 266, 352)\n"
          ]
        }
      ],
      "source": [
        "for subREST1 in range(rsfMRI_nonzero_best_timeseries.shape[0]):\n",
        "\n",
        "  rsname = subREST1 + 1\n",
        "  scrubbed_rsfMRI_timeseries = np.delete(rsfMRI_nonzero_best_timeseries, rsbest_unique_contaminated_indices[subREST1], axis = 2)\n",
        "  print(scrubbed_rsfMRI_timeseries.shape)\n",
        "  scrubbed_REST1_FC_matrix = np.corrcoef(scrubbed_rsfMRI_timeseries[subREST1, :, :])\n",
        "  pd.DataFrame(scrubbed_REST1_FC_matrix).to_csv(f\"/content/drive/MyDrive/HBNScrubbedR1FCFSIQ/00{rsname}.csv\", header = None, index = None)\n"
      ]
    },
    {
      "cell_type": "code",
      "execution_count": null,
      "metadata": {
        "id": "MTLAVgfRdbGS"
      },
      "outputs": [],
      "source": [
        "#Date: 30/10/2019\n",
        "#Authors: Jivesh Ramduny & Clare Kelly\n",
        "#Location: Imaging Mind Architecture Lab, Trinity College Dublin\n",
        "\n",
        "import os\n",
        "import glob\n",
        "import numpy as np\n",
        "import pandas as pd\n",
        "import seaborn as sns\n",
        "import matplotlib.pyplot as plt\n",
        "\n",
        "#input directory for the 268 ROIs timeseries derived from Shen parcellation\n",
        "rs_datapath = '/content/drive/MyDrive/FCABIDE/TS/ABIDETS268_N407/*_ABIDE_TDC_268Parcels_2mm_rest_run.txt'\n",
        "mv_datapath = '/content/drive/MyDrive/FCABIDE/TS/ABIDETS268_N407/*_ABIDE_TDC_268Parcels_2mm_rest_run.txt'\n",
        "rsfilename_list = np.sort(glob.glob(rs_datapath))\n",
        "mvfilename_list = np.sort(glob.glob(mv_datapath))\n",
        "\n",
        "#initialise an empty list to store all subjects timeseries for Sessions 1\n",
        "rs_non_zero_roi = []\n",
        "rsfMRI_timeseries = []\n",
        "rsfMRI_timeseries_2d = []\n",
        "rsfMRI_timeseries_corr = []\n",
        "rsfMRI_nonzero_timeseries = []\n",
        "\n",
        "#initialise an empty list to store all subjects timeseries for Sessions 2\n",
        "mv_non_zero_roi = []\n",
        "mvfMRI_timeseries = []\n",
        "mvfMRI_timeseries_2d = []\n",
        "mvfMRI_timeseries_corr = []\n",
        "\n",
        "#iterate through the ROIs timeseries of each subject for Session 1\n",
        "for rsfilename in rsfilename_list:\n",
        "\n",
        "    rs_corr_shen = np.transpose(np.loadtxt(rsfilename))\n",
        "    rs_corr_shen = np.delete(rs_corr_shen, zero_ROIS, axis = 0)\n",
        "    print(rs_corr_shen.shape)\n",
        "    #append the ROI timeseries for each subject to a list\n",
        "    rsfMRI_timeseries.append(rs_corr_shen)\n"
      ]
    },
    {
      "cell_type": "code",
      "execution_count": null,
      "metadata": {
        "id": "QqZ1Q8EX3cOo"
      },
      "outputs": [],
      "source": [
        "rsfilename_list"
      ]
    },
    {
      "cell_type": "code",
      "execution_count": null,
      "metadata": {
        "id": "ZHXca8ilpUq9"
      },
      "outputs": [],
      "source": [
        "rs_motion_param_datapath = '/content/drive/MyDrive/ABIDE_motion_params_fdrms/*_fd_motion_params.txt'\n",
        "rsfilename_motion_param_list = np.sort(glob.glob(rs_motion_param_datapath))\n",
        "\n",
        "rssubj_exclusion = []\n",
        "mvsubj_exclusion = []\n",
        "best_timepoints_size_s1 = []\n",
        "best_timepoints_size_s2 = []\n",
        "all_unique_contaminated_indices = []\n",
        "rsall_unique_contaminated_indices = []\n",
        "mvall_unique_contaminated_indices = []\n",
        "\n",
        "#select head motion threshold to identify contaminated timepoints\n",
        "threshold = 0.20\n",
        "\n",
        "#select a minimum amount of timepoints to be retained after identifying contaminated timepoints\n",
        "mintimepoint = 1"
      ]
    },
    {
      "cell_type": "code",
      "execution_count": null,
      "metadata": {
        "colab": {
          "base_uri": "https://localhost:8080/"
        },
        "id": "au1RSErl3RoA",
        "outputId": "06e7fd07-dabd-41d9-d3f3-ea9e21f00ab5"
      },
      "outputs": [
        {
          "name": "stdout",
          "output_type": "stream",
          "text": [
            "(146, 268)\n",
            "(150,)\n"
          ]
        }
      ],
      "source": [
        "print(np.loadtxt(rsfilename_list[3]).shape)\n",
        "print(np.loadtxt(rsfilename_motion_param_list[3]).shape)"
      ]
    },
    {
      "cell_type": "code",
      "execution_count": null,
      "metadata": {
        "colab": {
          "base_uri": "https://localhost:8080/"
        },
        "id": "xR0PXUYLpmS7",
        "outputId": "7abbb9b1-05ec-47e4-8922-5b5bf96640b6"
      },
      "outputs": [
        {
          "name": "stdout",
          "output_type": "stream",
          "text": [
            "0\n"
          ]
        }
      ],
      "source": [
        "for rsfilename in range(len(rsfMRI_timeseries)):\n",
        "\n",
        "    #load each subject's head motion parameter files for Session 1\n",
        "    rmsFDs1 = np.loadtxt(rsfilename_motion_param_list[rsfilename])\n",
        "    rmsFDs1 = rmsFDs1[4:]\n",
        "    #find the indices of the contaminated timepoints with rmsFD > threshold\n",
        "    rmsFDs1_thresh = np.asarray(np.where(rmsFDs1 > threshold))\n",
        "\n",
        "    #find the indices of the preceding timepoints to be srubbed from the timeseries\n",
        "    left_indices = rmsFDs1_thresh - 1\n",
        "    #remove the indices less than 0 as indices should always start from zero\n",
        "    left_nonzero_indices = left_indices[left_indices >= 0]\n",
        "    #find the indices of the first succeeding timepoints to be scrubbed from the timeseries\n",
        "    right_first_indices = rmsFDs1_thresh + 1\n",
        "    #remove the indices of the first succeeding timepoints if they exceed the size of the timepoints\n",
        "    right_first_in_range_indices = right_first_indices[right_first_indices < rmsFDs1.shape]\n",
        "    #find the indices of the second succeeding timepoints to be scrubbed from the timeseries\n",
        "    right_second_indices = rmsFDs1_thresh + 2\n",
        "    #remove the indices of the second succeeding timepoints if they exceed the size of the timepoints\n",
        "    right_second_in_range_indices = right_second_indices[right_second_indices < rmsFDs1.shape]\n",
        "\n",
        "    #concatenate all the contaminated indices including the scrubbed indices into an array\n",
        "    all_contaminated_indices = np.concatenate((rmsFDs1_thresh, left_nonzero_indices, right_first_in_range_indices, right_second_in_range_indices), axis = None)\n",
        "    #find all the unique contaminated indices including the scrubbed indices\n",
        "    unique_contaminated_indices = np.unique(all_contaminated_indices).astype(int)\n",
        "    #append all subjects' unique contaminated indices including the scrubbed indices into an array\n",
        "    all_unique_contaminated_indices.append(unique_contaminated_indices)\n",
        "\n",
        "    #find the remaining amount of timepoints left after identifying the contaminated timepoints\n",
        "    best_timepoints_size = rsfMRI_timeseries[rsfilename].shape[1] - np.asarray(unique_contaminated_indices.shape)\n",
        "    #store all subjects' remaining amount of timepoints left in an array\n",
        "    best_timepoints_size_s1.append(best_timepoints_size)\n",
        "\n",
        "    #identify the subjects who has less remaining amount of timepoints than the minimum amount of timepoints required\n",
        "    if (best_timepoints_size < mintimepoint):\n",
        "        rssubj_exclusion.append(rsfilename)\n",
        "\n",
        "print(np.array(rssubj_exclusion).shape[0])"
      ]
    },
    {
      "cell_type": "code",
      "execution_count": null,
      "metadata": {
        "colab": {
          "base_uri": "https://localhost:8080/"
        },
        "id": "XJiVJSaCro96",
        "outputId": "85e7bac0-0ea8-4f30-caa4-5399ba9476ab"
      },
      "outputs": [
        {
          "name": "stdout",
          "output_type": "stream",
          "text": [
            "407\n",
            "407\n",
            "407\n"
          ]
        },
        {
          "name": "stderr",
          "output_type": "stream",
          "text": [
            "/usr/local/lib/python3.10/dist-packages/numpy/lib/function_base.py:5030: VisibleDeprecationWarning: Creating an ndarray from ragged nested sequences (which is a list-or-tuple of lists-or-tuples-or ndarrays with different lengths or shapes) is deprecated. If you meant to do this, you must specify 'dtype=object' when creating the ndarray.\n",
            "  arr = asarray(arr)\n"
          ]
        }
      ],
      "source": [
        "#find the unique subjects to be excluded from Session 1\n",
        "unique_subj_exclusion = np.unique(rssubj_exclusion).astype(int)\n",
        "\n",
        "#remove the size of the best timepoints for the subjects to be excluded for Session 1\n",
        "best_timepoints_s1 = np.delete(best_timepoints_size_s1, unique_subj_exclusion)\n",
        "print(best_timepoints_s1.shape[0])\n",
        "\n",
        "#remove the subjects to be excluded from the original 3D array for Session 1\n",
        "for sub in list(unique_subj_exclusion):\n",
        "  rsfMRI_timeseries.pop(sub)\n",
        "\n",
        "print(len(rsfMRI_timeseries))\n",
        "\n",
        "#remove all the unique contaminated indices of the subjects to be excluded for Session 1\n",
        "rsbest_unique_contaminated_indices = np.delete(all_unique_contaminated_indices, unique_subj_exclusion)\n",
        "print(rsbest_unique_contaminated_indices.shape[0])\n"
      ]
    },
    {
      "cell_type": "code",
      "execution_count": null,
      "metadata": {
        "id": "3wfiERNst29o"
      },
      "outputs": [],
      "source": [
        "for subREST1 in range(len(rsfMRI_timeseries)):\n",
        "\n",
        "  rsname = subREST1 + 1\n",
        "  rsfMRI_nonzero_best_timeseries = rsfMRI_timeseries[subREST1]\n",
        "  scrubbed_rsfMRI_timeseries = np.delete(rsfMRI_nonzero_best_timeseries, rsbest_unique_contaminated_indices[subREST1], axis = 1)\n",
        "  print(scrubbed_rsfMRI_timeseries.shape)\n",
        "  scrubbed_REST1_FC_matrix = np.corrcoef(scrubbed_rsfMRI_timeseries)\n",
        "  scrubbed_REST1_FC_matrix[np.isnan(scrubbed_REST1_FC_matrix)] = 0\n",
        "  pd.DataFrame(scrubbed_REST1_FC_matrix).to_csv(f\"/content/drive/MyDrive/ABIDEScrubbedR1FCAGE/00{rsname}.csv\", header = None, index = None)\n"
      ]
    },
    {
      "cell_type": "code",
      "execution_count": null,
      "metadata": {
        "colab": {
          "base_uri": "https://localhost:8080/"
        },
        "id": "1KJImola0kYk",
        "outputId": "ac15b8dc-7f86-4318-826b-7c377dd52714"
      },
      "outputs": [
        {
          "data": {
            "text/plain": [
              "array([  0,   1,   2,   3,   4,   5,   6,   7,   8,   9,  14,  15,  16,\n",
              "        17,  18,  19,  20,  21,  22,  23,  24,  25,  26,  27,  28,  30,\n",
              "        31,  32,  33,  34,  35,  36,  40,  41,  42,  43,  44,  45,  46,\n",
              "        47,  48,  49,  50,  51,  52,  57,  58,  59,  60,  62,  63,  64,\n",
              "        65,  66,  72,  73,  74,  75,  76,  77,  78,  79,  80,  81,  82,\n",
              "        83,  89,  90,  91,  92,  93, 109, 110, 111, 112, 113, 122, 123,\n",
              "       124, 125, 131, 132, 133, 134, 135, 136, 137, 138, 148, 149])"
            ]
          },
          "execution_count": 89,
          "metadata": {},
          "output_type": "execute_result"
        }
      ],
      "source": [
        "rsbest_unique_contaminated_indices[1]"
      ]
    },
    {
      "cell_type": "code",
      "execution_count": null,
      "metadata": {
        "colab": {
          "base_uri": "https://localhost:8080/"
        },
        "id": "C5L_oH9-yPJc",
        "outputId": "f75c19d4-8b27-4601-bc22-5a8cb092e1b7"
      },
      "outputs": [
        {
          "data": {
            "text/plain": [
              "(150,)"
            ]
          },
          "execution_count": 92,
          "metadata": {},
          "output_type": "execute_result"
        }
      ],
      "source": [
        "np.loadtxt(rsfilename_motion_param_list[1]).shape"
      ]
    },
    {
      "cell_type": "code",
      "execution_count": null,
      "metadata": {
        "colab": {
          "base_uri": "https://localhost:8080/"
        },
        "id": "6RAYsUs025hZ",
        "outputId": "6792f191-cd75-4486-f620-117d7b73d94f"
      },
      "outputs": [
        {
          "data": {
            "text/plain": [
              "(266, 146)"
            ]
          },
          "execution_count": 93,
          "metadata": {},
          "output_type": "execute_result"
        }
      ],
      "source": [
        "rsfMRI_timeseries[1].shape"
      ]
    },
    {
      "cell_type": "markdown",
      "metadata": {
        "id": "MTNsEPPoeLZe"
      },
      "source": [
        "##### FPN derived from 10-Network definitions"
      ]
    },
    {
      "cell_type": "code",
      "execution_count": null,
      "metadata": {
        "id": "WORMgHNphuJU"
      },
      "outputs": [],
      "source": [
        "from scipy.io import loadmat\n",
        "annots = loadmat('/content/drive/MyDrive/ten_network_defn.mat')\n",
        "\n",
        "MF = [10, 12, 16, 52, 53, 54, 56, 57, 64, 65, 137, 140, 145, 148, 149, 150, 151, 153, 156, 162, 165, 183, 185, 186, 187, 190, 192, 194, 219]\n",
        "FPN = [1, 4, 7, 8, 9, 14, 17, 19, 21, 22, 30, 31, 47, 48, 55, 70, 111, 112, 116, 139, 142, 143, 147, 154, 157, 164, 182, 184, 193, 196, 199, 242, 246, 247]\n",
        "FPNs = MF + FPN\n",
        "FPNs = [node - 1 for node in FPNs]\n"
      ]
    },
    {
      "cell_type": "code",
      "execution_count": null,
      "metadata": {
        "id": "m54Jfy03eRFf"
      },
      "outputs": [],
      "source": [
        "import os\n",
        "import glob\n",
        "import numpy as np\n",
        "import pandas as pd\n",
        "import seaborn as sns\n",
        "import matplotlib.pyplot as plt\n",
        "\n",
        "#input directory for the 268 ROIs timeseries derived from Shen parcellation\n",
        "rs_datapath = '/content/drive/MyDrive/HBNTSFSIQ/*_HBN_268Parcels_rest_run_2.txt'\n",
        "mv_datapath = '/content/drive/MyDrive/HBNTSFSIQ/*_HBN_268Parcels_rest_run_1.txt'\n",
        "\n",
        "rsfilename_list = np.sort(glob.glob(rs_datapath))\n",
        "mvfilename_list = np.sort(glob.glob(mv_datapath))\n",
        "\n",
        "#initialise an empty list to store all subjects timeseries for Sessions 1\n",
        "rs_non_zero_roi = []\n",
        "rsfMRI_timeseries = []\n",
        "rsfMRI_timeseries_2d = []\n",
        "rsfMRI_timeseries_corr = []\n",
        "rsfMRI_nonzero_timeseries = []\n",
        "\n",
        "#initialise an empty list to store all subjects timeseries for Sessions 2\n",
        "mv_non_zero_roi = []\n",
        "mvfMRI_timeseries = []\n",
        "mvfMRI_timeseries_2d = []\n",
        "mvfMRI_timeseries_corr = []\n",
        "\n",
        "#iterate through the ROIs timeseries of each subject for Session 1\n",
        "for rsfilename in rsfilename_list:\n",
        "\n",
        "    #select the spatial coverage of the parcellation such as functional networks\n",
        "    rs_corr_shen = np.transpose(np.loadtxt(rsfilename))\n",
        "    rs_corr_coverage = np.take(rs_corr_shen, FPNs, axis = 0)\n",
        "\n",
        "    #append the ROI timeseries for each subject to a list\n",
        "    rsfMRI_timeseries.append(rs_corr_coverage)\n",
        "    #find the subject-wise indices whose ROI timeseries have a value of 0\n",
        "    rs_non_zero = np.where(np.any(rs_corr_coverage == 0, axis = 1))\n",
        "    #append the subject-wise indices to a list\n",
        "    rs_non_zero_roi = np.concatenate((rs_non_zero_roi, rs_non_zero), axis = None)\n",
        "\n",
        "#convert the appended list of all the subjects' timeseries to an array\n",
        "rsfMRI_timeseries_to_array = np.asarray(rsfMRI_timeseries)\n",
        "\n",
        "#iterate through the ROIs timeseries of each subject for Session 2\n",
        "for mvfilename in mvfilename_list:\n",
        "\n",
        "    #select the spatial coverage of the parcellation such as functional networks\n",
        "    mv_corr_shen = np.transpose(np.loadtxt(mvfilename))\n",
        "    mv_corr_coverage = np.take(mv_corr_shen, FPNs, axis = 0)\n",
        "\n",
        "    #append the ROI timeseries for each subject to a list\n",
        "    mvfMRI_timeseries.append(mv_corr_coverage)\n",
        "    #find the subject-wise indices whose ROI timeseries have a value of 0\n",
        "    mv_non_zero = np.where(np.any(mv_corr_coverage == 0, axis = 1))\n",
        "    #append the subject-wise indices to a list\n",
        "    mv_non_zero_roi = np.concatenate((mv_non_zero_roi, mv_non_zero), axis = None)\n",
        "\n",
        "#convert the appended list of all the subjects' timeseries to an array\n",
        "mvfMRI_timeseries_to_array = np.asarray(mvfMRI_timeseries)\n",
        "\n",
        "#append all subject-wise indices whose ROI timeseries contain a value of 0 for Session 1 & 2\n",
        "all_indices_s1_s2 = np.concatenate((rs_non_zero_roi, mv_non_zero_roi), axis = None)\n",
        "#find all the unique indices whose ROI timeseries contain a value of 0\n",
        "find_unique_indices = np.unique(all_indices_s1_s2)\n",
        "find_unique_indices_int = find_unique_indices.astype(int)\n",
        "\n",
        "#remove all the rows whose ROI timseries contain a value of 0 based on the list of unique indices for Session 1\n",
        "rsfMRI_nonzero_timeseries = np.delete(rsfMRI_timeseries_to_array, find_unique_indices_int, axis = 1)\n",
        "#sanity check to verify the content and size of the resulting nonzero ROI timeseries\n",
        "print(rsfMRI_nonzero_timeseries.shape)\n",
        "\n",
        "#remove all the rows whose ROI timseries contain a value of 0 based on the list of unique indices for Session 2\n",
        "mvfMRI_nonzero_timeseries = np.delete(mvfMRI_timeseries_to_array, find_unique_indices_int, axis = 1)\n",
        "#sanity check to verify the content and size of the resulting nonzero ROI timeseries\n",
        "print(mvfMRI_nonzero_timeseries.shape)\n",
        "\n",
        "#remove all the rows whose ROI timseries contain a value of 0 based on the list of unique indices for Session 1\n",
        "rsfMRI_nonzero_timeseries = np.delete(rsfMRI_timeseries_to_array, find_unique_indices_int, axis = 1)\n",
        "\n",
        "#remove all the rows whose ROI timseries contain a value of 0 based on the list of unique indices for Session 2\n",
        "mvfMRI_nonzero_timeseries = np.delete(mvfMRI_timeseries_to_array, find_unique_indices_int, axis = 1)\n",
        "\n",
        "for rs_sub in range(len(rsfilename_list)):\n",
        "\n",
        "    #copy the subject-wise ROI timeseries to a temporary 2D array for Session 1\n",
        "    rsfMRI_timeseries_2d = rsfMRI_nonzero_timeseries[rs_sub, :, :].copy()\n",
        "\n",
        "    #compute Pearson’s correlation coefficient for Session 1\n",
        "    rsfMRI_corr = np.corrcoef(rsfMRI_timeseries_2d)\n",
        "\n",
        "    #truncate correlation matrix to select upper triangular matrix for Session 1\n",
        "    rsfMRI_corr_shen = rsfMRI_corr.shape[0]\n",
        "    arange_rsfMRI_corr, diag = np.triu_indices(rsfMRI_corr_shen, 1)\n",
        "    trunc_rsfMRI_corr_shen = rsfMRI_corr[arange_rsfMRI_corr, diag]\n",
        "\n",
        "    #append the truncated correlation matrix of all subjects to the list\n",
        "    rsfMRI_timeseries_corr.append(trunc_rsfMRI_corr_shen)\n",
        "\n",
        "#convert the list to an array for Session 1\n",
        "trunc_rsfMRI_corr_to_array = np.asarray(rsfMRI_timeseries_corr)\n",
        "\n",
        "#transpose the array to ease further computation for Session 1\n",
        "trans_rsfMRI_corr = np.transpose(trunc_rsfMRI_corr_to_array)\n",
        "\n",
        "for mv_sub in range(0, len(mvfilename_list)):\n",
        "\n",
        "    #copy the subject-wise ROI timeseries to a temporary 2D array for Session 2\n",
        "    mvfMRI_timeseries_2d = mvfMRI_nonzero_timeseries[mv_sub, :, :].copy()\n",
        "\n",
        "    #compute Pearson’s correlation coefficient for Session 2\n",
        "    mvfMRI_corr = np.corrcoef(mvfMRI_timeseries_2d)\n",
        "\n",
        "    #truncate correlation matrix to select upper triangular matrix for Session 2\n",
        "    mvfMRI_corr_shen = mvfMRI_corr.shape[0]\n",
        "    arange_mvfMRI_corr, diag = np.triu_indices(mvfMRI_corr_shen, 1)\n",
        "    trunc_mvfMRI_corr_shen = mvfMRI_corr[arange_mvfMRI_corr, diag]\n",
        "\n",
        "    #append the truncated correlation matrix of all subjects to the list\n",
        "    mvfMRI_timeseries_corr.append(trunc_mvfMRI_corr_shen)\n",
        "\n",
        "#convert the list to an array for Session 2\n",
        "trunc_mvfMRI_corr_to_array = np.asarray(mvfMRI_timeseries_corr)\n",
        "\n",
        "#transpose the array to ease further computation for Session 2\n",
        "trans_mvfMRI_corr = np.transpose(trunc_mvfMRI_corr_to_array)\n",
        "\n",
        "#compute columnwise pearson's correlation matrix between Session 1 and Session 2\n",
        "trans_rsfMRI_corr = (trans_rsfMRI_corr - trans_rsfMRI_corr.mean(axis = 0)) / trans_rsfMRI_corr.std(axis = 0)\n",
        "trans_mvfMRI_corr = (trans_mvfMRI_corr - trans_mvfMRI_corr.mean(axis = 0)) / trans_mvfMRI_corr.std(axis = 0)\n",
        "rs_mv_corr = np.dot(trans_rsfMRI_corr.T, trans_mvfMRI_corr) / trans_rsfMRI_corr.shape[0]\n",
        "\n",
        "#extract the diagonal values of the final correlation matrix\n",
        "diag = np.diag(rs_mv_corr)\n",
        "\n",
        "#extract the maximum value in each row of the final correlation matrix\n",
        "max_corr = np.amax(rs_mv_corr, axis = 1)\n",
        "\n",
        "#ID is based on a binary system where each diagonal value is compared with the\n",
        "#maximum value of that row in the final correlation matrix. We expect that the\n",
        "#diagnoal value is greater than or equal to the maximum value of each row to\n",
        "#allow successful identification\n",
        "diag_to_array = np.array(diag)\n",
        "max_corr_to_array = np.array(max_corr)\n",
        "BID = np.greater_equal(diag_to_array, max_corr_to_array)\n",
        "\n",
        "#success rate is defined as the total number of positive identifications divided\n",
        "#by the total number of subjects\n",
        "success_rate_BID = np.sum(BID)/(BID.shape)\n",
        "print(success_rate_BID)\n"
      ]
    },
    {
      "cell_type": "code",
      "execution_count": null,
      "metadata": {
        "id": "NButeN75vhPD"
      },
      "outputs": [],
      "source": [
        "#Date: 30/10/2019\n",
        "#Authors: Jivesh Ramduny & Clare Kelly\n",
        "#Location: Imaging Mind Architecture Lab, Trinity College Dublin\n",
        "\n",
        "import os\n",
        "import glob\n",
        "import numpy as np\n",
        "import pandas as pd\n",
        "import seaborn as sns\n",
        "import matplotlib.pyplot as plt\n",
        "\n",
        "#input directory for the 268 ROIs timeseries derived from Shen parcellation\n",
        "rs_datapath = '/content/drive/MyDrive/HBNTS306/*_HBN_268Parcels_rest_run_1.txt'\n",
        "rsfilename_list = np.sort(glob.glob(rs_datapath))\n",
        "\n",
        "#initialise an empty list to store all subjects timeseries for Sessions 1\n",
        "rs_non_zero_roi = []\n",
        "rsfMRI_timeseries = []\n",
        "rsfMRI_timeseries_2d = []\n",
        "rsfMRI_timeseries_corr = []\n",
        "rsfMRI_nonzero_timeseries = []\n",
        "\n",
        "#iterate through the ROIs timeseries of each subject for Session 1\n",
        "for rsfilename in rsfilename_list:\n",
        "\n",
        "    rs_corr_shen = np.transpose(np.loadtxt(rsfilename))\n",
        "    rs_corr_coverage = np.take(rs_corr_shen, FPNs, axis = 0)\n",
        "\n",
        "    #append the ROI timeseries for each subject to a list\n",
        "    rsfMRI_timeseries.append(rs_corr_coverage)\n",
        "    #find the subject-wise indices whose ROI timeseries have a value of 0\n",
        "    rs_non_zero = np.where(np.any(rs_corr_coverage == 0, axis = 1))\n",
        "    #append the subject-wise indices to a list\n",
        "    rs_non_zero_roi = np.concatenate((rs_non_zero_roi, rs_non_zero), axis = None)\n",
        "\n",
        "#find all the unique indices whose ROI timeseries contain a value of 0\n",
        "find_unique_indices = np.unique(rs_non_zero_roi)\n",
        "find_unique_indices_int = find_unique_indices.astype(int)\n",
        "print(find_unique_indices_int)\n",
        "\n",
        "for rsfilename in range(len(rsfilename_list)):\n",
        "\n",
        "    rsname = rsfilename + 1\n",
        "    #access the subject-wise ROI timeseries of each individual for Session 1\n",
        "    rsfMRI_timeseries_2d = rsfMRI_timeseries[rsfilename]\n",
        "\n",
        "    #remove all the rows whose ROI timseries contain a value of 0 based on the list of unique indices for Session 1\n",
        "    rsfMRI_nonzero_timeseries = np.delete(rsfMRI_timeseries_2d, find_unique_indices_int, axis = 0)\n",
        "\n",
        "    #compute Pearson’s correlation coefficient for Session 1\n",
        "    rsfMRI_corr = np.corrcoef(rsfMRI_nonzero_timeseries)\n",
        "    #pd.DataFrame(rsfMRI_corr).to_csv(f\"/content/drive/MyDrive/connectivity_matrices_ABIDE_fpn/00{rsname}.csv\", header = None, index = None)\n",
        "    print(rsfMRI_corr.shape)\n"
      ]
    },
    {
      "cell_type": "code",
      "execution_count": null,
      "metadata": {
        "colab": {
          "base_uri": "https://localhost:8080/"
        },
        "id": "ykWW6fSdcqbr",
        "outputId": "38bf8f9c-2ee4-4c87-f4fe-e544b4ebcd20"
      },
      "outputs": [
        {
          "data": {
            "text/plain": [
              "array([], dtype=int64)"
            ]
          },
          "execution_count": 7,
          "metadata": {},
          "output_type": "execute_result"
        }
      ],
      "source": [
        "zero_ROIS = find_unique_indices_int.copy()\n",
        "zero_ROIS"
      ]
    },
    {
      "cell_type": "code",
      "execution_count": null,
      "metadata": {
        "id": "Nk6ZbWuvdHLA"
      },
      "outputs": [],
      "source": [
        "#Date: 30/10/2019\n",
        "#Authors: Jivesh Ramduny & Clare Kelly\n",
        "#Location: Imaging Mind Architecture Lab, Trinity College Dublin\n",
        "\n",
        "import os\n",
        "import glob\n",
        "import numpy as np\n",
        "import pandas as pd\n",
        "import seaborn as sns\n",
        "import matplotlib.pyplot as plt\n",
        "\n",
        "#input directory for the 268 ROIs timeseries derived from Shen parcellation\n",
        "rs_datapath = '/content/drive/MyDrive/FCABIDE/TS/ABIDETS268_N407/*_ABIDE_TDC_268Parcels_2mm_rest_run.txt'\n",
        "rsfilename_list = np.sort(glob.glob(rs_datapath))\n",
        "\n",
        "#initialise an empty list to store all subjects timeseries for Sessions 1\n",
        "rs_non_zero_roi = []\n",
        "rsfMRI_timeseries = []\n",
        "rsfMRI_timeseries_2d = []\n",
        "rsfMRI_timeseries_corr = []\n",
        "rsfMRI_nonzero_timeseries = []\n",
        "rsfMRI_corr_test = []\n",
        "#iterate through the ROIs timeseries of each subject for Session 1\n",
        "for rsfilename in rsfilename_list:\n",
        "\n",
        "    rs_corr_shen = np.transpose(np.loadtxt(rsfilename))\n",
        "    rs_corr_coverage = np.take(rs_corr_shen, FPNs, axis = 0)\n",
        "    rs_corr_shen = np.delete(rs_corr_coverage, zero_ROIS, axis = 0)\n",
        "    print(rs_corr_shen.shape)\n",
        "    #append the ROI timeseries for each subject to a list\n",
        "    rsfMRI_timeseries.append(rs_corr_shen)\n",
        "    #find the subject-wise indices whose ROI timeseries have a value of 0\n",
        "    rs_non_zero = np.where(np.any(rs_corr_shen == 0, axis = 1))\n",
        "    #append the subject-wise indices to a list\n",
        "    rs_non_zero_roi = np.concatenate((rs_non_zero_roi, rs_non_zero), axis = None)\n",
        "\n",
        "for rsfilename in range(len(rsfilename_list)):\n",
        "\n",
        "    rsname = rsfilename + 1\n",
        "    #access the subject-wise ROI timeseries of each individual for Session 1\n",
        "    rsfMRI_timeseries_2d = rsfMRI_timeseries[rsfilename]\n",
        "\n",
        "    #compute Pearson’s correlation coefficient for Session 1\n",
        "    rsfMRI_corr = np.corrcoef(rsfMRI_timeseries_2d)\n",
        "    print(rsfMRI_corr.shape)\n",
        "    rsfMRI_corr[np.isnan(rsfMRI_corr)] = 0\n",
        "    pd.DataFrame(rsfMRI_corr).to_csv(f\"/content/drive/MyDrive/FCABIDE/connectivity_matrices/connectivity_matrices_GENABIDE_TDC_FPN/00{rsname}.csv\", header = None, index = None)\n",
        "    rsfMRI_corr_test.append(rsfMRI_corr)"
      ]
    },
    {
      "cell_type": "code",
      "execution_count": null,
      "metadata": {
        "colab": {
          "base_uri": "https://localhost:8080/"
        },
        "id": "ySpPfBTDd23T",
        "outputId": "2dc17e89-c013-4f81-fdb9-fd1cd281dcb4"
      },
      "outputs": [
        {
          "data": {
            "text/plain": [
              "array([[1.        , 0.64914313, 0.37101085, ..., 0.        , 0.        ,\n",
              "        0.17784911],\n",
              "       [0.64914313, 1.        , 0.41133686, ..., 0.        , 0.        ,\n",
              "        0.17688149],\n",
              "       [0.37101085, 0.41133686, 1.        , ..., 0.        , 0.        ,\n",
              "        0.20787713],\n",
              "       ...,\n",
              "       [0.        , 0.        , 0.        , ..., 0.        , 0.        ,\n",
              "        0.        ],\n",
              "       [0.        , 0.        , 0.        , ..., 0.        , 0.        ,\n",
              "        0.        ],\n",
              "       [0.17784911, 0.17688149, 0.20787713, ..., 0.        , 0.        ,\n",
              "        1.        ]])"
            ]
          },
          "execution_count": 5,
          "metadata": {},
          "output_type": "execute_result"
        }
      ],
      "source": [
        "rsfMRI_corr_test = np.array(rsfMRI_corr_test)\n",
        "rsfMRI_corr_test[0]"
      ]
    },
    {
      "cell_type": "markdown",
      "metadata": {
        "id": "rFudR-W8Vy9O"
      },
      "source": [
        "##### Bagging"
      ]
    },
    {
      "cell_type": "code",
      "execution_count": null,
      "metadata": {
        "colab": {
          "base_uri": "https://localhost:8080/"
        },
        "id": "JMk1kZy6W8NZ",
        "outputId": "51664ffd-b0a4-4583-8ee6-f3884ae40c4f"
      },
      "outputs": [
        {
          "name": "stdout",
          "output_type": "stream",
          "text": [
            "(540, 198, 375)\n",
            "(540, 198, 375)\n"
          ]
        }
      ],
      "source": [
        "#Date: 30/10/2019\n",
        "#Authors: Jivesh Ramduny & Clare Kelly\n",
        "#Location: Imaging Mind Architecture Lab, Trinity College Dublin\n",
        "\n",
        "import os\n",
        "import glob\n",
        "import numpy as np\n",
        "import pandas as pd\n",
        "import seaborn as sns\n",
        "import matplotlib.pyplot as plt\n",
        "\n",
        "#input directory for the 268 ROIs timeseries derived from Shen parcellation\n",
        "rs_datapath = '/content/drive/MyDrive/HBNTS540/*_HBN_268Parcels_rest_run_1.txt'\n",
        "mv_datapath = '/content/drive/MyDrive/HBNTS540/*_HBN_268Parcels_rest_run_2.txt'\n",
        "\n",
        "rsfilename_list = np.sort(glob.glob(rs_datapath))\n",
        "mvfilename_list = np.sort(glob.glob(mv_datapath))\n",
        "\n",
        "#initialise an empty list to store all subjects timeseries for Sessions 1\n",
        "rs_non_zero_roi = []\n",
        "rsfMRI_timeseries = []\n",
        "rsfMRI_timeseries_2d = []\n",
        "rsfMRI_timeseries_corr = []\n",
        "rsfMRI_nonzero_timeseries = []\n",
        "\n",
        "#initialise an empty list to store all subjects timeseries for Sessions 2\n",
        "mv_non_zero_roi = []\n",
        "mvfMRI_timeseries = []\n",
        "mvfMRI_timeseries_2d = []\n",
        "mvfMRI_timeseries_corr = []\n",
        "\n",
        "#iterate through the ROIs timeseries of each subject for Session 1\n",
        "for rsfilename in rsfilename_list:\n",
        "\n",
        "    rs_corr_shen = np.transpose(np.loadtxt(rsfilename))\n",
        "    #append the ROI timeseries for each subject to a list\n",
        "    rsfMRI_timeseries.append(rs_corr_shen)\n",
        "    #find the subject-wise indices whose ROI timeseries have a value of 0\n",
        "    rs_non_zero = np.where(np.any(rs_corr_shen == 0, axis = 1))\n",
        "    #append the subject-wise indices to a list\n",
        "    rs_non_zero_roi = np.concatenate((rs_non_zero_roi, rs_non_zero), axis = None)\n",
        "\n",
        "#convert the appended list of all the subjects' timeseries to an array\n",
        "rsfMRI_timeseries_to_array = np.asarray(rsfMRI_timeseries)\n",
        "\n",
        "#iterate through the ROIs timeseries of each subject for Session 2\n",
        "for mvfilename in mvfilename_list:\n",
        "\n",
        "    mv_corr_shen = np.transpose(np.loadtxt(mvfilename))\n",
        "    #append the ROI timeseries for each subject to a list\n",
        "    mvfMRI_timeseries.append(mv_corr_shen)\n",
        "    #find the subject-wise indices whose ROI timeseries have a value of 0\n",
        "    mv_non_zero = np.where(np.any(mv_corr_shen == 0, axis = 1))\n",
        "    #append the subject-wise indices to a list\n",
        "    mv_non_zero_roi = np.concatenate((mv_non_zero_roi, mv_non_zero), axis = None)\n",
        "\n",
        "#convert the appended list of all the subjects' timeseries to an array\n",
        "mvfMRI_timeseries_to_array = np.asarray(mvfMRI_timeseries)\n",
        "\n",
        "#append all subject-wise indices whose ROI timeseries contain a value of 0 for Session 1 & 2\n",
        "all_indices_s1_s2 = np.concatenate((rs_non_zero_roi, mv_non_zero_roi), axis = None)\n",
        "#find all the unique indices whose ROI timeseries contain a value of 0\n",
        "find_unique_indices = np.unique(all_indices_s1_s2)\n",
        "find_unique_indices_int = find_unique_indices.astype(int)\n",
        "\n",
        "#remove all the rows whose ROI timseries contain a value of 0 based on the list of unique indices for Session 1\n",
        "rsfMRI_nonzero_timeseries = np.delete(rsfMRI_timeseries_to_array, find_unique_indices_int, axis = 1)\n",
        "#sanity check to verify the content and size of the resulting nonzero ROI timeseries\n",
        "print(rsfMRI_nonzero_timeseries.shape)\n",
        "\n",
        "#remove all the rows whose ROI timseries contain a value of 0 based on the list of unique indices for Session 2\n",
        "mvfMRI_nonzero_timeseries = np.delete(mvfMRI_timeseries_to_array, find_unique_indices_int, axis = 1)\n",
        "#sanity check to verify the content and size of the resulting nonzero ROI timeseries\n",
        "print(mvfMRI_nonzero_timeseries.shape)\n"
      ]
    },
    {
      "cell_type": "code",
      "execution_count": null,
      "metadata": {
        "colab": {
          "base_uri": "https://localhost:8080/"
        },
        "id": "Qid8LhSFN3Lb",
        "outputId": "bb6b74ec-0b60-4668-dc1e-69200dd9fe85"
      },
      "outputs": [
        {
          "data": {
            "text/plain": [
              "(70,)"
            ]
          },
          "execution_count": 2,
          "metadata": {},
          "output_type": "execute_result"
        }
      ],
      "source": [
        "zero_ROIS = find_unique_indices_int.copy()\n",
        "zero_ROIS.shape\n"
      ]
    },
    {
      "cell_type": "code",
      "execution_count": null,
      "metadata": {
        "id": "abbd3SmkWGTw"
      },
      "outputs": [],
      "source": [
        "rs_motion_param_datapath = '/content/drive/MyDrive/motion_params_HBNFD/*_task-rest_run-1_bold_mcf.nii.gz_rel.rms'\n",
        "mv_motion_param_datapath = '/content/drive/MyDrive/motion_params_HBNFD/*_task-rest_run-2_bold_mcf.nii.gz_rel.rms'\n",
        "\n",
        "rsfilename_motion_param_list = np.sort(glob.glob(rs_motion_param_datapath))\n",
        "mvfilename_motion_param_list = np.sort(glob.glob(mv_motion_param_datapath))\n",
        "\n",
        "rssubj_exclusion = []\n",
        "mvsubj_exclusion = []\n",
        "best_timepoints_size_s1 = []\n",
        "best_timepoints_size_s2 = []\n",
        "all_unique_contaminated_indices = []\n",
        "rsall_unique_contaminated_indices = []\n",
        "mvall_unique_contaminated_indices = []\n",
        "\n",
        "#select head motion threshold to identify contaminated timepoints\n",
        "threshold = 0.20\n",
        "\n",
        "#select a minimum amount of timepoints to be retained after identifying contaminated timepoints\n",
        "minTP = 200\n",
        "\n",
        "#select number of bootstrapped timepoints from the best timepoints (minTP)\n",
        "TP = 100\n",
        "\n",
        "#number of iterations to perform bagging (bootstrap aggregation)\n",
        "epochs = 500\n"
      ]
    },
    {
      "cell_type": "code",
      "execution_count": null,
      "metadata": {
        "colab": {
          "base_uri": "https://localhost:8080/"
        },
        "id": "QqUBAHnvWkIt",
        "outputId": "268936f5-790a-47da-b32c-d4fc03a70de8"
      },
      "outputs": [
        {
          "name": "stdout",
          "output_type": "stream",
          "text": [
            "12\n"
          ]
        }
      ],
      "source": [
        "for rsfilename in range(rsfMRI_nonzero_timeseries.shape[0]):\n",
        "\n",
        "    #load each subject's head motion parameter files for Session 1\n",
        "    rmsFDs1 = np.loadtxt(rsfilename_motion_param_list[rsfilename])\n",
        "    #find the indices of the contaminated timepoints with rmsFD > threshold\n",
        "    rmsFDs1_thresh = np.asarray(np.where(rmsFDs1 > threshold))\n",
        "\n",
        "    #find the indices of the preceding timepoints to be srubbed from the timeseries\n",
        "    left_indices = rmsFDs1_thresh - 1\n",
        "    #remove the indices less than 0 as indices should always start from zero\n",
        "    left_nonzero_indices = left_indices[left_indices >= 0]\n",
        "    #find the indices of the first succeeding timepoints to be scrubbed from the timeseries\n",
        "    right_first_indices = rmsFDs1_thresh + 1\n",
        "    #remove the indices of the first succeeding timepoints if they exceed the size of the timepoints\n",
        "    right_first_in_range_indices = right_first_indices[right_first_indices < rmsFDs1.shape]\n",
        "    #find the indices of the second succeeding timepoints to be scrubbed from the timeseries\n",
        "    right_second_indices = rmsFDs1_thresh + 2\n",
        "    #remove the indices of the second succeeding timepoints if they exceed the size of the timepoints\n",
        "    right_second_in_range_indices = right_second_indices[right_second_indices < rmsFDs1.shape]\n",
        "\n",
        "    #concatenate all the contaminated indices including the scrubbed indices into an array\n",
        "    all_contaminated_indices = np.concatenate((rmsFDs1_thresh, left_nonzero_indices, right_first_in_range_indices, right_second_in_range_indices), axis = None)\n",
        "    #find all the unique contaminated indices including the scrubbed indices\n",
        "    unique_contaminated_indices = np.unique(all_contaminated_indices).astype(int)\n",
        "    #append all subjects' unique contaminated indices including the scrubbed indices into an array\n",
        "    all_unique_contaminated_indices.append(unique_contaminated_indices)\n",
        "\n",
        "    #find the remaining amount of timepoints left after identifying the contaminated timepoints\n",
        "    best_timepoints_size = rsfMRI_nonzero_timeseries.shape[2] - np.asarray(unique_contaminated_indices.shape)\n",
        "    #store all subjects' remaining amount of timepoints left in an array\n",
        "    best_timepoints_size_s1.append(best_timepoints_size)\n",
        "\n",
        "    #identify the subjects who has less remaining amount of timepoints than the minimum amount of timepoints required\n",
        "    if (best_timepoints_size < minTP):\n",
        "        rssubj_exclusion.append(rsfilename)\n",
        "\n",
        "print(np.array(rssubj_exclusion).shape[0])\n"
      ]
    },
    {
      "cell_type": "code",
      "execution_count": null,
      "metadata": {
        "colab": {
          "base_uri": "https://localhost:8080/"
        },
        "id": "q49mEAFqXS3v",
        "outputId": "0d3fd694-f942-4256-940b-c5144f8155b8"
      },
      "outputs": [
        {
          "name": "stdout",
          "output_type": "stream",
          "text": [
            "16\n"
          ]
        }
      ],
      "source": [
        "for mvfilename in range(mvfMRI_nonzero_timeseries.shape[0]):\n",
        "\n",
        "    #load each subject's head motion parameter files for Session 2\n",
        "    rmsFDs2 = np.loadtxt(mvfilename_motion_param_list[mvfilename])\n",
        "    #find the indices of the contaminated timepoints with rmsFD > threshold\n",
        "    rmsFDs2_thresh = np.asarray(np.where(rmsFDs2 > threshold))\n",
        "\n",
        "    #find the indices of the preceding timepoints to be srubbed from the timeseries\n",
        "    mvleft_indices = rmsFDs2_thresh - 1\n",
        "    #remove the indices less than 0 as indices should always start from zero\n",
        "    mvleft_nonzero_indices = mvleft_indices[mvleft_indices >= 0]\n",
        "    #find the indices of the first succeeding timepoints to be scrubbed from the timeseries\n",
        "    mvright_first_indices = rmsFDs2_thresh + 1\n",
        "    #remove the indices of the first succeeding timepoints if they exceed the size of the timepoints\n",
        "    mvright_first_in_range_indices = mvright_first_indices[mvright_first_indices < rmsFDs2.shape]\n",
        "    #find the indices of the second succeeding timepoints to be scrubbed from the timeseries\n",
        "    mvright_second_indices = rmsFDs2_thresh + 2\n",
        "    #remove the indices of the second succeeding timepoints if they exceed the size of the timepoints\n",
        "    mvright_second_in_range_indices = mvright_second_indices[mvright_second_indices < rmsFDs2.shape]\n",
        "\n",
        "    #concatenate all the contaminated indices including the scrubbed indices into an array\n",
        "    mvall_contaminated_indices = np.concatenate((rmsFDs2_thresh, mvleft_nonzero_indices, mvright_first_in_range_indices, mvright_second_in_range_indices), axis = None)\n",
        "    #find all the unique contaminated indices including the scrubbed indices\n",
        "    mvunique_contaminated_indices = np.unique(mvall_contaminated_indices).astype(int)\n",
        "    #append all subjects' unique contaminated indices including the scrubbed indices into an array\n",
        "    mvall_unique_contaminated_indices.append(mvunique_contaminated_indices)\n",
        "\n",
        "    #find the remaining amount of timepoints left after identifying the contaminated timepoints\n",
        "    best_mvtimepoints_size = mvfMRI_nonzero_timeseries.shape[2] - np.asarray(mvunique_contaminated_indices.shape)\n",
        "    #store all subjects' remaining amount of timepoints left in an array\n",
        "    best_timepoints_size_s2.append(best_mvtimepoints_size)\n",
        "\n",
        "    #identify the subjects who has less remaining amount of timepoints than the minimum amount of timepoints required\n",
        "    if (best_mvtimepoints_size < minTP):\n",
        "        mvsubj_exclusion.append(mvfilename)\n",
        "\n",
        "print(np.array(mvsubj_exclusion).shape[0])\n"
      ]
    },
    {
      "cell_type": "code",
      "execution_count": null,
      "metadata": {
        "colab": {
          "base_uri": "https://localhost:8080/"
        },
        "id": "3uo7v_fsXhnJ",
        "outputId": "85f96379-26dd-427c-e632-45e471c6af0a"
      },
      "outputs": [
        {
          "name": "stdout",
          "output_type": "stream",
          "text": [
            "Total number of participants to be excluded from REST1 & REST2:[  0   5   9  10  19  58  63  75  85  95 133 142 147 165 167 171 205 222\n",
            " 246 274 283]\n",
            "(285, 225, 375)\n",
            "(285, 225, 375)\n",
            "285\n",
            "285\n"
          ]
        },
        {
          "name": "stderr",
          "output_type": "stream",
          "text": [
            "/usr/local/lib/python3.10/dist-packages/numpy/lib/function_base.py:5030: VisibleDeprecationWarning: Creating an ndarray from ragged nested sequences (which is a list-or-tuple of lists-or-tuples-or ndarrays with different lengths or shapes) is deprecated. If you meant to do this, you must specify 'dtype=object' when creating the ndarray.\n",
            "  arr = asarray(arr)\n"
          ]
        }
      ],
      "source": [
        "#concatenate all subjects to be excluded from Session 1 & Session 2\n",
        "all_subj_exclusion = np.concatenate((rssubj_exclusion, mvsubj_exclusion), axis = None)\n",
        "#find the unique subjects to be excluded from Session 1 & Session 2\n",
        "unique_subj_exclusion = np.unique(all_subj_exclusion).astype(int)\n",
        "print(\"Total number of participants to be excluded from REST1 & REST2:\" + str(unique_subj_exclusion))\n",
        "\n",
        "#remove the size of the best timepoints for the subjects to be excluded for Session 1 & Session 2\n",
        "best_timepoints_s1 = np.delete(best_timepoints_size_s1, unique_subj_exclusion)\n",
        "best_timepoints_s2 = np.delete(best_timepoints_size_s2, unique_subj_exclusion)\n",
        "\n",
        "#remove the subjects to be excluded from the original 3D array for Session 1 & Session 2\n",
        "rsfMRI_nonzero_best_timeseries = np.delete(rsfMRI_nonzero_timeseries, unique_subj_exclusion, axis = 0)\n",
        "mvfMRI_nonzero_best_timeseries = np.delete(mvfMRI_nonzero_timeseries, unique_subj_exclusion, axis = 0)\n",
        "print(rsfMRI_nonzero_best_timeseries.shape); print(mvfMRI_nonzero_best_timeseries.shape)\n",
        "\n",
        "#remove all the unique contaminated indices of the subjects to be excluded for Session 1 & Session 2\n",
        "rsbest_unique_contaminated_indices = np.delete(all_unique_contaminated_indices, unique_subj_exclusion)\n",
        "mvbest_unique_contaminated_indices = np.delete(mvall_unique_contaminated_indices, unique_subj_exclusion)\n",
        "print(rsbest_unique_contaminated_indices.shape[0]); print(mvbest_unique_contaminated_indices.shape[0])\n"
      ]
    },
    {
      "cell_type": "code",
      "execution_count": null,
      "metadata": {
        "colab": {
          "base_uri": "https://localhost:8080/"
        },
        "id": "zaSKNMoSYOQp",
        "outputId": "3b8c04ec-d6fe-4aaf-cd41-111e6a146032"
      },
      "outputs": [
        {
          "name": "stdout",
          "output_type": "stream",
          "text": [
            "Doing epoch 1 of 277... 2... 3... 4... 5... 6... 7... 8... 9... 10... 11... 12... 13... 14... 15... 16... 17... 18... 19... 20... 21... 22... 23... 24... 25... 26... 27... 28... 29... 30... 31... 32... 33... 34... 35... 36... 37... 38... 39... 40... 41... 42... 43... 44... 45... 46... 47... 48... 49... 50... 51... 52... 53... 54... 55... 56... 57... 58... 59... 60... 61... 62... 63... 64... 65... 66... 67... 68... 69... 70... 71... 72... 73... 74... 75... 76... 77... 78... 79... 80... 81... 82... 83... 84... 85... 86... 87... 88... 89... 90... 91... 92... 93... 94... 95... 96... 97... 98... 99... 100... 101... 102... 103... 104... 105... 106... 107... 108... 109... 110... 111... 112... 113... 114... 115... 116... 117... 118... 119... 120... 121... 122... 123... 124... 125... 126... 127... 128... 129... 130... 131... 132... 133... 134... 135... 136... 137... 138... 139... 140... 141... 142... 143... 144... 145... 146... 147... 148... 149... 150... 151... 152... 153... 154... 155... 156... 157... 158... 159... 160... 161... 162... 163... 164... 165... 166... 167... 168... 169... 170... 171... 172... 173... 174... 175... 176... 177... 178... 179... 180... 181... 182... 183... 184... 185... 186... 187... 188... 189... 190... 191... 192... 193... 194... 195... 196... 197... 198... 199... 200... 201... 202... 203... 204... 205... 206... 207... 208... 209... 210... 211... 212... 213... 214... 215... 216... 217... 218... 219... 220... 221... 222... 223... 224... 225... 226... 227... 228... 229... 230... 231... 232... 233... 234... 235... 236... 237... 238... 239... 240... 241... 242... 243... 244... 245... 246... 247... 248... 249... 250... 251... 252... 253... 254... 255... 256... 257... 258... 259... 260... 261... 262... 263... 264... 265... 266... 267... 268... 269... 270... 271... 272... 273... 274... 275... 276... 277... "
          ]
        }
      ],
      "source": [
        "all_bootstrap_corr_matrix = np.zeros((epochs, rsfMRI_nonzero_best_timeseries.shape[1], rsfMRI_nonzero_best_timeseries.shape[1]))\n",
        "bagged_corr_matrix = np.zeros((rsfMRI_nonzero_best_timeseries.shape[0], rsfMRI_nonzero_best_timeseries.shape[1], rsfMRI_nonzero_best_timeseries.shape[1]))\n",
        "remaining_motion_param_REST1_list = np.delete(np.array(rsfilename_motion_param_list), unique_subj_exclusion)\n",
        "\n",
        "for subREST1 in range(rsfMRI_nonzero_best_timeseries.shape[0]):\n",
        "\n",
        "  if subREST1 == 0:\n",
        "    print(\"Doing epoch {} of {}...\".format(subREST1 + 1, rsfMRI_nonzero_best_timeseries.shape[0]), end = \" \")\n",
        "  else:\n",
        "    print(\"{}...\".format(subREST1 + 1), end = \" \")\n",
        "\n",
        "  #find the top X least contaminated timepoints for each participant for REST1\n",
        "  subREST1_RMSFD = remaining_motion_param_REST1_list[subREST1]\n",
        "  load_subREST1_RMSFD = np.loadtxt(subREST1_RMSFD)\n",
        "  remaining_best_motion_REST1 = np.delete(load_subREST1_RMSFD, rsbest_unique_contaminated_indices[subREST1])\n",
        "  find_indices_best_motion_REST1 = np.argsort(remaining_best_motion_REST1)[:minTP]\n",
        "\n",
        "  top_bootstrap_samples_REST1 = np.take(rsfMRI_nonzero_best_timeseries, find_indices_best_motion_REST1, axis = 2)\n",
        "  rsfMRI_bootstrap_timeseries_2d = top_bootstrap_samples_REST1[subREST1, :, :]\n",
        "\n",
        "  for epoch in range(epochs):\n",
        "\n",
        "    #randomly select X amount of timepoints to be bagged from the top timepoitns for each participants\n",
        "    bootstrap_sample = np.random.choice(rsfMRI_bootstrap_timeseries_2d.shape[1], TP, replace = True)\n",
        "    bootstrap_timeseries = np.take(rsfMRI_bootstrap_timeseries_2d, bootstrap_sample, axis = 1)\n",
        "    bootstrap_corr_matrix = np.corrcoef(bootstrap_timeseries)\n",
        "\n",
        "    all_bootstrap_corr_matrix[epoch, :, :] = bootstrap_corr_matrix\n",
        "\n",
        "  mean_all_boostrap_corr_matrix = np.mean(all_bootstrap_corr_matrix, axis = 0)\n",
        "  bagged_corr_matrix[subREST1, :, :] = mean_all_boostrap_corr_matrix\n"
      ]
    },
    {
      "cell_type": "code",
      "execution_count": null,
      "metadata": {
        "id": "wpBEhuRGrE6v"
      },
      "outputs": [],
      "source": [
        "for subREST1 in range(bagged_corr_matrix.shape[0]):\n",
        "\n",
        "  rsname = subREST1 + 1\n",
        "  bagged_corr_matrix_2d = bagged_corr_matrix[subREST1, :, :]\n",
        "  pd.DataFrame(bagged_corr_matrix_2d).to_csv(f\"/content/drive/MyDrive/connectivity_matrices_minTP200TP100_HM_bagged_FSIQ/REST1/00{rsname}.csv\", header = None, index = None)\n"
      ]
    },
    {
      "cell_type": "code",
      "execution_count": null,
      "metadata": {
        "colab": {
          "base_uri": "https://localhost:8080/"
        },
        "id": "dBTUzueMzIXb",
        "outputId": "b399b219-889f-48b9-8eb6-d3c960e88acb"
      },
      "outputs": [
        {
          "name": "stdout",
          "output_type": "stream",
          "text": [
            "Doing epoch 1 of 277... 2... 3... 4... 5... 6... 7... 8... 9... 10... 11... 12... 13... 14... 15... 16... 17... 18... 19... 20... 21... 22... 23... 24... 25... 26... 27... 28... 29... 30... 31... 32... 33... 34... 35... 36... 37... 38... 39... 40... 41... 42... 43... 44... 45... 46... 47... 48... 49... 50... 51... 52... 53... 54... 55... 56... 57... 58... 59... 60... 61... 62... 63... 64... 65... 66... 67... 68... 69... 70... 71... 72... 73... 74... 75... 76... 77... 78... 79... 80... 81... 82... 83... 84... 85... 86... 87... 88... 89... 90... 91... 92... 93... 94... 95... 96... 97... 98... 99... 100... 101... 102... 103... 104... 105... 106... 107... 108... 109... 110... 111... 112... 113... 114... 115... 116... 117... 118... 119... 120... 121... 122... 123... 124... 125... 126... 127... 128... 129... 130... 131... 132... 133... 134... 135... 136... 137... 138... 139... 140... 141... 142... 143... 144... 145... 146... 147... 148... 149... 150... 151... 152... 153... 154... 155... 156... 157... 158... 159... 160... 161... 162... 163... 164... 165... 166... 167... 168... 169... 170... 171... 172... 173... 174... 175... 176... 177... 178... 179... 180... 181... 182... 183... 184... 185... 186... 187... 188... 189... 190... 191... 192... 193... 194... 195... 196... 197... 198... 199... 200... 201... 202... 203... 204... 205... 206... 207... 208... 209... 210... 211... 212... 213... 214... 215... 216... 217... 218... 219... 220... 221... 222... 223... 224... 225... 226... 227... 228... 229... 230... 231... 232... 233... 234... 235... 236... 237... 238... 239... 240... 241... 242... 243... 244... 245... 246... 247... 248... 249... 250... 251... 252... 253... 254... 255... 256... 257... 258... 259... 260... 261... 262... 263... 264... 265... 266... 267... 268... 269... 270... 271... 272... 273... 274... 275... 276... 277... "
          ]
        }
      ],
      "source": [
        "all_bootstrap_corr_matrix_REST2 = np.zeros((epochs, mvfMRI_nonzero_best_timeseries.shape[1], mvfMRI_nonzero_best_timeseries.shape[1]))\n",
        "bagged_corr_matrix_REST2 = np.zeros((mvfMRI_nonzero_best_timeseries.shape[0], mvfMRI_nonzero_best_timeseries.shape[1], mvfMRI_nonzero_best_timeseries.shape[1]))\n",
        "remaining_motion_param_REST2_list = np.delete(np.array(mvfilename_motion_param_list), unique_subj_exclusion)\n",
        "\n",
        "for subREST2 in range(mvfMRI_nonzero_best_timeseries.shape[0]):\n",
        "\n",
        "  if subREST2 == 0:\n",
        "    print(\"Doing epoch {} of {}...\".format(subREST2 + 1, mvfMRI_nonzero_best_timeseries.shape[0]), end = \" \")\n",
        "  else:\n",
        "    print(\"{}...\".format(subREST2 + 1), end = \" \")\n",
        "\n",
        "  #find the top X least contaminated timepoints for each participant for REST2\n",
        "  subREST2_RMSFD = remaining_motion_param_REST2_list[subREST2]\n",
        "  load_subREST2_RMSFD = np.loadtxt(subREST2_RMSFD)\n",
        "  remaining_best_motion_REST2 = np.delete(load_subREST2_RMSFD, mvbest_unique_contaminated_indices[subREST2])\n",
        "  find_indices_best_motion_REST2 = np.argsort(remaining_best_motion_REST2)[:minTP]\n",
        "\n",
        "  top_bootstrap_samples_REST2 = np.take(mvfMRI_nonzero_best_timeseries, find_indices_best_motion_REST2, axis = 2)\n",
        "  mvfMRI_bootstrap_timeseries_2d = top_bootstrap_samples_REST2[subREST2, :, :]\n",
        "\n",
        "  for epoch in range(epochs):\n",
        "\n",
        "    #randomly select X amount of timepoints to be bagged from the top timepoitns for each participants\n",
        "    bootstrap_sample_REST2 = np.random.choice(mvfMRI_bootstrap_timeseries_2d.shape[1], TP, replace = True)\n",
        "    bootstrap_timeseries_REST2 = np.take(mvfMRI_bootstrap_timeseries_2d, bootstrap_sample_REST2, axis = 1)\n",
        "    bootstrap_corr_matrix_REST2 = np.corrcoef(bootstrap_timeseries_REST2)\n",
        "\n",
        "    all_bootstrap_corr_matrix_REST2[epoch, :, :] = bootstrap_corr_matrix_REST2\n",
        "\n",
        "  mean_all_boostrap_corr_matrix_REST2 = np.mean(all_bootstrap_corr_matrix_REST2, axis = 0)\n",
        "  bagged_corr_matrix_REST2[subREST2, :, :] = mean_all_boostrap_corr_matrix_REST2\n"
      ]
    },
    {
      "cell_type": "code",
      "execution_count": null,
      "metadata": {
        "id": "yi2KdH0F0_Dt"
      },
      "outputs": [],
      "source": [
        "for subREST2 in range(bagged_corr_matrix_REST2.shape[0]):\n",
        "\n",
        "  rsname = subREST2 + 1\n",
        "  bagged_corr_matrix_2d_REST2 = bagged_corr_matrix_REST2[subREST2, :, :]\n",
        "  pd.DataFrame(bagged_corr_matrix_2d_REST2).to_csv(f\"/content/drive/MyDrive/connectivity_matrices_minTP200TP100_HM_bagged_FSIQ/REST2/00{rsname}.csv\", header = None, index = None)\n"
      ]
    },
    {
      "cell_type": "code",
      "execution_count": null,
      "metadata": {
        "colab": {
          "base_uri": "https://localhost:8080/"
        },
        "id": "vGrIvRoG0-ZA",
        "outputId": "d2402776-0513-477e-c8eb-a60f4d3a6df7"
      },
      "outputs": [
        {
          "name": "stdout",
          "output_type": "stream",
          "text": [
            "[0.68125]\n"
          ]
        }
      ],
      "source": [
        "#input directory for the FC matrices derived from Shen parcellation\n",
        "rs_datapath = '/content/drive/MyDrive/connectivity_matrices_minTP200TP100_HM_bagged_AGE/REST1/00*.csv'\n",
        "mv_datapath = '/content/drive/MyDrive/connectivity_matrices_minTP200TP100_HM_bagged_AGE/REST2/00*.csv'\n",
        "\n",
        "rsfilename_list = np.sort(glob.glob(rs_datapath))\n",
        "mvfilename_list = np.sort(glob.glob(mv_datapath))\n",
        "\n",
        "rsfMRI_timeseries_corr = []\n",
        "mvfMRI_timeseries_corr = []\n",
        "\n",
        "for rsfilename in rsfilename_list:\n",
        "\n",
        "  rsfMRI_corr = np.array(pd.read_csv(rsfilename, header = None))\n",
        "  #truncate correlation matrix to select upper triangular matrix for Session 1\n",
        "  rsfMRI_corr_shen = rsfMRI_corr.shape[0]\n",
        "  arange_rsfMRI_corr, diag = np.triu_indices(rsfMRI_corr_shen, 1)\n",
        "  trunc_rsfMRI_corr_shen = rsfMRI_corr[arange_rsfMRI_corr, diag]\n",
        "\n",
        "  #append the truncated correlation matrix of all subjects to the list\n",
        "  rsfMRI_timeseries_corr.append(trunc_rsfMRI_corr_shen)\n",
        "\n",
        "for mvfilename in mvfilename_list:\n",
        "\n",
        "  mvfMRI_corr = np.array(pd.read_csv(mvfilename, header = None))\n",
        "  #truncate correlation matrix to select upper triangular matrix for Session 2\n",
        "  mvfMRI_corr_shen = mvfMRI_corr.shape[0]\n",
        "  arange_mvfMRI_corr, diag = np.triu_indices(mvfMRI_corr_shen, 1)\n",
        "  trunc_mvfMRI_corr_shen = mvfMRI_corr[arange_mvfMRI_corr, diag]\n",
        "\n",
        "  #append the truncated correlation matrix of all subjects to the list\n",
        "  mvfMRI_timeseries_corr.append(trunc_mvfMRI_corr_shen)\n",
        "\n",
        "#convert the list to an array for Session 1 & 2\n",
        "trunc_rsfMRI_corr_to_array = np.asarray(rsfMRI_timeseries_corr)\n",
        "trunc_mvfMRI_corr_to_array = np.asarray(mvfMRI_timeseries_corr)\n",
        "\n",
        "#transpose the array to ease further computation for Session 1 & 2\n",
        "trans_rsfMRI_corr = np.transpose(trunc_rsfMRI_corr_to_array)\n",
        "trans_mvfMRI_corr = np.transpose(trunc_mvfMRI_corr_to_array)\n",
        "\n",
        "#compute columnwise pearson's correlation matrix between Session 1 and Session 2\n",
        "trans_rsfMRI_corr = (trans_rsfMRI_corr - trans_rsfMRI_corr.mean(axis = 0)) / trans_rsfMRI_corr.std(axis = 0)\n",
        "trans_mvfMRI_corr = (trans_mvfMRI_corr - trans_mvfMRI_corr.mean(axis = 0)) / trans_mvfMRI_corr.std(axis = 0)\n",
        "rs_mv_corr = np.dot(trans_rsfMRI_corr.T, trans_mvfMRI_corr) / trans_rsfMRI_corr.shape[0]\n",
        "\n",
        "#extract the diagonal values of the final correlation matrix\n",
        "diag = np.diag(rs_mv_corr)\n",
        "\n",
        "#extract the maximum value in each row of the final correlation matrix\n",
        "max_corr = np.amax(rs_mv_corr, axis = 1)\n",
        "\n",
        "#ID is based on a binary system where each diagonal value is compared with the\n",
        "#maximum value of that row in the final correlation matrix. We expect that the\n",
        "#diagnoal value is greater than or equal to the maximum value of each row to\n",
        "#allow successful identification\n",
        "diag_to_array = np.array(diag)\n",
        "max_corr_to_array = np.array(max_corr)\n",
        "BID = np.greater_equal(diag_to_array, max_corr_to_array)\n",
        "\n",
        "#success rate is defined as the total number of positive identifications divided\n",
        "#by the total number of subjects\n",
        "success_rate_BID = np.sum(BID)/(BID.shape)\n",
        "print(success_rate_BID)\n"
      ]
    },
    {
      "cell_type": "markdown",
      "metadata": {
        "id": "wp6Jl36yOH5B"
      },
      "source": [
        "##### Bagging for Generalisability [CPM]"
      ]
    },
    {
      "cell_type": "code",
      "execution_count": null,
      "metadata": {
        "id": "6feXxkLGbhmt"
      },
      "outputs": [],
      "source": [
        "#Date: 30/10/2019\n",
        "#Authors: Jivesh Ramduny & Clare Kelly\n",
        "#Location: Imaging Mind Architecture Lab, Trinity College Dublin\n",
        "\n",
        "import os\n",
        "import glob\n",
        "import numpy as np\n",
        "import pandas as pd\n",
        "import seaborn as sns\n",
        "import matplotlib.pyplot as plt\n",
        "\n",
        "#input directory for the 268 ROIs timeseries derived from Shen parcellation\n",
        "rs_datapath = '/content/drive/MyDrive/FCABIDE/TS/ABIDETS268_N439_HM/*_ABIDE_TDC_268Parcels_2mm_rest_run.txt'\n",
        "mv_datapath = '/content/drive/MyDrive/FCABIDE/TS/ABIDETS268_N439_HM/*_ABIDE_TDC_268Parcels_2mm_rest_run.txt'\n",
        "rsfilename_list = np.sort(glob.glob(rs_datapath))\n",
        "mvfilename_list = np.sort(glob.glob(mv_datapath))\n",
        "\n",
        "#initialise an empty list to store all subjects timeseries for Sessions 1\n",
        "rs_non_zero_roi = []\n",
        "rsfMRI_timeseries = []\n",
        "rsfMRI_timeseries_2d = []\n",
        "rsfMRI_timeseries_corr = []\n",
        "rsfMRI_nonzero_timeseries = []\n",
        "\n",
        "#initialise an empty list to store all subjects timeseries for Sessions 2\n",
        "mv_non_zero_roi = []\n",
        "mvfMRI_timeseries = []\n",
        "mvfMRI_timeseries_2d = []\n",
        "mvfMRI_timeseries_corr = []\n",
        "\n",
        "#iterate through the ROIs timeseries of each subject for Session 1\n",
        "for rsfilename in rsfilename_list:\n",
        "\n",
        "    rs_corr_shen = np.transpose(np.loadtxt(rsfilename))\n",
        "    rs_corr_shen = np.delete(rs_corr_shen, zero_ROIS, axis = 0)\n",
        "    print(rs_corr_shen.shape)\n",
        "    #append the ROI timeseries for each subject to a list\n",
        "    rsfMRI_timeseries.append(rs_corr_shen)\n"
      ]
    },
    {
      "cell_type": "code",
      "execution_count": null,
      "metadata": {
        "id": "HX0ecQruOQhK"
      },
      "outputs": [],
      "source": [
        "rs_motion_param_datapath = '/content/drive/MyDrive/ABIDE_motion_params_fdrms_HM/*_fd_motion_params.txt'\n",
        "\n",
        "rsfilename_motion_param_list = np.sort(glob.glob(rs_motion_param_datapath))\n",
        "\n",
        "rssubj_exclusion = []\n",
        "mvsubj_exclusion = []\n",
        "best_timepoints_size_s1 = []\n",
        "best_timepoints_size_s2 = []\n",
        "all_unique_contaminated_indices = []\n",
        "rsall_unique_contaminated_indices = []\n",
        "mvall_unique_contaminated_indices = []\n",
        "\n",
        "#select head motion threshold to identify contaminated timepoints\n",
        "threshold = 0.20\n",
        "\n",
        "#select a minimum amount of timepoints to be retained after identifying contaminated timepoints\n",
        "mintimepoint = 60\n",
        "\n",
        "#select number of bootstrapped timepoints from the best timepoints (minTP)\n",
        "TP = 20\n",
        "\n",
        "#number of iterations to perform bagging (bootstrap aggregation)\n",
        "epochs = 500\n"
      ]
    },
    {
      "cell_type": "code",
      "execution_count": null,
      "metadata": {
        "colab": {
          "base_uri": "https://localhost:8080/"
        },
        "id": "y-neWsNIbL0_",
        "outputId": "a14b52a3-93fd-44cf-9c24-a258bfb4b507"
      },
      "outputs": [
        {
          "name": "stdout",
          "output_type": "stream",
          "text": [
            "15\n"
          ]
        }
      ],
      "source": [
        "for rsfilename in range(len(rsfMRI_timeseries)):\n",
        "\n",
        "    #load each subject's head motion parameter files for Session 1\n",
        "    rmsFDs1 = np.loadtxt(rsfilename_motion_param_list[rsfilename])\n",
        "    rmsFDs1 = rmsFDs1[4:]\n",
        "\n",
        "    #find the indices of the contaminated timepoints with rmsFD > threshold\n",
        "    rmsFDs1_thresh = np.asarray(np.where(rmsFDs1 > threshold))\n",
        "\n",
        "    #find the indices of the preceding timepoints to be srubbed from the timeseries\n",
        "    left_indices = rmsFDs1_thresh - 1\n",
        "    #remove the indices less than 0 as indices should always start from zero\n",
        "    left_nonzero_indices = left_indices[left_indices >= 0]\n",
        "    #find the indices of the first succeeding timepoints to be scrubbed from the timeseries\n",
        "    right_first_indices = rmsFDs1_thresh + 1\n",
        "    #remove the indices of the first succeeding timepoints if they exceed the size of the timepoints\n",
        "    right_first_in_range_indices = right_first_indices[right_first_indices < rmsFDs1.shape]\n",
        "    #find the indices of the second succeeding timepoints to be scrubbed from the timeseries\n",
        "    right_second_indices = rmsFDs1_thresh + 2\n",
        "    #remove the indices of the second succeeding timepoints if they exceed the size of the timepoints\n",
        "    right_second_in_range_indices = right_second_indices[right_second_indices < rmsFDs1.shape]\n",
        "\n",
        "    #concatenate all the contaminated indices including the scrubbed indices into an array\n",
        "    all_contaminated_indices = np.concatenate((rmsFDs1_thresh, left_nonzero_indices, right_first_in_range_indices, right_second_in_range_indices), axis = None)\n",
        "    #find all the unique contaminated indices including the scrubbed indices\n",
        "    unique_contaminated_indices = np.unique(all_contaminated_indices).astype(int)\n",
        "    #append all subjects' unique contaminated indices including the scrubbed indices into an array\n",
        "    all_unique_contaminated_indices.append(unique_contaminated_indices)\n",
        "\n",
        "    #find the remaining amount of timepoints left after identifying the contaminated timepoints\n",
        "    best_timepoints_size = rsfMRI_timeseries[rsfilename].shape[1] - np.asarray(unique_contaminated_indices.shape)\n",
        "    #store all subjects' remaining amount of timepoints left in an array\n",
        "    best_timepoints_size_s1.append(best_timepoints_size)\n",
        "\n",
        "    #identify the subjects who has less remaining amount of timepoints than the minimum amount of timepoints required\n",
        "    if (best_timepoints_size < mintimepoint):\n",
        "        rssubj_exclusion.append(rsfilename)\n",
        "\n",
        "print(np.array(rssubj_exclusion).shape[0])\n"
      ]
    },
    {
      "cell_type": "code",
      "execution_count": null,
      "metadata": {
        "colab": {
          "base_uri": "https://localhost:8080/"
        },
        "id": "cOFZlTX1dhic",
        "outputId": "d79263a4-b1c2-4828-9771-df6bbf029aeb"
      },
      "outputs": [
        {
          "name": "stdout",
          "output_type": "stream",
          "text": [
            "Total number of participants to be excluded from REST1 & REST2:[ 71  72 172 176 177 180 181 187 207 216 262 273 288 302 306]\n",
            "424\n",
            "424\n",
            "424\n"
          ]
        },
        {
          "name": "stderr",
          "output_type": "stream",
          "text": [
            "/usr/local/lib/python3.10/dist-packages/numpy/lib/function_base.py:5030: VisibleDeprecationWarning: Creating an ndarray from ragged nested sequences (which is a list-or-tuple of lists-or-tuples-or ndarrays with different lengths or shapes) is deprecated. If you meant to do this, you must specify 'dtype=object' when creating the ndarray.\n",
            "  arr = asarray(arr)\n"
          ]
        }
      ],
      "source": [
        "#find the unique subjects to be excluded from Session 1\n",
        "unique_subj_exclusion = np.unique(rssubj_exclusion).astype(int)\n",
        "print(\"Total number of participants to be excluded from REST1 & REST2:\" + str(unique_subj_exclusion))\n",
        "\n",
        "#remove the size of the best timepoints for the subjects to be excluded for Session 1\n",
        "best_timepoints_s1 = np.delete(best_timepoints_size_s1, unique_subj_exclusion)\n",
        "print(best_timepoints_s1.shape[0])\n",
        "\n",
        "#remove the subjects to be excluded from the original 3D array for Session 1\n",
        "for item in reversed(list(unique_subj_exclusion)):\n",
        "  rsfMRI_timeseries.pop(item)\n",
        "\n",
        "print(len(rsfMRI_timeseries))\n",
        "\n",
        "#remove all the unique contaminated indices of the subjects to be excluded for Session 1\n",
        "rsbest_unique_contaminated_indices = np.delete(all_unique_contaminated_indices, unique_subj_exclusion)\n",
        "print(rsbest_unique_contaminated_indices.shape[0])\n"
      ]
    },
    {
      "cell_type": "code",
      "execution_count": null,
      "metadata": {
        "colab": {
          "base_uri": "https://localhost:8080/"
        },
        "id": "t2pSasmiG50a",
        "outputId": "0379eae3-4f06-4039-ec50-9566f300f42b"
      },
      "outputs": [
        {
          "name": "stdout",
          "output_type": "stream",
          "text": [
            "Doing epoch 1 of 424...\n",
            "2... 3... 4... 5... 6... 7... 8... 9... 10... 11... 12... 13... 14... 15... 16... 17... 18... 19... 20... 21... 22... 23... 24... 25... 26... 27... 28... 29... 30... 31... 32... 33... 34... 35... 36... 37... 38... 39... 40... 41... 42... 43... 44... 45... 46... 47... 48... 49... 50... 51... 52... 53... 54... 55... 56... 57... 58... 59... 60... 61... 62... 63... 64... 65... 66... 67... 68... 69... 70... 71... 72... 73... 74... 75... 76... 77... 78... 79... 80... 81... 82... 83... 84... 85... 86... 87... 88... 89... 90... 91... 92... 93... 94... 95... 96... 97... 98... 99... 100... 101... 102... 103... 104... 105... 106... 107... 108... 109... 110... 111... 112... 113... 114... 115... 116... 117... 118... 119... 120... 121... 122... 123... 124... 125... 126... 127... 128... 129... 130... 131... 132... 133... 134... 135... 136... 137... 138... 139... 140... 141... 142... 143... 144... 145... 146... 147... 148... 149... 150... 151... 152... 153... 154... 155... 156... 157... 158... 159... 160... 161... 162... 163... 164... 165... 166... 167... 168... 169... 170... 171... 172... 173... 174... 175... 176... 177... 178... 179... 180... 181... 182... 183... 184... 185... 186... 187... 188... 189... 190... 191... 192... 193... 194... 195... 196... 197... 198... 199... 200... 201... 202... 203... 204... 205... 206... 207... 208... 209... 210... 211... 212... 213... 214... 215... 216... 217... 218... 219... 220... 221... 222... 223... 224... 225... 226... 227... 228... 229... 230... 231... 232... 233... 234... 235... 236... 237... 238... 239... 240... 241... 242... 243... 244... 245... 246... 247... 248... 249... 250... 251... 252... 253... 254... 255... 256... 257... 258... 259... 260... 261... 262... 263... 264... 265... 266... 267... 268... 269... 270... 271... 272... 273... 274... 275... 276... 277... 278... 279... 280... 281... 282... 283... 284... 285... 286... 287... 288... 289... 290... 291... 292... 293... 294... 295... 296... 297... 298... 299... 300... 301... 302... 303... 304... 305... 306... 307... 308... 309... 310... 311... 312... 313... 314... 315... 316... 317... 318... 319... 320... 321... 322... 323... 324... 325... 326... 327... 328... 329... 330... 331... 332... 333... 334... 335... 336... 337... 338... 339... 340... 341... 342... 343... 344... 345... 346... 347... 348... 349... 350... 351... 352... 353... 354... 355... 356... 357... 358... 359... 360... 361... 362... 363... 364... 365... 366... 367... 368... 369... 370... 371... 372... 373... 374... 375... 376... 377... 378... 379... 380... 381... 382... 383... 384... 385... 386... 387... 388... 389... 390... 391... 392... 393... 394... 395... 396... 397... 398... 399... 400... 401... 402... 403... 404... 405... 406... 407... 408... 409... 410... 411... 412... 413... 414... 415... 416... 417... 418... 419... 420... 421... 422... 423... 424... "
          ]
        }
      ],
      "source": [
        "all_bootstrap_corr_matrix = np.zeros((epochs, rsfMRI_timeseries[0].shape[0], rsfMRI_timeseries[0].shape[0]))\n",
        "bagged_corr_matrix = np.zeros((rsbest_unique_contaminated_indices.shape[0], rsfMRI_timeseries[0].shape[0], rsfMRI_timeseries[0].shape[0]))\n",
        "remaining_motion_param_REST1_list = np.delete(np.array(rsfilename_motion_param_list), unique_subj_exclusion)\n",
        "\n",
        "for subREST1 in range(len(rsfMRI_timeseries)):\n",
        "\n",
        "  if subREST1 == 0:\n",
        "    print(\"Doing epoch {} of {}...\".format(subREST1 + 1, len(rsfMRI_timeseries), end = \" \"))\n",
        "  else:\n",
        "    print(\"{}...\".format(subREST1 + 1), end = \" \")\n",
        "\n",
        "  #find the top X least contaminated timepoints for each participant for REST1\n",
        "  subREST1_RMSFD = remaining_motion_param_REST1_list[subREST1]\n",
        "  load_subREST1_RMSFD = np.loadtxt(subREST1_RMSFD)[4:]\n",
        "  remaining_best_motion_REST1 = np.delete(load_subREST1_RMSFD, rsbest_unique_contaminated_indices[subREST1])\n",
        "  find_indices_best_motion_REST1 = np.argsort(remaining_best_motion_REST1)[:mintimepoint]\n",
        "\n",
        "  top_bootstrap_samples_REST1 = np.take(rsfMRI_timeseries[subREST1], find_indices_best_motion_REST1, axis = 1)\n",
        "  rsfMRI_bootstrap_timeseries_2d = top_bootstrap_samples_REST1[:, :]\n",
        "\n",
        "  for epoch in range(epochs):\n",
        "\n",
        "    #randomly select X amount of timepoints to be bagged from the top timepoitns for each participants\n",
        "    bootstrap_sample = np.random.choice(rsfMRI_bootstrap_timeseries_2d.shape[1], TP, replace = True)\n",
        "    bootstrap_timeseries = np.take(rsfMRI_bootstrap_timeseries_2d, bootstrap_sample, axis = 1)\n",
        "    bootstrap_corr_matrix = np.corrcoef(bootstrap_timeseries)\n",
        "    bootstrap_corr_matrix[np.isnan(bootstrap_corr_matrix)] = 0\n",
        "\n",
        "    all_bootstrap_corr_matrix[epoch, :, :] = bootstrap_corr_matrix\n",
        "\n",
        "    mean_all_boostrap_corr_matrix = np.mean(all_bootstrap_corr_matrix, axis = 0)\n",
        "    bagged_corr_matrix[subREST1, :, :] = mean_all_boostrap_corr_matrix\n"
      ]
    },
    {
      "cell_type": "code",
      "execution_count": null,
      "metadata": {
        "id": "N1KkGiwIeJLb"
      },
      "outputs": [],
      "source": [
        "for subREST1 in range(bagged_corr_matrix.shape[0]):\n",
        "\n",
        "  rsname = subREST1 + 1\n",
        "  bagged_corr_matrix_2d = bagged_corr_matrix[subREST1, :, :]\n",
        "  pd.DataFrame(bagged_corr_matrix_2d).to_csv(f\"/content/drive/MyDrive/FCABIDE/connectivity_matrices/connectivity_matrices_GENABIDE_minTP60TP20_HM_TDC_bagged/00{rsname}.csv\", header = None, index = None)\n"
      ]
    },
    {
      "cell_type": "markdown",
      "metadata": {
        "id": "9lRaZkSe0735"
      },
      "source": [
        "## Figures"
      ]
    },
    {
      "cell_type": "code",
      "execution_count": null,
      "metadata": {
        "colab": {
          "base_uri": "https://localhost:8080/",
          "height": 434
        },
        "id": "5JgSMwEA1EhA",
        "outputId": "110d3d37-dc81-4945-f9c1-e9cadfeff9b3"
      },
      "outputs": [
        {
          "data": {
            "text/plain": [
              "(47.0, 147.0)"
            ]
          },
          "execution_count": 1,
          "metadata": {},
          "output_type": "execute_result"
        },
        {
          "data": {
            "image/png": "[encoded data removed]",
            "text/plain": [
              "<Figure size 1800x600 with 3 Axes>"
            ]
          },
          "metadata": {},
          "output_type": "display_data"
        }
      ],
      "source": [
        "import pandas as pd\n",
        "import seaborn as sns\n",
        "import matplotlib.pyplot as plt\n",
        "\n",
        "behav_data = pd.read_excel('/content/drive/MyDrive/behav_HBN_data.xlsx')\n",
        "\n",
        "sns.set(style=\"white\")\n",
        "\n",
        "plt.figure(figsize=(18, 6))\n",
        "plt.subplot(1, 3, 1)\n",
        "sns.histplot(data = behav_data, x = \"AGE\", kde = False, fill = True, color = 'lightseagreen')\n",
        "plt.xlabel('AGE', fontweight ='bold', fontsize = 14)\n",
        "plt.ylabel('# Participants (N = 540)',  fontweight ='bold', fontsize = 14)\n",
        "plt.xlim(6, 21)\n",
        "plt.ylim(0, 100)\n",
        "\n",
        "plt.subplot(1, 3, 2)\n",
        "sns.histplot(data = behav_data, x = \"CBCL\", kde = False, color = 'lightseagreen')\n",
        "plt.xlabel('CBCL Scores', fontweight ='bold', fontsize = 14)\n",
        "plt.ylabel('# Participants (N = 516)',  fontweight ='bold', fontsize = 14)\n",
        "plt.xlim(33, 88)\n",
        "#plt.ylim(0, 100)\n",
        "\n",
        "plt.subplot(1, 3, 3)\n",
        "sns.histplot(data = behav_data, x = \"FSIQ\", kde = False, color = 'lightseagreen')\n",
        "plt.xlabel('FSIQ Scores', fontweight ='bold', fontsize = 14)\n",
        "plt.ylabel('# Participants (N = 479)',  fontweight ='bold', fontsize = 14)\n",
        "plt.xlim(47, 147)\n",
        "#plt.ylim(0, 100)\n",
        "\n",
        "\n",
        "#plt.savefig('/content/drive/MyDrive/hbn_phenotypic_distribution.png')\n"
      ]
    },
    {
      "cell_type": "code",
      "execution_count": null,
      "metadata": {
        "colab": {
          "base_uri": "https://localhost:8080/",
          "height": 528
        },
        "id": "yY4e_c5S_Rur",
        "outputId": "ad4b2d1c-354f-4ca1-aaaf-d806dc0d859f"
      },
      "outputs": [
        {
          "data": {
            "image/png": "[encoded data removed]",
            "text/plain": [
              "<Figure size 432x576 with 1 Axes>"
            ]
          },
          "metadata": {},
          "output_type": "display_data"
        }
      ],
      "source": [
        "import os\n",
        "import glob\n",
        "import numpy as np\n",
        "import pandas as pd\n",
        "import seaborn as sns\n",
        "import matplotlib.pyplot as plt\n",
        "\n",
        "FPN_CPM = pd.read_excel('/content/drive/MyDrive/manuscript_files/fingerprint_accuracy_cpm.xlsx')\n",
        "\n",
        "plt.figure(figsize=(6, 8))\n",
        "ax1 = sns.barplot(x = \"Factors\", y = \"IDRate\", hue = \"Factors\", data = FPN_CPM, palette = 'bone', edgecolor = 'black',linewidth = 2)\n",
        "ax1.legend_.remove()\n",
        "\n",
        "font_GSR = {'family': 'serif', 'color':  'dimgray', 'weight': 'bold', 'size': 16}\n",
        "font_noGSR = {'family': 'serif', 'color':  'slategray', 'weight': 'bold', 'size': 16}\n",
        "\n",
        "sns.set(style = 'whitegrid')\n",
        "import matplotlib as mpl\n",
        "mpl.rc('font', family='serif', serif ='Times New Roman')\n",
        "sns.set_style({'font.family': 'serif'})\n",
        "\n",
        "ax1.set_ylim(0, 1)\n",
        "ax1.set_ylabel('BID Accuracy', fontsize = 16, fontweight = 'bold')\n",
        "#ax1.set_xlabel('Factors', fontsize = 15, fontweight = 'bold')\n",
        "ax1.set_title(\"Predictive Networks\", fontsize = 18, fontweight='bold')\n",
        "\n",
        "plt.rcParams[\"font.weight\"] = \"bold\"\n",
        "plt.rcParams[\"axes.labelweight\"] = \"bold\"\n",
        "\n",
        "mpl.rcParams['xtick.labelsize'] = 16\n",
        "mpl.rcParams['ytick.labelsize'] = 16\n",
        "\n",
        "#ax1.text(0.7, 0.9, '42-76%', fontdict = font_GSR)\n",
        "#ax1.text(2.3, 0.9, '71-81%', fontdict = font_noGSR)\n"
      ]
    },
    {
      "cell_type": "code",
      "execution_count": null,
      "metadata": {
        "colab": {
          "base_uri": "https://localhost:8080/",
          "height": 418
        },
        "id": "CGFple7OdpVQ",
        "outputId": "624d4595-4aae-41dc-b077-5a4fd836b84d"
      },
      "outputs": [
        {
          "data": {
            "image/png": "[encoded data removed]",
            "text/plain": [
              "<Figure size 576x432 with 1 Axes>"
            ]
          },
          "metadata": {},
          "output_type": "display_data"
        }
      ],
      "source": [
        "Parcellation_CPM = pd.read_excel('/content/drive/MyDrive/manuscript_files/fingerprint_accuracy_cpm.xlsx', sheet_name = 'Parcellation')\n",
        "\n",
        "plt.figure(figsize=(8, 6))\n",
        "ax1 = sns.barplot(x = \"Factors\", y = \"IDRate\", hue = \"Factors\", data = Parcellation_CPM, palette = 'bone', edgecolor = 'black',linewidth = 2)\n",
        "ax1.legend_.remove()\n",
        "\n",
        "font_GSR = {'family': 'serif', 'color':  'dimgray', 'weight': 'bold', 'size': 16}\n",
        "font_noGSR = {'family': 'serif', 'color':  'slategray', 'weight': 'bold', 'size': 16}\n",
        "\n",
        "sns.set(style = 'whitegrid')\n",
        "import matplotlib as mpl\n",
        "mpl.rc('font', family='serif', serif ='Times New Roman')\n",
        "sns.set_style({'font.family': 'serif'})\n",
        "\n",
        "ax1.set_ylim(0, 1)\n",
        "ax1.set_ylabel('BID Accuracy', fontsize = 16, fontweight = 'bold')\n",
        "#ax1.set_xlabel('Factors', fontsize = 15, fontweight = 'bold')\n",
        "ax1.set_title(\"Parcellation Schemes\", fontsize = 18, fontweight='bold')\n",
        "\n",
        "plt.rcParams[\"font.weight\"] = \"bold\"\n",
        "plt.rcParams[\"axes.labelweight\"] = \"bold\"\n",
        "\n",
        "mpl.rcParams['xtick.labelsize'] = 12\n",
        "mpl.rcParams['ytick.labelsize'] = 12\n",
        "\n",
        "#ax1.text(0.7, 0.9, '42-76%', fontdict = font_GSR)\n",
        "#ax1.text(2.3, 0.9, '71-81%', fontdict = font_noGSR)"
      ]
    },
    {
      "cell_type": "code",
      "execution_count": null,
      "metadata": {
        "colab": {
          "base_uri": "https://localhost:8080/",
          "height": 528
        },
        "id": "v60GABdDoXCG",
        "outputId": "ee753d02-9b51-4f1d-8ada-caec855d829b"
      },
      "outputs": [
        {
          "data": {
            "image/png": "[encoded data removed]",
            "text/plain": [
              "<Figure size 432x576 with 1 Axes>"
            ]
          },
          "metadata": {},
          "output_type": "display_data"
        }
      ],
      "source": [
        "Scrubbing_CPM = pd.read_excel('/content/drive/MyDrive/manuscript_files/fingerprint_accuracy_cpm.xlsx', sheet_name = 'Scrubbing')\n",
        "\n",
        "plt.figure(figsize=(6, 8))\n",
        "ax1 = sns.barplot(x = \"Factors\", y = \"IDRate\", hue = \"Factors\", data = Scrubbing_CPM, palette = 'bone', edgecolor = 'black',linewidth = 2)\n",
        "ax1.legend_.remove()\n",
        "\n",
        "font_GSR = {'family': 'serif', 'color':  'dimgray', 'weight': 'bold', 'size': 16}\n",
        "font_noGSR = {'family': 'serif', 'color':  'slategray', 'weight': 'bold', 'size': 16}\n",
        "\n",
        "sns.set(style = 'whitegrid')\n",
        "import matplotlib as mpl\n",
        "mpl.rc('font', family='serif', serif ='Times New Roman')\n",
        "sns.set_style({'font.family': 'serif'})\n",
        "\n",
        "ax1.set_ylim(0, 1)\n",
        "ax1.set_ylabel('BID Accuracy', fontsize = 16, fontweight = 'bold')\n",
        "#ax1.set_xlabel('Factors', fontsize = 15, fontweight = 'bold')\n",
        "ax1.set_title(\"Scrubbing\", fontsize = 18, fontweight='bold')\n",
        "\n",
        "plt.rcParams[\"font.weight\"] = \"bold\"\n",
        "plt.rcParams[\"axes.labelweight\"] = \"bold\"\n",
        "\n",
        "mpl.rcParams['xtick.labelsize'] = 16\n",
        "mpl.rcParams['ytick.labelsize'] = 16"
      ]
    },
    {
      "cell_type": "code",
      "execution_count": null,
      "metadata": {
        "colab": {
          "base_uri": "https://localhost:8080/",
          "height": 526
        },
        "id": "i8TOcx_kvDfe",
        "outputId": "656a2373-635d-4084-c6b4-954e484e61be"
      },
      "outputs": [
        {
          "data": {
            "image/png": "[encoded data removed]",
            "text/plain": [
              "<Figure size 432x576 with 1 Axes>"
            ]
          },
          "metadata": {},
          "output_type": "display_data"
        }
      ],
      "source": [
        "Bagging_1_CPM = pd.read_excel('/content/drive/MyDrive/manuscript_files/fingerprint_accuracy_cpm.xlsx', sheet_name = 'Bagging_1')\n",
        "\n",
        "plt.figure(figsize=(6, 8))\n",
        "ax1 = sns.barplot(x = \"Factors\", y = \"IDRate\", hue = \"Factors\", data = Bagging_1_CPM, palette = 'bone', edgecolor = 'black',linewidth = 2)\n",
        "ax1.legend_.remove()\n",
        "\n",
        "font_GSR = {'family': 'serif', 'color':  'dimgray', 'weight': 'bold', 'size': 16}\n",
        "font_noGSR = {'family': 'serif', 'color':  'slategray', 'weight': 'bold', 'size': 16}\n",
        "\n",
        "sns.set(style = 'whitegrid')\n",
        "import matplotlib as mpl\n",
        "mpl.rc('font', family='serif', serif ='Times New Roman')\n",
        "sns.set_style({'font.family': 'serif'})\n",
        "\n",
        "ax1.set_ylim(0, 1)\n",
        "ax1.set_ylabel('BID Accuracy', fontsize = 16, fontweight = 'bold')\n",
        "#ax1.set_xlabel('Factors', fontsize = 15, fontweight = 'bold')\n",
        "ax1.set_title(\"Bagging (without high-motion participants)\", fontsize = 18, fontweight='bold')\n",
        "\n",
        "plt.rcParams[\"font.weight\"] = \"bold\"\n",
        "plt.rcParams[\"axes.labelweight\"] = \"bold\"\n",
        "\n",
        "mpl.rcParams['xtick.labelsize'] = 12\n",
        "mpl.rcParams['ytick.labelsize'] = 12\n"
      ]
    },
    {
      "cell_type": "code",
      "execution_count": null,
      "metadata": {
        "colab": {
          "base_uri": "https://localhost:8080/",
          "height": 526
        },
        "id": "v2xbctTKzoBQ",
        "outputId": "087d8964-6736-485f-ffd0-375066d387e7"
      },
      "outputs": [
        {
          "data": {
            "image/png": "[encoded data removed]",
            "text/plain": [
              "<Figure size 432x576 with 1 Axes>"
            ]
          },
          "metadata": {},
          "output_type": "display_data"
        }
      ],
      "source": [
        "Bagging_2_CPM = pd.read_excel('/content/drive/MyDrive/manuscript_files/fingerprint_accuracy_cpm.xlsx', sheet_name = 'Bagging_2')\n",
        "\n",
        "plt.figure(figsize=(6, 8))\n",
        "ax1 = sns.barplot(x = \"Factors\", y = \"IDRate\", hue = \"Factors\", data = Bagging_2_CPM, palette = 'bone', edgecolor = 'black',linewidth = 2)\n",
        "ax1.legend_.remove()\n",
        "\n",
        "font_GSR = {'family': 'serif', 'color':  'dimgray', 'weight': 'bold', 'size': 16}\n",
        "font_noGSR = {'family': 'serif', 'color':  'slategray', 'weight': 'bold', 'size': 16}\n",
        "\n",
        "sns.set(style = 'whitegrid')\n",
        "import matplotlib as mpl\n",
        "mpl.rc('font', family='serif', serif ='Times New Roman')\n",
        "sns.set_style({'font.family': 'serif'})\n",
        "\n",
        "ax1.set_ylim(0, 1)\n",
        "ax1.set_ylabel('BID Accuracy', fontsize = 16, fontweight = 'bold')\n",
        "#ax1.set_xlabel('Factors', fontsize = 15, fontweight = 'bold')\n",
        "ax1.set_title(\"Bagging (with high-motion participants)\", fontsize = 18, fontweight='bold')\n",
        "\n",
        "plt.rcParams[\"font.weight\"] = \"bold\"\n",
        "plt.rcParams[\"axes.labelweight\"] = \"bold\"\n",
        "\n",
        "mpl.rcParams['xtick.labelsize'] = 12\n",
        "mpl.rcParams['ytick.labelsize'] = 12"
      ]
    },
    {
      "cell_type": "code",
      "execution_count": null,
      "metadata": {
        "colab": {
          "base_uri": "https://localhost:8080/",
          "height": 180
        },
        "id": "5gfDqbylf1MU",
        "outputId": "05c38101-2180-49d9-ecc4-24056223d644"
      },
      "outputs": [
        {
          "data": {
            "text/html": [
              "\n",
              "  <div id=\"df-8951e184-35d9-4245-b984-f0ff32178f7e\">\n",
              "    <div class=\"colab-df-container\">\n",
              "      <div>\n",
              "<style scoped>\n",
              "    .dataframe tbody tr th:only-of-type {\n",
              "        vertical-align: middle;\n",
              "    }\n",
              "\n",
              "    .dataframe tbody tr th {\n",
              "        vertical-align: top;\n",
              "    }\n",
              "\n",
              "    .dataframe thead th {\n",
              "        text-align: right;\n",
              "    }\n",
              "</style>\n",
              "<table border=\"1\" class=\"dataframe\">\n",
              "  <thead>\n",
              "    <tr style=\"text-align: right;\">\n",
              "      <th></th>\n",
              "      <th>Factors</th>\n",
              "      <th>IDRate</th>\n",
              "    </tr>\n",
              "  </thead>\n",
              "  <tbody>\n",
              "    <tr>\n",
              "      <th>0</th>\n",
              "      <td>Baseline</td>\n",
              "      <td>0.78</td>\n",
              "    </tr>\n",
              "    <tr>\n",
              "      <th>1</th>\n",
              "      <td>Bagging 200</td>\n",
              "      <td>0.68</td>\n",
              "    </tr>\n",
              "    <tr>\n",
              "      <th>2</th>\n",
              "      <td>Bagging (minTP = 60 &amp; TP = 20)</td>\n",
              "      <td>0.47</td>\n",
              "    </tr>\n",
              "  </tbody>\n",
              "</table>\n",
              "</div>\n",
              "      <button class=\"colab-df-convert\" onclick=\"convertToInteractive('df-8951e184-35d9-4245-b984-f0ff32178f7e')\"\n",
              "              title=\"Convert this dataframe to an interactive table.\"\n",
              "              style=\"display:none;\">\n",
              "        \n",
              "  <svg xmlns=\"http://www.w3.org/2000/svg\" height=\"24px\"viewBox=\"0 0 24 24\"\n",
              "       width=\"24px\">\n",
              "    <path d=\"M0 0h24v24H0V0z\" fill=\"none\"/>\n",
              "    <path d=\"M18.56 5.44l.94 2.06.94-2.06 2.06-.94-2.06-.94-.94-2.06-.94 2.06-2.06.94zm-11 1L8.5 8.5l.94-2.06 2.06-.94-2.06-.94L8.5 2.5l-.94 2.06-2.06.94zm10 10l.94 2.06.94-2.06 2.06-.94-2.06-.94-.94-2.06-.94 2.06-2.06.94z\"/><path d=\"M17.41 7.96l-1.37-1.37c-.4-.4-.92-.59-1.43-.59-.52 0-1.04.2-1.43.59L10.3 9.45l-7.72 7.72c-.78.78-.78 2.05 0 2.83L4 21.41c.39.39.9.59 1.41.59.51 0 1.02-.2 1.41-.59l7.78-7.78 2.81-2.81c.8-.78.8-2.07 0-2.86zM5.41 20L4 18.59l7.72-7.72 1.47 1.35L5.41 20z\"/>\n",
              "  </svg>\n",
              "      </button>\n",
              "      \n",
              "  <style>\n",
              "    .colab-df-container {\n",
              "      display:flex;\n",
              "      flex-wrap:wrap;\n",
              "      gap: 12px;\n",
              "    }\n",
              "\n",
              "    .colab-df-convert {\n",
              "      background-color: #E8F0FE;\n",
              "      border: none;\n",
              "      border-radius: 50%;\n",
              "      cursor: pointer;\n",
              "      display: none;\n",
              "      fill: #1967D2;\n",
              "      height: 32px;\n",
              "      padding: 0 0 0 0;\n",
              "      width: 32px;\n",
              "    }\n",
              "\n",
              "    .colab-df-convert:hover {\n",
              "      background-color: #E2EBFA;\n",
              "      box-shadow: 0px 1px 2px rgba(60, 64, 67, 0.3), 0px 1px 3px 1px rgba(60, 64, 67, 0.15);\n",
              "      fill: #174EA6;\n",
              "    }\n",
              "\n",
              "    [theme=dark] .colab-df-convert {\n",
              "      background-color: #3B4455;\n",
              "      fill: #D2E3FC;\n",
              "    }\n",
              "\n",
              "    [theme=dark] .colab-df-convert:hover {\n",
              "      background-color: #434B5C;\n",
              "      box-shadow: 0px 1px 3px 1px rgba(0, 0, 0, 0.15);\n",
              "      filter: drop-shadow(0px 1px 2px rgba(0, 0, 0, 0.3));\n",
              "      fill: #FFFFFF;\n",
              "    }\n",
              "  </style>\n",
              "\n",
              "      <script>\n",
              "        const buttonEl =\n",
              "          document.querySelector('#df-8951e184-35d9-4245-b984-f0ff32178f7e button.colab-df-convert');\n",
              "        buttonEl.style.display =\n",
              "          google.colab.kernel.accessAllowed ? 'block' : 'none';\n",
              "\n",
              "        async function convertToInteractive(key) {\n",
              "          const element = document.querySelector('#df-8951e184-35d9-4245-b984-f0ff32178f7e');\n",
              "          const dataTable =\n",
              "            await google.colab.kernel.invokeFunction('convertToInteractive',\n",
              "                                                     [key], {});\n",
              "          if (!dataTable) return;\n",
              "\n",
              "          const docLinkHtml = 'Like what you see? Visit the ' +\n",
              "            '<a target=\"_blank\" href=https://colab.research.google.com/notebooks/data_table.ipynb>data table notebook</a>'\n",
              "            + ' to learn more about interactive tables.';\n",
              "          element.innerHTML = '';\n",
              "          dataTable['output_type'] = 'display_data';\n",
              "          await google.colab.output.renderOutput(dataTable, element);\n",
              "          const docLink = document.createElement('div');\n",
              "          docLink.innerHTML = docLinkHtml;\n",
              "          element.appendChild(docLink);\n",
              "        }\n",
              "      </script>\n",
              "    </div>\n",
              "  </div>\n",
              "  "
            ],
            "text/plain": [
              "                          Factors  IDRate\n",
              "0                        Baseline    0.78\n",
              "1                     Bagging 200    0.68\n",
              "2  Bagging (minTP = 60 & TP = 20)    0.47"
            ]
          },
          "execution_count": 191,
          "metadata": {},
          "output_type": "execute_result"
        }
      ],
      "source": [
        "Parcellation_CPM = pd.read_excel('/content/drive/MyDrive/manuscript_files/fingerprint_accuracy_cpm.xlsx', sheet_name = 'Bagging_2')\n",
        "Parcellation_CPM\n"
      ]
    },
    {
      "cell_type": "code",
      "execution_count": null,
      "metadata": {
        "colab": {
          "base_uri": "https://localhost:8080/",
          "height": 324
        },
        "id": "PoEHD80mvEFa",
        "outputId": "cb8a3be9-8c60-4076-c1c8-0a844c46b5cd"
      },
      "outputs": [
        {
          "output_type": "execute_result",
          "data": {
            "text/plain": [
              "   target  pos_pred_base_age  neg_pred_base_age  comb_pred_base_age  \\\n",
              "0    9.17          11.834426          13.624573           12.603859   \n",
              "1   12.84          11.183556          12.941950           11.896688   \n",
              "2   14.17          13.843123          14.488550           14.242239   \n",
              "3   12.92          13.081120          11.874731           12.660047   \n",
              "4   12.73          10.661701          10.943787           10.719934   \n",
              "\n",
              "   pos_pred_Glasser_age  neg_pred_Glasser_age  comb_pred_Glasser_age  \\\n",
              "0             10.852479             12.565849              11.631025   \n",
              "1             10.153918             12.078148              10.980052   \n",
              "2             13.867158             14.379136              14.270680   \n",
              "3             14.157378             13.581965              14.056918   \n",
              "4             10.847419             10.591969              10.669123   \n",
              "\n",
              "   pos_pred_GlasserE_age  neg_pred_GlasserE_age  comb_pred_GlasserE_age  \\\n",
              "0              11.481155              13.077112               12.245297   \n",
              "1              11.823269              13.752356               12.758194   \n",
              "2              14.588848              14.569496               14.749667   \n",
              "3              14.145909              12.972316               13.725327   \n",
              "4              10.777173              10.919171               10.795920   \n",
              "\n",
              "   pos_pred_MIST_age  neg_pred_MIST_age  comb_pred_MIST_age  \\\n",
              "0          12.136679          12.973145           12.558763   \n",
              "1          11.404693          12.562380           11.946476   \n",
              "2          13.095546          14.160744           13.664106   \n",
              "3          13.512566          12.903477           13.302616   \n",
              "4          11.245447          10.314086           10.786480   \n",
              "\n",
              "   pos_pred_Schaefer_age  neg_pred_Schaefer_age  comb_pred_Schaefer_age  \\\n",
              "0              11.409919              11.447057               11.413708   \n",
              "1              10.023699              12.308716               11.008684   \n",
              "2              13.437486              13.801643               13.730526   \n",
              "3              13.443811              13.235874               13.466634   \n",
              "4              11.879773              10.911668               11.434824   \n",
              "\n",
              "   pos_pred_Scrub_age  neg_pred_Scrub_age  comb_pred_Scrub_age  \n",
              "0           11.800656           13.537017            12.528180  \n",
              "1           10.883509           12.901417            11.664145  \n",
              "2           13.831218           14.240962            14.145497  \n",
              "3           12.664325           11.742591            12.355767  \n",
              "4            9.723106           10.359663             9.856270  "
            ],
            "text/html": [
              "\n",
              "\n",
              "  <div id=\"df-dd67dddc-b43f-4337-901a-81c15bf58d31\">\n",
              "    <div class=\"colab-df-container\">\n",
              "      <div>\n",
              "<style scoped>\n",
              "    .dataframe tbody tr th:only-of-type {\n",
              "        vertical-align: middle;\n",
              "    }\n",
              "\n",
              "    .dataframe tbody tr th {\n",
              "        vertical-align: top;\n",
              "    }\n",
              "\n",
              "    .dataframe thead th {\n",
              "        text-align: right;\n",
              "    }\n",
              "</style>\n",
              "<table border=\"1\" class=\"dataframe\">\n",
              "  <thead>\n",
              "    <tr style=\"text-align: right;\">\n",
              "      <th></th>\n",
              "      <th>target</th>\n",
              "      <th>pos_pred_base_age</th>\n",
              "      <th>neg_pred_base_age</th>\n",
              "      <th>comb_pred_base_age</th>\n",
              "      <th>pos_pred_Glasser_age</th>\n",
              "      <th>neg_pred_Glasser_age</th>\n",
              "      <th>comb_pred_Glasser_age</th>\n",
              "      <th>pos_pred_GlasserE_age</th>\n",
              "      <th>neg_pred_GlasserE_age</th>\n",
              "      <th>comb_pred_GlasserE_age</th>\n",
              "      <th>pos_pred_MIST_age</th>\n",
              "      <th>neg_pred_MIST_age</th>\n",
              "      <th>comb_pred_MIST_age</th>\n",
              "      <th>pos_pred_Schaefer_age</th>\n",
              "      <th>neg_pred_Schaefer_age</th>\n",
              "      <th>comb_pred_Schaefer_age</th>\n",
              "      <th>pos_pred_Scrub_age</th>\n",
              "      <th>neg_pred_Scrub_age</th>\n",
              "      <th>comb_pred_Scrub_age</th>\n",
              "    </tr>\n",
              "  </thead>\n",
              "  <tbody>\n",
              "    <tr>\n",
              "      <th>0</th>\n",
              "      <td>9.17</td>\n",
              "      <td>11.834426</td>\n",
              "      <td>13.624573</td>\n",
              "      <td>12.603859</td>\n",
              "      <td>10.852479</td>\n",
              "      <td>12.565849</td>\n",
              "      <td>11.631025</td>\n",
              "      <td>11.481155</td>\n",
              "      <td>13.077112</td>\n",
              "      <td>12.245297</td>\n",
              "      <td>12.136679</td>\n",
              "      <td>12.973145</td>\n",
              "      <td>12.558763</td>\n",
              "      <td>11.409919</td>\n",
              "      <td>11.447057</td>\n",
              "      <td>11.413708</td>\n",
              "      <td>11.800656</td>\n",
              "      <td>13.537017</td>\n",
              "      <td>12.528180</td>\n",
              "    </tr>\n",
              "    <tr>\n",
              "      <th>1</th>\n",
              "      <td>12.84</td>\n",
              "      <td>11.183556</td>\n",
              "      <td>12.941950</td>\n",
              "      <td>11.896688</td>\n",
              "      <td>10.153918</td>\n",
              "      <td>12.078148</td>\n",
              "      <td>10.980052</td>\n",
              "      <td>11.823269</td>\n",
              "      <td>13.752356</td>\n",
              "      <td>12.758194</td>\n",
              "      <td>11.404693</td>\n",
              "      <td>12.562380</td>\n",
              "      <td>11.946476</td>\n",
              "      <td>10.023699</td>\n",
              "      <td>12.308716</td>\n",
              "      <td>11.008684</td>\n",
              "      <td>10.883509</td>\n",
              "      <td>12.901417</td>\n",
              "      <td>11.664145</td>\n",
              "    </tr>\n",
              "    <tr>\n",
              "      <th>2</th>\n",
              "      <td>14.17</td>\n",
              "      <td>13.843123</td>\n",
              "      <td>14.488550</td>\n",
              "      <td>14.242239</td>\n",
              "      <td>13.867158</td>\n",
              "      <td>14.379136</td>\n",
              "      <td>14.270680</td>\n",
              "      <td>14.588848</td>\n",
              "      <td>14.569496</td>\n",
              "      <td>14.749667</td>\n",
              "      <td>13.095546</td>\n",
              "      <td>14.160744</td>\n",
              "      <td>13.664106</td>\n",
              "      <td>13.437486</td>\n",
              "      <td>13.801643</td>\n",
              "      <td>13.730526</td>\n",
              "      <td>13.831218</td>\n",
              "      <td>14.240962</td>\n",
              "      <td>14.145497</td>\n",
              "    </tr>\n",
              "    <tr>\n",
              "      <th>3</th>\n",
              "      <td>12.92</td>\n",
              "      <td>13.081120</td>\n",
              "      <td>11.874731</td>\n",
              "      <td>12.660047</td>\n",
              "      <td>14.157378</td>\n",
              "      <td>13.581965</td>\n",
              "      <td>14.056918</td>\n",
              "      <td>14.145909</td>\n",
              "      <td>12.972316</td>\n",
              "      <td>13.725327</td>\n",
              "      <td>13.512566</td>\n",
              "      <td>12.903477</td>\n",
              "      <td>13.302616</td>\n",
              "      <td>13.443811</td>\n",
              "      <td>13.235874</td>\n",
              "      <td>13.466634</td>\n",
              "      <td>12.664325</td>\n",
              "      <td>11.742591</td>\n",
              "      <td>12.355767</td>\n",
              "    </tr>\n",
              "    <tr>\n",
              "      <th>4</th>\n",
              "      <td>12.73</td>\n",
              "      <td>10.661701</td>\n",
              "      <td>10.943787</td>\n",
              "      <td>10.719934</td>\n",
              "      <td>10.847419</td>\n",
              "      <td>10.591969</td>\n",
              "      <td>10.669123</td>\n",
              "      <td>10.777173</td>\n",
              "      <td>10.919171</td>\n",
              "      <td>10.795920</td>\n",
              "      <td>11.245447</td>\n",
              "      <td>10.314086</td>\n",
              "      <td>10.786480</td>\n",
              "      <td>11.879773</td>\n",
              "      <td>10.911668</td>\n",
              "      <td>11.434824</td>\n",
              "      <td>9.723106</td>\n",
              "      <td>10.359663</td>\n",
              "      <td>9.856270</td>\n",
              "    </tr>\n",
              "  </tbody>\n",
              "</table>\n",
              "</div>\n",
              "      <button class=\"colab-df-convert\" onclick=\"convertToInteractive('df-dd67dddc-b43f-4337-901a-81c15bf58d31')\"\n",
              "              title=\"Convert this dataframe to an interactive table.\"\n",
              "              style=\"display:none;\">\n",
              "\n",
              "  <svg xmlns=\"http://www.w3.org/2000/svg\" height=\"24px\"viewBox=\"0 0 24 24\"\n",
              "       width=\"24px\">\n",
              "    <path d=\"M0 0h24v24H0V0z\" fill=\"none\"/>\n",
              "    <path d=\"M18.56 5.44l.94 2.06.94-2.06 2.06-.94-2.06-.94-.94-2.06-.94 2.06-2.06.94zm-11 1L8.5 8.5l.94-2.06 2.06-.94-2.06-.94L8.5 2.5l-.94 2.06-2.06.94zm10 10l.94 2.06.94-2.06 2.06-.94-2.06-.94-.94-2.06-.94 2.06-2.06.94z\"/><path d=\"M17.41 7.96l-1.37-1.37c-.4-.4-.92-.59-1.43-.59-.52 0-1.04.2-1.43.59L10.3 9.45l-7.72 7.72c-.78.78-.78 2.05 0 2.83L4 21.41c.39.39.9.59 1.41.59.51 0 1.02-.2 1.41-.59l7.78-7.78 2.81-2.81c.8-.78.8-2.07 0-2.86zM5.41 20L4 18.59l7.72-7.72 1.47 1.35L5.41 20z\"/>\n",
              "  </svg>\n",
              "      </button>\n",
              "\n",
              "\n",
              "\n",
              "    <div id=\"df-a5b9b3f7-cc61-4c6d-a6e9-f6d0f2049497\">\n",
              "      <button class=\"colab-df-quickchart\" onclick=\"quickchart('df-a5b9b3f7-cc61-4c6d-a6e9-f6d0f2049497')\"\n",
              "              title=\"Suggest charts.\"\n",
              "              style=\"display:none;\">\n",
              "\n",
              "<svg xmlns=\"http://www.w3.org/2000/svg\" height=\"24px\"viewBox=\"0 0 24 24\"\n",
              "     width=\"24px\">\n",
              "    <g>\n",
              "        <path d=\"M19 3H5c-1.1 0-2 .9-2 2v14c0 1.1.9 2 2 2h14c1.1 0 2-.9 2-2V5c0-1.1-.9-2-2-2zM9 17H7v-7h2v7zm4 0h-2V7h2v10zm4 0h-2v-4h2v4z\"/>\n",
              "    </g>\n",
              "</svg>\n",
              "      </button>\n",
              "    </div>\n",
              "\n",
              "<style>\n",
              "  .colab-df-quickchart {\n",
              "    background-color: #E8F0FE;\n",
              "    border: none;\n",
              "    border-radius: 50%;\n",
              "    cursor: pointer;\n",
              "    display: none;\n",
              "    fill: #1967D2;\n",
              "    height: 32px;\n",
              "    padding: 0 0 0 0;\n",
              "    width: 32px;\n",
              "  }\n",
              "\n",
              "  .colab-df-quickchart:hover {\n",
              "    background-color: #E2EBFA;\n",
              "    box-shadow: 0px 1px 2px rgba(60, 64, 67, 0.3), 0px 1px 3px 1px rgba(60, 64, 67, 0.15);\n",
              "    fill: #174EA6;\n",
              "  }\n",
              "\n",
              "  [theme=dark] .colab-df-quickchart {\n",
              "    background-color: #3B4455;\n",
              "    fill: #D2E3FC;\n",
              "  }\n",
              "\n",
              "  [theme=dark] .colab-df-quickchart:hover {\n",
              "    background-color: #434B5C;\n",
              "    box-shadow: 0px 1px 3px 1px rgba(0, 0, 0, 0.15);\n",
              "    filter: drop-shadow(0px 1px 2px rgba(0, 0, 0, 0.3));\n",
              "    fill: #FFFFFF;\n",
              "  }\n",
              "</style>\n",
              "\n",
              "    <script>\n",
              "      async function quickchart(key) {\n",
              "        const containerElement = document.querySelector('#' + key);\n",
              "        const charts = await google.colab.kernel.invokeFunction(\n",
              "            'suggestCharts', [key], {});\n",
              "      }\n",
              "    </script>\n",
              "\n",
              "      <script>\n",
              "\n",
              "function displayQuickchartButton(domScope) {\n",
              "  let quickchartButtonEl =\n",
              "    domScope.querySelector('#df-a5b9b3f7-cc61-4c6d-a6e9-f6d0f2049497 button.colab-df-quickchart');\n",
              "  quickchartButtonEl.style.display =\n",
              "    google.colab.kernel.accessAllowed ? 'block' : 'none';\n",
              "}\n",
              "\n",
              "        displayQuickchartButton(document);\n",
              "      </script>\n",
              "      <style>\n",
              "    .colab-df-container {\n",
              "      display:flex;\n",
              "      flex-wrap:wrap;\n",
              "      gap: 12px;\n",
              "    }\n",
              "\n",
              "    .colab-df-convert {\n",
              "      background-color: #E8F0FE;\n",
              "      border: none;\n",
              "      border-radius: 50%;\n",
              "      cursor: pointer;\n",
              "      display: none;\n",
              "      fill: #1967D2;\n",
              "      height: 32px;\n",
              "      padding: 0 0 0 0;\n",
              "      width: 32px;\n",
              "    }\n",
              "\n",
              "    .colab-df-convert:hover {\n",
              "      background-color: #E2EBFA;\n",
              "      box-shadow: 0px 1px 2px rgba(60, 64, 67, 0.3), 0px 1px 3px 1px rgba(60, 64, 67, 0.15);\n",
              "      fill: #174EA6;\n",
              "    }\n",
              "\n",
              "    [theme=dark] .colab-df-convert {\n",
              "      background-color: #3B4455;\n",
              "      fill: #D2E3FC;\n",
              "    }\n",
              "\n",
              "    [theme=dark] .colab-df-convert:hover {\n",
              "      background-color: #434B5C;\n",
              "      box-shadow: 0px 1px 3px 1px rgba(0, 0, 0, 0.15);\n",
              "      filter: drop-shadow(0px 1px 2px rgba(0, 0, 0, 0.3));\n",
              "      fill: #FFFFFF;\n",
              "    }\n",
              "  </style>\n",
              "\n",
              "      <script>\n",
              "        const buttonEl =\n",
              "          document.querySelector('#df-dd67dddc-b43f-4337-901a-81c15bf58d31 button.colab-df-convert');\n",
              "        buttonEl.style.display =\n",
              "          google.colab.kernel.accessAllowed ? 'block' : 'none';\n",
              "\n",
              "        async function convertToInteractive(key) {\n",
              "          const element = document.querySelector('#df-dd67dddc-b43f-4337-901a-81c15bf58d31');\n",
              "          const dataTable =\n",
              "            await google.colab.kernel.invokeFunction('convertToInteractive',\n",
              "                                                     [key], {});\n",
              "          if (!dataTable) return;\n",
              "\n",
              "          const docLinkHtml = 'Like what you see? Visit the ' +\n",
              "            '<a target=\"_blank\" href=https://colab.research.google.com/notebooks/data_table.ipynb>data table notebook</a>'\n",
              "            + ' to learn more about interactive tables.';\n",
              "          element.innerHTML = '';\n",
              "          dataTable['output_type'] = 'display_data';\n",
              "          await google.colab.output.renderOutput(dataTable, element);\n",
              "          const docLink = document.createElement('div');\n",
              "          docLink.innerHTML = docLinkHtml;\n",
              "          element.appendChild(docLink);\n",
              "        }\n",
              "      </script>\n",
              "    </div>\n",
              "  </div>\n"
            ]
          },
          "metadata": {},
          "execution_count": 1
        }
      ],
      "source": [
        "import pandas as pd\n",
        "data = pd.read_excel(\"/content/drive/MyDrive/ABIDE_Steiger.xlsx\", sheet_name = 'HBN_Steiger')\n",
        "data.head()"
      ]
    },
    {
      "cell_type": "code",
      "execution_count": null,
      "metadata": {
        "colab": {
          "base_uri": "https://localhost:8080/"
        },
        "id": "Rj0tGa_Avf-0",
        "outputId": "cfd9aea7-849f-4840-80c2-16c410502abf"
      },
      "outputs": [
        {
          "output_type": "execute_result",
          "data": {
            "text/plain": [
              "PearsonRResult(statistic=0.9561352657060626, pvalue=3.7469707684014796e-164)"
            ]
          },
          "metadata": {},
          "execution_count": 3
        }
      ],
      "source": [
        "import scipy.stats as sp\n",
        "sp.pearsonr(data['neg_pred_base_age'], data['neg_pred_MIST_age'])"
      ]
    },
    {
      "cell_type": "code",
      "execution_count": null,
      "metadata": {
        "colab": {
          "base_uri": "https://localhost:8080/"
        },
        "id": "QSLNPTGlm9M9",
        "outputId": "2cc976f1-d079-4987-f2d7-d501e25d842a"
      },
      "outputs": [
        {
          "data": {
            "text/plain": [
              "(316, 268)"
            ]
          },
          "execution_count": 4,
          "metadata": {},
          "output_type": "execute_result"
        }
      ],
      "source": [
        "import numpy as np\n",
        "files = \"/content/drive/MyDrive/CMU_b_0050669_fd_motion_params.txt\"\n",
        "test = np.loadtxt(files)\n",
        "import nibabel as nb\n",
        "test2 = np.loadtxt('/content/drive/MyDrive/CMU_b_0050669_ABIDE_268Parcels_rest_2mm.txt')\n",
        "test2.shape\n"
      ]
    },
    {
      "cell_type": "code",
      "execution_count": null,
      "metadata": {
        "colab": {
          "base_uri": "https://localhost:8080/"
        },
        "id": "STWcRLAahhT5",
        "outputId": "59e32e45-ba75-4877-ac5d-a9f7acb746d3"
      },
      "outputs": [
        {
          "data": {
            "text/plain": [
              "(61, 73, 61, 316)"
            ]
          },
          "execution_count": 1,
          "metadata": {},
          "output_type": "execute_result"
        }
      ],
      "source": [
        "import nibabel as nb\n",
        "test2 = nb.load('/content/drive/MyDrive/CMU_b_0050669_func_preproc.nii.gz')\n",
        "test2.shape\n"
      ]
    },
    {
      "cell_type": "code",
      "execution_count": null,
      "metadata": {
        "id": "IuRDUr43kap6"
      },
      "outputs": [],
      "source": [
        "import numpy as np\n",
        "files = \"/content/drive/MyDrive/temp\"\n",
        "test = np.loadtxt(files)\n",
        "test.shape"
      ]
    },
    {
      "cell_type": "code",
      "execution_count": null,
      "metadata": {
        "id": "rTxyDXOHAAXi"
      },
      "outputs": [],
      "source": [
        "import numpy as np\n",
        "import glob as glob\n",
        "\n",
        "motion_datapath = '/content/drive/MyDrive/ABIDE_motion_params_fdrms_HM/*_fd_motion_params.txt'\n",
        "filename_list = np.sort(glob.glob(motion_datapath))\n",
        "\n",
        "for motionfile in range(len(filename_list)):\n",
        "\n",
        "  temp = np.loadtxt(filename_list[motionfile])\n",
        "  mean_fdrms = np.mean(temp)\n",
        "  print(mean_fdrms)"
      ]
    },
    {
      "cell_type": "markdown",
      "metadata": {
        "id": "JZQU5SFdgpkH"
      },
      "source": [
        "##### Additional"
      ]
    },
    {
      "cell_type": "code",
      "execution_count": null,
      "metadata": {
        "colab": {
          "base_uri": "https://localhost:8080/",
          "height": 260
        },
        "id": "oBRfjWvMgoQH",
        "outputId": "0e069136-84f0-42f1-8b29-5f05df8b1eaa"
      },
      "outputs": [
        {
          "data": {
            "text/html": [
              "\n",
              "\n",
              "  <div id=\"df-a53173f5-7840-44de-8dff-9fb5e154a0c9\">\n",
              "    <div class=\"colab-df-container\">\n",
              "      <div>\n",
              "<style scoped>\n",
              "    .dataframe tbody tr th:only-of-type {\n",
              "        vertical-align: middle;\n",
              "    }\n",
              "\n",
              "    .dataframe tbody tr th {\n",
              "        vertical-align: top;\n",
              "    }\n",
              "\n",
              "    .dataframe thead th {\n",
              "        text-align: right;\n",
              "    }\n",
              "</style>\n",
              "<table border=\"1\" class=\"dataframe\">\n",
              "  <thead>\n",
              "    <tr style=\"text-align: right;\">\n",
              "      <th></th>\n",
              "      <th>Dataset</th>\n",
              "      <th>BID</th>\n",
              "      <th>ICC</th>\n",
              "    </tr>\n",
              "  </thead>\n",
              "  <tbody>\n",
              "    <tr>\n",
              "      <th>0</th>\n",
              "      <td>NYUadu</td>\n",
              "      <td>0.65</td>\n",
              "      <td>0.21</td>\n",
              "    </tr>\n",
              "    <tr>\n",
              "      <th>1</th>\n",
              "      <td>NYUado</td>\n",
              "      <td>0.77</td>\n",
              "      <td>0.23</td>\n",
              "    </tr>\n",
              "    <tr>\n",
              "      <th>2</th>\n",
              "      <td>UPSM</td>\n",
              "      <td>0.42</td>\n",
              "      <td>0.15</td>\n",
              "    </tr>\n",
              "    <tr>\n",
              "      <th>3</th>\n",
              "      <td>BNU</td>\n",
              "      <td>0.49</td>\n",
              "      <td>0.21</td>\n",
              "    </tr>\n",
              "    <tr>\n",
              "      <th>4</th>\n",
              "      <td>SWU</td>\n",
              "      <td>0.75</td>\n",
              "      <td>0.29</td>\n",
              "    </tr>\n",
              "  </tbody>\n",
              "</table>\n",
              "</div>\n",
              "      <button class=\"colab-df-convert\" onclick=\"convertToInteractive('df-a53173f5-7840-44de-8dff-9fb5e154a0c9')\"\n",
              "              title=\"Convert this dataframe to an interactive table.\"\n",
              "              style=\"display:none;\">\n",
              "\n",
              "  <svg xmlns=\"http://www.w3.org/2000/svg\" height=\"24px\"viewBox=\"0 0 24 24\"\n",
              "       width=\"24px\">\n",
              "    <path d=\"M0 0h24v24H0V0z\" fill=\"none\"/>\n",
              "    <path d=\"M18.56 5.44l.94 2.06.94-2.06 2.06-.94-2.06-.94-.94-2.06-.94 2.06-2.06.94zm-11 1L8.5 8.5l.94-2.06 2.06-.94-2.06-.94L8.5 2.5l-.94 2.06-2.06.94zm10 10l.94 2.06.94-2.06 2.06-.94-2.06-.94-.94-2.06-.94 2.06-2.06.94z\"/><path d=\"M17.41 7.96l-1.37-1.37c-.4-.4-.92-.59-1.43-.59-.52 0-1.04.2-1.43.59L10.3 9.45l-7.72 7.72c-.78.78-.78 2.05 0 2.83L4 21.41c.39.39.9.59 1.41.59.51 0 1.02-.2 1.41-.59l7.78-7.78 2.81-2.81c.8-.78.8-2.07 0-2.86zM5.41 20L4 18.59l7.72-7.72 1.47 1.35L5.41 20z\"/>\n",
              "  </svg>\n",
              "      </button>\n",
              "\n",
              "\n",
              "\n",
              "    <div id=\"df-0934584e-2042-400f-9858-2f84916e205e\">\n",
              "      <button class=\"colab-df-quickchart\" onclick=\"quickchart('df-0934584e-2042-400f-9858-2f84916e205e')\"\n",
              "              title=\"Suggest charts.\"\n",
              "              style=\"display:none;\">\n",
              "\n",
              "<svg xmlns=\"http://www.w3.org/2000/svg\" height=\"24px\"viewBox=\"0 0 24 24\"\n",
              "     width=\"24px\">\n",
              "    <g>\n",
              "        <path d=\"M19 3H5c-1.1 0-2 .9-2 2v14c0 1.1.9 2 2 2h14c1.1 0 2-.9 2-2V5c0-1.1-.9-2-2-2zM9 17H7v-7h2v7zm4 0h-2V7h2v10zm4 0h-2v-4h2v4z\"/>\n",
              "    </g>\n",
              "</svg>\n",
              "      </button>\n",
              "    </div>\n",
              "\n",
              "<style>\n",
              "  .colab-df-quickchart {\n",
              "    background-color: #E8F0FE;\n",
              "    border: none;\n",
              "    border-radius: 50%;\n",
              "    cursor: pointer;\n",
              "    display: none;\n",
              "    fill: #1967D2;\n",
              "    height: 32px;\n",
              "    padding: 0 0 0 0;\n",
              "    width: 32px;\n",
              "  }\n",
              "\n",
              "  .colab-df-quickchart:hover {\n",
              "    background-color: #E2EBFA;\n",
              "    box-shadow: 0px 1px 2px rgba(60, 64, 67, 0.3), 0px 1px 3px 1px rgba(60, 64, 67, 0.15);\n",
              "    fill: #174EA6;\n",
              "  }\n",
              "\n",
              "  [theme=dark] .colab-df-quickchart {\n",
              "    background-color: #3B4455;\n",
              "    fill: #D2E3FC;\n",
              "  }\n",
              "\n",
              "  [theme=dark] .colab-df-quickchart:hover {\n",
              "    background-color: #434B5C;\n",
              "    box-shadow: 0px 1px 3px 1px rgba(0, 0, 0, 0.15);\n",
              "    filter: drop-shadow(0px 1px 2px rgba(0, 0, 0, 0.3));\n",
              "    fill: #FFFFFF;\n",
              "  }\n",
              "</style>\n",
              "\n",
              "    <script>\n",
              "      async function quickchart(key) {\n",
              "        const containerElement = document.querySelector('#' + key);\n",
              "        const charts = await google.colab.kernel.invokeFunction(\n",
              "            'suggestCharts', [key], {});\n",
              "      }\n",
              "    </script>\n",
              "\n",
              "      <script>\n",
              "\n",
              "function displayQuickchartButton(domScope) {\n",
              "  let quickchartButtonEl =\n",
              "    domScope.querySelector('#df-0934584e-2042-400f-9858-2f84916e205e button.colab-df-quickchart');\n",
              "  quickchartButtonEl.style.display =\n",
              "    google.colab.kernel.accessAllowed ? 'block' : 'none';\n",
              "}\n",
              "\n",
              "        displayQuickchartButton(document);\n",
              "      </script>\n",
              "      <style>\n",
              "    .colab-df-container {\n",
              "      display:flex;\n",
              "      flex-wrap:wrap;\n",
              "      gap: 12px;\n",
              "    }\n",
              "\n",
              "    .colab-df-convert {\n",
              "      background-color: #E8F0FE;\n",
              "      border: none;\n",
              "      border-radius: 50%;\n",
              "      cursor: pointer;\n",
              "      display: none;\n",
              "      fill: #1967D2;\n",
              "      height: 32px;\n",
              "      padding: 0 0 0 0;\n",
              "      width: 32px;\n",
              "    }\n",
              "\n",
              "    .colab-df-convert:hover {\n",
              "      background-color: #E2EBFA;\n",
              "      box-shadow: 0px 1px 2px rgba(60, 64, 67, 0.3), 0px 1px 3px 1px rgba(60, 64, 67, 0.15);\n",
              "      fill: #174EA6;\n",
              "    }\n",
              "\n",
              "    [theme=dark] .colab-df-convert {\n",
              "      background-color: #3B4455;\n",
              "      fill: #D2E3FC;\n",
              "    }\n",
              "\n",
              "    [theme=dark] .colab-df-convert:hover {\n",
              "      background-color: #434B5C;\n",
              "      box-shadow: 0px 1px 3px 1px rgba(0, 0, 0, 0.15);\n",
              "      filter: drop-shadow(0px 1px 2px rgba(0, 0, 0, 0.3));\n",
              "      fill: #FFFFFF;\n",
              "    }\n",
              "  </style>\n",
              "\n",
              "      <script>\n",
              "        const buttonEl =\n",
              "          document.querySelector('#df-a53173f5-7840-44de-8dff-9fb5e154a0c9 button.colab-df-convert');\n",
              "        buttonEl.style.display =\n",
              "          google.colab.kernel.accessAllowed ? 'block' : 'none';\n",
              "\n",
              "        async function convertToInteractive(key) {\n",
              "          const element = document.querySelector('#df-a53173f5-7840-44de-8dff-9fb5e154a0c9');\n",
              "          const dataTable =\n",
              "            await google.colab.kernel.invokeFunction('convertToInteractive',\n",
              "                                                     [key], {});\n",
              "          if (!dataTable) return;\n",
              "\n",
              "          const docLinkHtml = 'Like what you see? Visit the ' +\n",
              "            '<a target=\"_blank\" href=https://colab.research.google.com/notebooks/data_table.ipynb>data table notebook</a>'\n",
              "            + ' to learn more about interactive tables.';\n",
              "          element.innerHTML = '';\n",
              "          dataTable['output_type'] = 'display_data';\n",
              "          await google.colab.output.renderOutput(dataTable, element);\n",
              "          const docLink = document.createElement('div');\n",
              "          docLink.innerHTML = docLinkHtml;\n",
              "          element.appendChild(docLink);\n",
              "        }\n",
              "      </script>\n",
              "    </div>\n",
              "  </div>\n"
            ],
            "text/plain": [
              "  Dataset   BID   ICC\n",
              "0  NYUadu  0.65  0.21\n",
              "1  NYUado  0.77  0.23\n",
              "2    UPSM  0.42  0.15\n",
              "3     BNU  0.49  0.21\n",
              "4     SWU  0.75  0.29"
            ]
          },
          "execution_count": 1,
          "metadata": {},
          "output_type": "execute_result"
        }
      ],
      "source": [
        "import pandas as pd\n",
        "data = pd.read_excel(\"/content/drive/MyDrive/Colab Notebooks/ICC_BID.xlsx\")\n",
        "data.head()"
      ]
    },
    {
      "cell_type": "code",
      "execution_count": null,
      "metadata": {
        "id": "5-ba-8PViPNx"
      },
      "outputs": [],
      "source": [
        "pip install pingouin"
      ]
    },
    {
      "cell_type": "code",
      "execution_count": null,
      "metadata": {
        "colab": {
          "base_uri": "https://localhost:8080/",
          "height": 100
        },
        "id": "IyVCOd_EjnA8",
        "outputId": "321d1855-33ff-43e9-9f0c-592c3e49c4c4"
      },
      "outputs": [
        {
          "data": {
            "text/html": [
              "\n",
              "\n",
              "  <div id=\"df-cf07b2b3-2216-488e-8a3f-9b7d7ae36b1e\">\n",
              "    <div class=\"colab-df-container\">\n",
              "      <div>\n",
              "<style scoped>\n",
              "    .dataframe tbody tr th:only-of-type {\n",
              "        vertical-align: middle;\n",
              "    }\n",
              "\n",
              "    .dataframe tbody tr th {\n",
              "        vertical-align: top;\n",
              "    }\n",
              "\n",
              "    .dataframe thead th {\n",
              "        text-align: right;\n",
              "    }\n",
              "</style>\n",
              "<table border=\"1\" class=\"dataframe\">\n",
              "  <thead>\n",
              "    <tr style=\"text-align: right;\">\n",
              "      <th></th>\n",
              "      <th>n</th>\n",
              "      <th>r</th>\n",
              "      <th>CI95%</th>\n",
              "      <th>p-val</th>\n",
              "      <th>BF10</th>\n",
              "      <th>power</th>\n",
              "    </tr>\n",
              "  </thead>\n",
              "  <tbody>\n",
              "    <tr>\n",
              "      <th>pearson</th>\n",
              "      <td>5</td>\n",
              "      <td>0.816914</td>\n",
              "      <td>[-0.23, 0.99]</td>\n",
              "      <td>0.091415</td>\n",
              "      <td>1.702</td>\n",
              "      <td>0.433355</td>\n",
              "    </tr>\n",
              "  </tbody>\n",
              "</table>\n",
              "</div>\n",
              "      <button class=\"colab-df-convert\" onclick=\"convertToInteractive('df-cf07b2b3-2216-488e-8a3f-9b7d7ae36b1e')\"\n",
              "              title=\"Convert this dataframe to an interactive table.\"\n",
              "              style=\"display:none;\">\n",
              "\n",
              "  <svg xmlns=\"http://www.w3.org/2000/svg\" height=\"24px\"viewBox=\"0 0 24 24\"\n",
              "       width=\"24px\">\n",
              "    <path d=\"M0 0h24v24H0V0z\" fill=\"none\"/>\n",
              "    <path d=\"M18.56 5.44l.94 2.06.94-2.06 2.06-.94-2.06-.94-.94-2.06-.94 2.06-2.06.94zm-11 1L8.5 8.5l.94-2.06 2.06-.94-2.06-.94L8.5 2.5l-.94 2.06-2.06.94zm10 10l.94 2.06.94-2.06 2.06-.94-2.06-.94-.94-2.06-.94 2.06-2.06.94z\"/><path d=\"M17.41 7.96l-1.37-1.37c-.4-.4-.92-.59-1.43-.59-.52 0-1.04.2-1.43.59L10.3 9.45l-7.72 7.72c-.78.78-.78 2.05 0 2.83L4 21.41c.39.39.9.59 1.41.59.51 0 1.02-.2 1.41-.59l7.78-7.78 2.81-2.81c.8-.78.8-2.07 0-2.86zM5.41 20L4 18.59l7.72-7.72 1.47 1.35L5.41 20z\"/>\n",
              "  </svg>\n",
              "      </button>\n",
              "\n",
              "\n",
              "\n",
              "    <div id=\"df-37547f5d-fc09-4cab-8160-c8df5ff94a49\">\n",
              "      <button class=\"colab-df-quickchart\" onclick=\"quickchart('df-37547f5d-fc09-4cab-8160-c8df5ff94a49')\"\n",
              "              title=\"Suggest charts.\"\n",
              "              style=\"display:none;\">\n",
              "\n",
              "<svg xmlns=\"http://www.w3.org/2000/svg\" height=\"24px\"viewBox=\"0 0 24 24\"\n",
              "     width=\"24px\">\n",
              "    <g>\n",
              "        <path d=\"M19 3H5c-1.1 0-2 .9-2 2v14c0 1.1.9 2 2 2h14c1.1 0 2-.9 2-2V5c0-1.1-.9-2-2-2zM9 17H7v-7h2v7zm4 0h-2V7h2v10zm4 0h-2v-4h2v4z\"/>\n",
              "    </g>\n",
              "</svg>\n",
              "      </button>\n",
              "    </div>\n",
              "\n",
              "<style>\n",
              "  .colab-df-quickchart {\n",
              "    background-color: #E8F0FE;\n",
              "    border: none;\n",
              "    border-radius: 50%;\n",
              "    cursor: pointer;\n",
              "    display: none;\n",
              "    fill: #1967D2;\n",
              "    height: 32px;\n",
              "    padding: 0 0 0 0;\n",
              "    width: 32px;\n",
              "  }\n",
              "\n",
              "  .colab-df-quickchart:hover {\n",
              "    background-color: #E2EBFA;\n",
              "    box-shadow: 0px 1px 2px rgba(60, 64, 67, 0.3), 0px 1px 3px 1px rgba(60, 64, 67, 0.15);\n",
              "    fill: #174EA6;\n",
              "  }\n",
              "\n",
              "  [theme=dark] .colab-df-quickchart {\n",
              "    background-color: #3B4455;\n",
              "    fill: #D2E3FC;\n",
              "  }\n",
              "\n",
              "  [theme=dark] .colab-df-quickchart:hover {\n",
              "    background-color: #434B5C;\n",
              "    box-shadow: 0px 1px 3px 1px rgba(0, 0, 0, 0.15);\n",
              "    filter: drop-shadow(0px 1px 2px rgba(0, 0, 0, 0.3));\n",
              "    fill: #FFFFFF;\n",
              "  }\n",
              "</style>\n",
              "\n",
              "    <script>\n",
              "      async function quickchart(key) {\n",
              "        const containerElement = document.querySelector('#' + key);\n",
              "        const charts = await google.colab.kernel.invokeFunction(\n",
              "            'suggestCharts', [key], {});\n",
              "      }\n",
              "    </script>\n",
              "\n",
              "      <script>\n",
              "\n",
              "function displayQuickchartButton(domScope) {\n",
              "  let quickchartButtonEl =\n",
              "    domScope.querySelector('#df-37547f5d-fc09-4cab-8160-c8df5ff94a49 button.colab-df-quickchart');\n",
              "  quickchartButtonEl.style.display =\n",
              "    google.colab.kernel.accessAllowed ? 'block' : 'none';\n",
              "}\n",
              "\n",
              "        displayQuickchartButton(document);\n",
              "      </script>\n",
              "      <style>\n",
              "    .colab-df-container {\n",
              "      display:flex;\n",
              "      flex-wrap:wrap;\n",
              "      gap: 12px;\n",
              "    }\n",
              "\n",
              "    .colab-df-convert {\n",
              "      background-color: #E8F0FE;\n",
              "      border: none;\n",
              "      border-radius: 50%;\n",
              "      cursor: pointer;\n",
              "      display: none;\n",
              "      fill: #1967D2;\n",
              "      height: 32px;\n",
              "      padding: 0 0 0 0;\n",
              "      width: 32px;\n",
              "    }\n",
              "\n",
              "    .colab-df-convert:hover {\n",
              "      background-color: #E2EBFA;\n",
              "      box-shadow: 0px 1px 2px rgba(60, 64, 67, 0.3), 0px 1px 3px 1px rgba(60, 64, 67, 0.15);\n",
              "      fill: #174EA6;\n",
              "    }\n",
              "\n",
              "    [theme=dark] .colab-df-convert {\n",
              "      background-color: #3B4455;\n",
              "      fill: #D2E3FC;\n",
              "    }\n",
              "\n",
              "    [theme=dark] .colab-df-convert:hover {\n",
              "      background-color: #434B5C;\n",
              "      box-shadow: 0px 1px 3px 1px rgba(0, 0, 0, 0.15);\n",
              "      filter: drop-shadow(0px 1px 2px rgba(0, 0, 0, 0.3));\n",
              "      fill: #FFFFFF;\n",
              "    }\n",
              "  </style>\n",
              "\n",
              "      <script>\n",
              "        const buttonEl =\n",
              "          document.querySelector('#df-cf07b2b3-2216-488e-8a3f-9b7d7ae36b1e button.colab-df-convert');\n",
              "        buttonEl.style.display =\n",
              "          google.colab.kernel.accessAllowed ? 'block' : 'none';\n",
              "\n",
              "        async function convertToInteractive(key) {\n",
              "          const element = document.querySelector('#df-cf07b2b3-2216-488e-8a3f-9b7d7ae36b1e');\n",
              "          const dataTable =\n",
              "            await google.colab.kernel.invokeFunction('convertToInteractive',\n",
              "                                                     [key], {});\n",
              "          if (!dataTable) return;\n",
              "\n",
              "          const docLinkHtml = 'Like what you see? Visit the ' +\n",
              "            '<a target=\"_blank\" href=https://colab.research.google.com/notebooks/data_table.ipynb>data table notebook</a>'\n",
              "            + ' to learn more about interactive tables.';\n",
              "          element.innerHTML = '';\n",
              "          dataTable['output_type'] = 'display_data';\n",
              "          await google.colab.output.renderOutput(dataTable, element);\n",
              "          const docLink = document.createElement('div');\n",
              "          docLink.innerHTML = docLinkHtml;\n",
              "          element.appendChild(docLink);\n",
              "        }\n",
              "      </script>\n",
              "    </div>\n",
              "  </div>\n"
            ],
            "text/plain": [
              "         n         r          CI95%     p-val   BF10     power\n",
              "pearson  5  0.816914  [-0.23, 0.99]  0.091415  1.702  0.433355"
            ]
          },
          "execution_count": 16,
          "metadata": {},
          "output_type": "execute_result"
        }
      ],
      "source": [
        "import pingouin as pg\n",
        "pg.corr(data['BID'], data['ICC'], method = 'pearson', alternative='two-sided', correction = True)"
      ]
    },
    {
      "cell_type": "code",
      "source": [
        "import pandas as pd\n",
        "import pingouin as pg\n",
        "data = pd.read_excel(\"/content/drive/MyDrive/manuscript_files/ID_DP.xlsx\", sheet_name = 'paired_All_2')\n",
        "data.head()\n",
        "\n"
      ],
      "metadata": {
        "colab": {
          "base_uri": "https://localhost:8080/",
          "height": 260
        },
        "id": "UEbZaAXLGMah",
        "outputId": "881a9cd2-95a3-4f4a-cf73-84375018f696"
      },
      "execution_count": null,
      "outputs": [
        {
          "output_type": "execute_result",
          "data": {
            "text/plain": [
              "  Dataset   All  DP_Top1  DP_Top75  DP_Top10\n",
              "0     BNU  0.49     0.35      0.50      0.50\n",
              "1  NYUado  0.77     0.50      0.77      0.75\n",
              "2  NYUadu  0.65     0.47      0.70      0.68\n",
              "3     SWU  0.75     0.64      0.76      0.77\n",
              "4    UPSM  0.42     0.21      0.43      0.37"
            ],
            "text/html": [
              "\n",
              "\n",
              "  <div id=\"df-2fdfb45e-f722-4770-8e40-c633cfb3389a\">\n",
              "    <div class=\"colab-df-container\">\n",
              "      <div>\n",
              "<style scoped>\n",
              "    .dataframe tbody tr th:only-of-type {\n",
              "        vertical-align: middle;\n",
              "    }\n",
              "\n",
              "    .dataframe tbody tr th {\n",
              "        vertical-align: top;\n",
              "    }\n",
              "\n",
              "    .dataframe thead th {\n",
              "        text-align: right;\n",
              "    }\n",
              "</style>\n",
              "<table border=\"1\" class=\"dataframe\">\n",
              "  <thead>\n",
              "    <tr style=\"text-align: right;\">\n",
              "      <th></th>\n",
              "      <th>Dataset</th>\n",
              "      <th>All</th>\n",
              "      <th>DP_Top1</th>\n",
              "      <th>DP_Top75</th>\n",
              "      <th>DP_Top10</th>\n",
              "    </tr>\n",
              "  </thead>\n",
              "  <tbody>\n",
              "    <tr>\n",
              "      <th>0</th>\n",
              "      <td>BNU</td>\n",
              "      <td>0.49</td>\n",
              "      <td>0.35</td>\n",
              "      <td>0.50</td>\n",
              "      <td>0.50</td>\n",
              "    </tr>\n",
              "    <tr>\n",
              "      <th>1</th>\n",
              "      <td>NYUado</td>\n",
              "      <td>0.77</td>\n",
              "      <td>0.50</td>\n",
              "      <td>0.77</td>\n",
              "      <td>0.75</td>\n",
              "    </tr>\n",
              "    <tr>\n",
              "      <th>2</th>\n",
              "      <td>NYUadu</td>\n",
              "      <td>0.65</td>\n",
              "      <td>0.47</td>\n",
              "      <td>0.70</td>\n",
              "      <td>0.68</td>\n",
              "    </tr>\n",
              "    <tr>\n",
              "      <th>3</th>\n",
              "      <td>SWU</td>\n",
              "      <td>0.75</td>\n",
              "      <td>0.64</td>\n",
              "      <td>0.76</td>\n",
              "      <td>0.77</td>\n",
              "    </tr>\n",
              "    <tr>\n",
              "      <th>4</th>\n",
              "      <td>UPSM</td>\n",
              "      <td>0.42</td>\n",
              "      <td>0.21</td>\n",
              "      <td>0.43</td>\n",
              "      <td>0.37</td>\n",
              "    </tr>\n",
              "  </tbody>\n",
              "</table>\n",
              "</div>\n",
              "      <button class=\"colab-df-convert\" onclick=\"convertToInteractive('df-2fdfb45e-f722-4770-8e40-c633cfb3389a')\"\n",
              "              title=\"Convert this dataframe to an interactive table.\"\n",
              "              style=\"display:none;\">\n",
              "\n",
              "  <svg xmlns=\"http://www.w3.org/2000/svg\" height=\"24px\"viewBox=\"0 0 24 24\"\n",
              "       width=\"24px\">\n",
              "    <path d=\"M0 0h24v24H0V0z\" fill=\"none\"/>\n",
              "    <path d=\"M18.56 5.44l.94 2.06.94-2.06 2.06-.94-2.06-.94-.94-2.06-.94 2.06-2.06.94zm-11 1L8.5 8.5l.94-2.06 2.06-.94-2.06-.94L8.5 2.5l-.94 2.06-2.06.94zm10 10l.94 2.06.94-2.06 2.06-.94-2.06-.94-.94-2.06-.94 2.06-2.06.94z\"/><path d=\"M17.41 7.96l-1.37-1.37c-.4-.4-.92-.59-1.43-.59-.52 0-1.04.2-1.43.59L10.3 9.45l-7.72 7.72c-.78.78-.78 2.05 0 2.83L4 21.41c.39.39.9.59 1.41.59.51 0 1.02-.2 1.41-.59l7.78-7.78 2.81-2.81c.8-.78.8-2.07 0-2.86zM5.41 20L4 18.59l7.72-7.72 1.47 1.35L5.41 20z\"/>\n",
              "  </svg>\n",
              "      </button>\n",
              "\n",
              "\n",
              "\n",
              "    <div id=\"df-c66ea858-b931-4ad8-9736-e569b5b6a84e\">\n",
              "      <button class=\"colab-df-quickchart\" onclick=\"quickchart('df-c66ea858-b931-4ad8-9736-e569b5b6a84e')\"\n",
              "              title=\"Suggest charts.\"\n",
              "              style=\"display:none;\">\n",
              "\n",
              "<svg xmlns=\"http://www.w3.org/2000/svg\" height=\"24px\"viewBox=\"0 0 24 24\"\n",
              "     width=\"24px\">\n",
              "    <g>\n",
              "        <path d=\"M19 3H5c-1.1 0-2 .9-2 2v14c0 1.1.9 2 2 2h14c1.1 0 2-.9 2-2V5c0-1.1-.9-2-2-2zM9 17H7v-7h2v7zm4 0h-2V7h2v10zm4 0h-2v-4h2v4z\"/>\n",
              "    </g>\n",
              "</svg>\n",
              "      </button>\n",
              "    </div>\n",
              "\n",
              "<style>\n",
              "  .colab-df-quickchart {\n",
              "    background-color: #E8F0FE;\n",
              "    border: none;\n",
              "    border-radius: 50%;\n",
              "    cursor: pointer;\n",
              "    display: none;\n",
              "    fill: #1967D2;\n",
              "    height: 32px;\n",
              "    padding: 0 0 0 0;\n",
              "    width: 32px;\n",
              "  }\n",
              "\n",
              "  .colab-df-quickchart:hover {\n",
              "    background-color: #E2EBFA;\n",
              "    box-shadow: 0px 1px 2px rgba(60, 64, 67, 0.3), 0px 1px 3px 1px rgba(60, 64, 67, 0.15);\n",
              "    fill: #174EA6;\n",
              "  }\n",
              "\n",
              "  [theme=dark] .colab-df-quickchart {\n",
              "    background-color: #3B4455;\n",
              "    fill: #D2E3FC;\n",
              "  }\n",
              "\n",
              "  [theme=dark] .colab-df-quickchart:hover {\n",
              "    background-color: #434B5C;\n",
              "    box-shadow: 0px 1px 3px 1px rgba(0, 0, 0, 0.15);\n",
              "    filter: drop-shadow(0px 1px 2px rgba(0, 0, 0, 0.3));\n",
              "    fill: #FFFFFF;\n",
              "  }\n",
              "</style>\n",
              "\n",
              "    <script>\n",
              "      async function quickchart(key) {\n",
              "        const containerElement = document.querySelector('#' + key);\n",
              "        const charts = await google.colab.kernel.invokeFunction(\n",
              "            'suggestCharts', [key], {});\n",
              "      }\n",
              "    </script>\n",
              "\n",
              "      <script>\n",
              "\n",
              "function displayQuickchartButton(domScope) {\n",
              "  let quickchartButtonEl =\n",
              "    domScope.querySelector('#df-c66ea858-b931-4ad8-9736-e569b5b6a84e button.colab-df-quickchart');\n",
              "  quickchartButtonEl.style.display =\n",
              "    google.colab.kernel.accessAllowed ? 'block' : 'none';\n",
              "}\n",
              "\n",
              "        displayQuickchartButton(document);\n",
              "      </script>\n",
              "      <style>\n",
              "    .colab-df-container {\n",
              "      display:flex;\n",
              "      flex-wrap:wrap;\n",
              "      gap: 12px;\n",
              "    }\n",
              "\n",
              "    .colab-df-convert {\n",
              "      background-color: #E8F0FE;\n",
              "      border: none;\n",
              "      border-radius: 50%;\n",
              "      cursor: pointer;\n",
              "      display: none;\n",
              "      fill: #1967D2;\n",
              "      height: 32px;\n",
              "      padding: 0 0 0 0;\n",
              "      width: 32px;\n",
              "    }\n",
              "\n",
              "    .colab-df-convert:hover {\n",
              "      background-color: #E2EBFA;\n",
              "      box-shadow: 0px 1px 2px rgba(60, 64, 67, 0.3), 0px 1px 3px 1px rgba(60, 64, 67, 0.15);\n",
              "      fill: #174EA6;\n",
              "    }\n",
              "\n",
              "    [theme=dark] .colab-df-convert {\n",
              "      background-color: #3B4455;\n",
              "      fill: #D2E3FC;\n",
              "    }\n",
              "\n",
              "    [theme=dark] .colab-df-convert:hover {\n",
              "      background-color: #434B5C;\n",
              "      box-shadow: 0px 1px 3px 1px rgba(0, 0, 0, 0.15);\n",
              "      filter: drop-shadow(0px 1px 2px rgba(0, 0, 0, 0.3));\n",
              "      fill: #FFFFFF;\n",
              "    }\n",
              "  </style>\n",
              "\n",
              "      <script>\n",
              "        const buttonEl =\n",
              "          document.querySelector('#df-2fdfb45e-f722-4770-8e40-c633cfb3389a button.colab-df-convert');\n",
              "        buttonEl.style.display =\n",
              "          google.colab.kernel.accessAllowed ? 'block' : 'none';\n",
              "\n",
              "        async function convertToInteractive(key) {\n",
              "          const element = document.querySelector('#df-2fdfb45e-f722-4770-8e40-c633cfb3389a');\n",
              "          const dataTable =\n",
              "            await google.colab.kernel.invokeFunction('convertToInteractive',\n",
              "                                                     [key], {});\n",
              "          if (!dataTable) return;\n",
              "\n",
              "          const docLinkHtml = 'Like what you see? Visit the ' +\n",
              "            '<a target=\"_blank\" href=https://colab.research.google.com/notebooks/data_table.ipynb>data table notebook</a>'\n",
              "            + ' to learn more about interactive tables.';\n",
              "          element.innerHTML = '';\n",
              "          dataTable['output_type'] = 'display_data';\n",
              "          await google.colab.output.renderOutput(dataTable, element);\n",
              "          const docLink = document.createElement('div');\n",
              "          docLink.innerHTML = docLinkHtml;\n",
              "          element.appendChild(docLink);\n",
              "        }\n",
              "      </script>\n",
              "    </div>\n",
              "  </div>\n"
            ]
          },
          "metadata": {},
          "execution_count": 2
        }
      ]
    },
    {
      "cell_type": "code",
      "source": [
        "pg.ttest(data['DP_Top10'], data['All'], paired=True)"
      ],
      "metadata": {
        "id": "eQs8XrMTG6Rt",
        "outputId": "61877721-c957-41a9-fad7-1d08dedc298b",
        "colab": {
          "base_uri": "https://localhost:8080/",
          "height": 100
        }
      },
      "execution_count": null,
      "outputs": [
        {
          "output_type": "execute_result",
          "data": {
            "text/plain": [
              "               T  dof alternative     p-val          CI95%   cohen-d   BF10  \\\n",
              "T-test -0.136717    4   two-sided  0.897859  [-0.04, 0.04]  0.012148  0.401   \n",
              "\n",
              "           power  \n",
              "T-test  0.050052  "
            ],
            "text/html": [
              "\n",
              "\n",
              "  <div id=\"df-61b2ca8f-546f-47da-9b8f-4d8dd0a60e77\">\n",
              "    <div class=\"colab-df-container\">\n",
              "      <div>\n",
              "<style scoped>\n",
              "    .dataframe tbody tr th:only-of-type {\n",
              "        vertical-align: middle;\n",
              "    }\n",
              "\n",
              "    .dataframe tbody tr th {\n",
              "        vertical-align: top;\n",
              "    }\n",
              "\n",
              "    .dataframe thead th {\n",
              "        text-align: right;\n",
              "    }\n",
              "</style>\n",
              "<table border=\"1\" class=\"dataframe\">\n",
              "  <thead>\n",
              "    <tr style=\"text-align: right;\">\n",
              "      <th></th>\n",
              "      <th>T</th>\n",
              "      <th>dof</th>\n",
              "      <th>alternative</th>\n",
              "      <th>p-val</th>\n",
              "      <th>CI95%</th>\n",
              "      <th>cohen-d</th>\n",
              "      <th>BF10</th>\n",
              "      <th>power</th>\n",
              "    </tr>\n",
              "  </thead>\n",
              "  <tbody>\n",
              "    <tr>\n",
              "      <th>T-test</th>\n",
              "      <td>-0.136717</td>\n",
              "      <td>4</td>\n",
              "      <td>two-sided</td>\n",
              "      <td>0.897859</td>\n",
              "      <td>[-0.04, 0.04]</td>\n",
              "      <td>0.012148</td>\n",
              "      <td>0.401</td>\n",
              "      <td>0.050052</td>\n",
              "    </tr>\n",
              "  </tbody>\n",
              "</table>\n",
              "</div>\n",
              "      <button class=\"colab-df-convert\" onclick=\"convertToInteractive('df-61b2ca8f-546f-47da-9b8f-4d8dd0a60e77')\"\n",
              "              title=\"Convert this dataframe to an interactive table.\"\n",
              "              style=\"display:none;\">\n",
              "\n",
              "  <svg xmlns=\"http://www.w3.org/2000/svg\" height=\"24px\"viewBox=\"0 0 24 24\"\n",
              "       width=\"24px\">\n",
              "    <path d=\"M0 0h24v24H0V0z\" fill=\"none\"/>\n",
              "    <path d=\"M18.56 5.44l.94 2.06.94-2.06 2.06-.94-2.06-.94-.94-2.06-.94 2.06-2.06.94zm-11 1L8.5 8.5l.94-2.06 2.06-.94-2.06-.94L8.5 2.5l-.94 2.06-2.06.94zm10 10l.94 2.06.94-2.06 2.06-.94-2.06-.94-.94-2.06-.94 2.06-2.06.94z\"/><path d=\"M17.41 7.96l-1.37-1.37c-.4-.4-.92-.59-1.43-.59-.52 0-1.04.2-1.43.59L10.3 9.45l-7.72 7.72c-.78.78-.78 2.05 0 2.83L4 21.41c.39.39.9.59 1.41.59.51 0 1.02-.2 1.41-.59l7.78-7.78 2.81-2.81c.8-.78.8-2.07 0-2.86zM5.41 20L4 18.59l7.72-7.72 1.47 1.35L5.41 20z\"/>\n",
              "  </svg>\n",
              "      </button>\n",
              "\n",
              "\n",
              "\n",
              "    <div id=\"df-0584cda3-1eb0-4d50-a817-0e0c6fe08349\">\n",
              "      <button class=\"colab-df-quickchart\" onclick=\"quickchart('df-0584cda3-1eb0-4d50-a817-0e0c6fe08349')\"\n",
              "              title=\"Suggest charts.\"\n",
              "              style=\"display:none;\">\n",
              "\n",
              "<svg xmlns=\"http://www.w3.org/2000/svg\" height=\"24px\"viewBox=\"0 0 24 24\"\n",
              "     width=\"24px\">\n",
              "    <g>\n",
              "        <path d=\"M19 3H5c-1.1 0-2 .9-2 2v14c0 1.1.9 2 2 2h14c1.1 0 2-.9 2-2V5c0-1.1-.9-2-2-2zM9 17H7v-7h2v7zm4 0h-2V7h2v10zm4 0h-2v-4h2v4z\"/>\n",
              "    </g>\n",
              "</svg>\n",
              "      </button>\n",
              "    </div>\n",
              "\n",
              "<style>\n",
              "  .colab-df-quickchart {\n",
              "    background-color: #E8F0FE;\n",
              "    border: none;\n",
              "    border-radius: 50%;\n",
              "    cursor: pointer;\n",
              "    display: none;\n",
              "    fill: #1967D2;\n",
              "    height: 32px;\n",
              "    padding: 0 0 0 0;\n",
              "    width: 32px;\n",
              "  }\n",
              "\n",
              "  .colab-df-quickchart:hover {\n",
              "    background-color: #E2EBFA;\n",
              "    box-shadow: 0px 1px 2px rgba(60, 64, 67, 0.3), 0px 1px 3px 1px rgba(60, 64, 67, 0.15);\n",
              "    fill: #174EA6;\n",
              "  }\n",
              "\n",
              "  [theme=dark] .colab-df-quickchart {\n",
              "    background-color: #3B4455;\n",
              "    fill: #D2E3FC;\n",
              "  }\n",
              "\n",
              "  [theme=dark] .colab-df-quickchart:hover {\n",
              "    background-color: #434B5C;\n",
              "    box-shadow: 0px 1px 3px 1px rgba(0, 0, 0, 0.15);\n",
              "    filter: drop-shadow(0px 1px 2px rgba(0, 0, 0, 0.3));\n",
              "    fill: #FFFFFF;\n",
              "  }\n",
              "</style>\n",
              "\n",
              "    <script>\n",
              "      async function quickchart(key) {\n",
              "        const containerElement = document.querySelector('#' + key);\n",
              "        const charts = await google.colab.kernel.invokeFunction(\n",
              "            'suggestCharts', [key], {});\n",
              "      }\n",
              "    </script>\n",
              "\n",
              "      <script>\n",
              "\n",
              "function displayQuickchartButton(domScope) {\n",
              "  let quickchartButtonEl =\n",
              "    domScope.querySelector('#df-0584cda3-1eb0-4d50-a817-0e0c6fe08349 button.colab-df-quickchart');\n",
              "  quickchartButtonEl.style.display =\n",
              "    google.colab.kernel.accessAllowed ? 'block' : 'none';\n",
              "}\n",
              "\n",
              "        displayQuickchartButton(document);\n",
              "      </script>\n",
              "      <style>\n",
              "    .colab-df-container {\n",
              "      display:flex;\n",
              "      flex-wrap:wrap;\n",
              "      gap: 12px;\n",
              "    }\n",
              "\n",
              "    .colab-df-convert {\n",
              "      background-color: #E8F0FE;\n",
              "      border: none;\n",
              "      border-radius: 50%;\n",
              "      cursor: pointer;\n",
              "      display: none;\n",
              "      fill: #1967D2;\n",
              "      height: 32px;\n",
              "      padding: 0 0 0 0;\n",
              "      width: 32px;\n",
              "    }\n",
              "\n",
              "    .colab-df-convert:hover {\n",
              "      background-color: #E2EBFA;\n",
              "      box-shadow: 0px 1px 2px rgba(60, 64, 67, 0.3), 0px 1px 3px 1px rgba(60, 64, 67, 0.15);\n",
              "      fill: #174EA6;\n",
              "    }\n",
              "\n",
              "    [theme=dark] .colab-df-convert {\n",
              "      background-color: #3B4455;\n",
              "      fill: #D2E3FC;\n",
              "    }\n",
              "\n",
              "    [theme=dark] .colab-df-convert:hover {\n",
              "      background-color: #434B5C;\n",
              "      box-shadow: 0px 1px 3px 1px rgba(0, 0, 0, 0.15);\n",
              "      filter: drop-shadow(0px 1px 2px rgba(0, 0, 0, 0.3));\n",
              "      fill: #FFFFFF;\n",
              "    }\n",
              "  </style>\n",
              "\n",
              "      <script>\n",
              "        const buttonEl =\n",
              "          document.querySelector('#df-61b2ca8f-546f-47da-9b8f-4d8dd0a60e77 button.colab-df-convert');\n",
              "        buttonEl.style.display =\n",
              "          google.colab.kernel.accessAllowed ? 'block' : 'none';\n",
              "\n",
              "        async function convertToInteractive(key) {\n",
              "          const element = document.querySelector('#df-61b2ca8f-546f-47da-9b8f-4d8dd0a60e77');\n",
              "          const dataTable =\n",
              "            await google.colab.kernel.invokeFunction('convertToInteractive',\n",
              "                                                     [key], {});\n",
              "          if (!dataTable) return;\n",
              "\n",
              "          const docLinkHtml = 'Like what you see? Visit the ' +\n",
              "            '<a target=\"_blank\" href=https://colab.research.google.com/notebooks/data_table.ipynb>data table notebook</a>'\n",
              "            + ' to learn more about interactive tables.';\n",
              "          element.innerHTML = '';\n",
              "          dataTable['output_type'] = 'display_data';\n",
              "          await google.colab.output.renderOutput(dataTable, element);\n",
              "          const docLink = document.createElement('div');\n",
              "          docLink.innerHTML = docLinkHtml;\n",
              "          element.appendChild(docLink);\n",
              "        }\n",
              "      </script>\n",
              "    </div>\n",
              "  </div>\n"
            ]
          },
          "metadata": {},
          "execution_count": 5
        }
      ]
    }
  ],
  "metadata": {
    "colab": {
      "collapsed_sections": [
        "GChQTnPLpVnZ",
        "TSNgB_s1B4mr",
        "8jLjOguJWonh",
        "rFudR-W8Vy9O"
      ],
      "provenance": []
    },
    "kernelspec": {
      "display_name": "Python 3",
      "name": "python3"
    },
    "language_info": {
      "name": "python"
    }
  },
  "nbformat": 4,
  "nbformat_minor": 0
}